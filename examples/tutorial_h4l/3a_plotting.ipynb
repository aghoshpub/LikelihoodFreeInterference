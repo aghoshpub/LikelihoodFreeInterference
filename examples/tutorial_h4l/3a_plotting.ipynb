{
 "cells": [
  {
   "cell_type": "markdown",
   "metadata": {},
   "source": [
    "# MadMiner particle physics tutorial\n",
    "\n",
    "# Part 3a: Training a likelihood ratio estimator\n",
    "\n",
    "Johann Brehmer, Felix Kling, Irina Espejo, and Kyle Cranmer 2018-2019"
   ]
  },
  {
   "cell_type": "markdown",
   "metadata": {},
   "source": [
    "In part 3a of this tutorial we will finally train a neural network to estimate likelihood ratios. We assume that you have run part 1 and 2a of this tutorial. If, instead of 2a, you have run part 2b, you just have to load a different filename later."
   ]
  },
  {
   "cell_type": "markdown",
   "metadata": {},
   "source": [
    "## Preparations"
   ]
  },
  {
   "cell_type": "code",
   "execution_count": 1,
   "metadata": {},
   "outputs": [],
   "source": [
    "from __future__ import absolute_import, division, print_function, unicode_literals\n",
    "\n",
    "import logging\n",
    "import numpy as np\n",
    "import matplotlib\n",
    "from matplotlib import pyplot as plt\n",
    "%matplotlib inline\n",
    "\n",
    "from madminer.sampling import SampleAugmenter\n",
    "from madminer import sampling\n",
    "from madminer.ml import ParameterizedRatioEstimator\n"
   ]
  },
  {
   "cell_type": "code",
   "execution_count": 2,
   "metadata": {},
   "outputs": [],
   "source": [
    "# MadMiner output\n",
    "logging.basicConfig(\n",
    "    format='%(asctime)-5.5s %(name)-20.20s %(levelname)-7.7s %(message)s',\n",
    "    datefmt='%H:%M',\n",
    "    level=logging.INFO\n",
    ")\n",
    "\n",
    "# Output of all other modules (e.g. matplotlib)\n",
    "for key in logging.Logger.manager.loggerDict:\n",
    "    if \"madminer\" not in key:\n",
    "        logging.getLogger(key).setLevel(logging.WARNING)"
   ]
  },
  {
   "cell_type": "markdown",
   "metadata": {},
   "source": [
    "## 1. Make (unweighted) training and test samples with augmented data"
   ]
  },
  {
   "cell_type": "markdown",
   "metadata": {},
   "source": [
    "At this point, we have all the information we need from the simulations. But the data is not quite ready to be used for machine learning. The `madminer.sampling` class `SampleAugmenter` will take care of the remaining book-keeping steps before we can train our estimators:\n",
    "\n",
    "First, it unweights the samples, i.e. for a given parameter vector `theta` (or a distribution `p(theta)`) it picks events `x` such that their distribution follows `p(x|theta)`. The selected samples will all come from the event file we have so far, but their frequency is changed -- some events will appear multiple times, some will disappear.\n",
    "\n",
    "Second, `SampleAugmenter` calculates all the augmented data (\"gold\") that is the key to our new inference methods. Depending on the specific technique, these are the joint likelihood ratio and / or the joint score. It saves all these pieces of information for the selected events in a set of numpy files that can easily be used in any machine learning framework."
   ]
  },
  {
   "cell_type": "code",
   "execution_count": 3,
   "metadata": {},
   "outputs": [
    {
     "name": "stderr",
     "output_type": "stream",
     "text": [
      "14:33 madminer.analysis    INFO    Loading data from data/delphes_data_shuffled.h5\n",
      "14:33 madminer.analysis    INFO    Found 1 parameters\n",
      "14:33 madminer.analysis    INFO    Did not find nuisance parameters\n",
      "14:33 madminer.analysis    INFO    Found 5 benchmarks, of which 5 physical\n",
      "14:33 madminer.analysis    INFO    Found 35 observables\n",
      "14:33 madminer.analysis    INFO    Found 3530298 events\n",
      "14:33 madminer.analysis    INFO      921404 signal events sampled from benchmark no-higgs\n",
      "14:33 madminer.analysis    INFO      868860 signal events sampled from benchmark sm\n",
      "14:33 madminer.analysis    INFO      867310 signal events sampled from benchmark 5-higgs\n",
      "14:33 madminer.analysis    INFO      872724 signal events sampled from benchmark 16-higgs\n",
      "14:33 madminer.analysis    INFO    Found morphing setup with 5 components\n",
      "14:33 madminer.analysis    INFO    Did not find nuisance morphing setup\n"
     ]
    }
   ],
   "source": [
    "sampler = SampleAugmenter('data/delphes_data_shuffled.h5')"
   ]
  },
  {
   "cell_type": "markdown",
   "metadata": {},
   "source": [
    "The `SampleAugmenter` class defines five different high-level functions to generate train or test samples:\n",
    "- `sample_train_plain()`, which only saves observations x, for instance for histograms or ABC;\n",
    "- `sample_train_local()` for methods like SALLY and SALLINO, which will be demonstrated in the second part of the tutorial;\n",
    "- `sample_train_density()` for neural density estimation techniques like MAF or SCANDAL;\n",
    "- `sample_train_ratio()` for techniques like CARL, ROLR, CASCAL, and RASCAL, when only theta0 is parameterized;\n",
    "- `sample_train_more_ratios()` for the same techniques, but with both theta0 and theta1 parameterized;\n",
    "- `sample_test()` for the evaluation of any method.\n",
    "\n",
    "For the arguments `theta`, `theta0`, or `theta1`, you can (and should!) use the helper functions `benchmark()`, `benchmarks()`, `morphing_point()`, `morphing_points()`, and `random_morphing_points()`, all defined in the `madminer.sampling` module.\n",
    "\n",
    "Here we'll train a likelihood ratio estimator with the ALICES method, so we focus on the `extract_samples_train_ratio()` function. We'll sample the numerator hypothesis in the likelihood ratio with 1000 points drawn from a Gaussian prior, and fix the denominator hypothesis to the SM.\n",
    "\n",
    "Note the keyword `sample_only_from_closest_benchmark=True`, which makes sure that for each parameter point we only use the events that were originally (in MG) generated from the closest benchmark. This reduces the statistical fluctuations in the outcome quite a bit."
   ]
  },
  {
   "cell_type": "markdown",
   "metadata": {},
   "source": [
    "## 4. Evaluate likelihood ratio estimator"
   ]
  },
  {
   "cell_type": "markdown",
   "metadata": {},
   "source": [
    "`estimator.evaluate_log_likelihood_ratio(theta,x)` estimated the log likelihood ratio and the score for all combination between the given phase-space points `x` and parameters `theta`. That is, if given 100 events `x` and a grid of 25 `theta` points, it will return 25\\*100 estimates for the log likelihood ratio and 25\\*100 estimates for the score, both indexed by `[i_theta,i_x]`."
   ]
  },
  {
   "cell_type": "code",
   "execution_count": 4,
   "metadata": {},
   "outputs": [],
   "source": [
    "theta_each = np.linspace(0.,16.,51)\n",
    "#theta0, theta1 = np.meshgrid(theta_each, theta_each)\n",
    "theta0 = np.meshgrid(theta_each)[0]\n",
    "#theta_grid = np.vstack((theta0.flatten())).T # doesn't work\n",
    "theta_grid = np.vstack((theta0.flatten()))\n",
    "np.save('data/samples/theta_grid.npy', theta_grid)\n",
    "\n",
    "theta_denom = np.array([[0.]])\n",
    "###theta_denom = np.array([[1.]])\n",
    "np.save('data/samples/theta_ref.npy', theta_denom)\n"
   ]
  },
  {
   "cell_type": "code",
   "execution_count": 5,
   "metadata": {},
   "outputs": [
    {
     "data": {
      "text/plain": [
       "((51,), (51, 1))"
      ]
     },
     "execution_count": 5,
     "metadata": {},
     "output_type": "execute_result"
    }
   ],
   "source": [
    "theta0.shape, theta_grid.shape"
   ]
  },
  {
   "cell_type": "code",
   "execution_count": 6,
   "metadata": {},
   "outputs": [
    {
     "name": "stderr",
     "output_type": "stream",
     "text": [
      "14:33 madminer.ml          INFO    Loading model from models/alices\n",
      "14:33 madminer.ml          WARNING Parameter scaling information not found in models/alices\n",
      "14:33 madminer.ml          INFO    Loading evaluation data\n",
      "14:33 madminer.utils.vario INFO      Loading data/samples/x_test.npy into RAM\n",
      "14:33 madminer.utils.vario INFO      Loading data/samples/theta_grid.npy into RAM\n",
      "14:33 madminer.ml          INFO    Starting ratio evaluation for 51000000 x-theta combinations\n",
      "14:56 madminer.ml          INFO    Evaluation done\n"
     ]
    }
   ],
   "source": [
    "estimator = ParameterizedRatioEstimator(\n",
    "    n_hidden=(300,),\n",
    "    activation=\"tanh\"\n",
    ")\n",
    "estimator.load('models/alices')\n",
    "\n",
    "log_r_hat, _ = estimator.evaluate_log_likelihood_ratio(\n",
    "    theta='data/samples/theta_grid.npy',\n",
    "    x='data/samples/x_test.npy',\n",
    "    evaluate_score=False\n",
    ")"
   ]
  },
  {
   "cell_type": "markdown",
   "metadata": {},
   "source": [
    "Let's look at the result:"
   ]
  },
  {
   "cell_type": "code",
   "execution_count": 7,
   "metadata": {},
   "outputs": [
    {
     "data": {
      "image/png": "[encoded data removed]",
      "text/plain": [
       "<Figure size 432x360 with 1 Axes>"
      ]
     },
     "metadata": {
      "needs_background": "light"
     },
     "output_type": "display_data"
    }
   ],
   "source": [
    "bin_size = theta_each[1] - theta_each[0]\n",
    "edges = np.linspace(theta_each[0] - bin_size/2, theta_each[-1] + bin_size/2, len(theta_each)+1)\n",
    "\n",
    "fig = plt.figure(figsize=(6,5))\n",
    "ax = plt.gca()\n",
    "\n",
    "expected_llr = np.mean(log_r_hat,axis=1)\n",
    "#best_fit = theta_grid[np.argmin(-2.*expected_llr)]\n",
    "best_fit = theta_grid[np.argmin(-2.*expected_llr)]\n",
    "\n",
    "# plt.scatter(theta_grid**2, -2. * expected_llr)\n",
    "# plt.scatter(best_fit**2, (-2. * expected_llr).min(), s=80., color='black', marker='*', label=\"Best Fit\")\n",
    "plt.scatter(theta_grid, -2. * expected_llr)\n",
    "plt.scatter(best_fit, (-2. * expected_llr).min(), s=80., color='black', marker='*', label=\"Best Fit\")\n",
    "print (best_fit)\n",
    "\n",
    "\n",
    "#plt.xlabel(r'$\\theta_0$')\n",
    "#plt.xlabel(r'$\\mu$')\n",
    "plt.ylabel(r'-2* expected llr Alices')\n",
    "\n",
    "plt.tight_layout()\n",
    "plt.legend()\n",
    "plt.show()\n"
   ]
  },
  {
   "cell_type": "markdown",
   "metadata": {},
   "source": [
    "Note that in this tutorial our sample size was very small, and the network might not really have a chance to converge to the correct likelihood ratio function. So don't worry if you find a minimum that is not at the right point (the SM, i.e. the origin in this plot). Feel free to dial up the event numbers in the run card as well as the training samples and see what happens then!"
   ]
  },
  {
   "cell_type": "code",
   "execution_count": 8,
   "metadata": {},
   "outputs": [
    {
     "data": {
      "text/plain": [
       "array([[ 0.  ],\n",
       "       [ 0.32],\n",
       "       [ 0.64],\n",
       "       [ 0.96],\n",
       "       [ 1.28],\n",
       "       [ 1.6 ],\n",
       "       [ 1.92],\n",
       "       [ 2.24],\n",
       "       [ 2.56],\n",
       "       [ 2.88],\n",
       "       [ 3.2 ],\n",
       "       [ 3.52],\n",
       "       [ 3.84],\n",
       "       [ 4.16],\n",
       "       [ 4.48],\n",
       "       [ 4.8 ],\n",
       "       [ 5.12],\n",
       "       [ 5.44],\n",
       "       [ 5.76],\n",
       "       [ 6.08],\n",
       "       [ 6.4 ],\n",
       "       [ 6.72],\n",
       "       [ 7.04],\n",
       "       [ 7.36],\n",
       "       [ 7.68],\n",
       "       [ 8.  ],\n",
       "       [ 8.32],\n",
       "       [ 8.64],\n",
       "       [ 8.96],\n",
       "       [ 9.28],\n",
       "       [ 9.6 ],\n",
       "       [ 9.92],\n",
       "       [10.24],\n",
       "       [10.56],\n",
       "       [10.88],\n",
       "       [11.2 ],\n",
       "       [11.52],\n",
       "       [11.84],\n",
       "       [12.16],\n",
       "       [12.48],\n",
       "       [12.8 ],\n",
       "       [13.12],\n",
       "       [13.44],\n",
       "       [13.76],\n",
       "       [14.08],\n",
       "       [14.4 ],\n",
       "       [14.72],\n",
       "       [15.04],\n",
       "       [15.36],\n",
       "       [15.68],\n",
       "       [16.  ]])"
      ]
     },
     "execution_count": 8,
     "metadata": {},
     "output_type": "execute_result"
    }
   ],
   "source": [
    "theta_grid\n"
   ]
  },
  {
   "cell_type": "code",
   "execution_count": null,
   "metadata": {},
   "outputs": [],
   "source": []
  }
 ],
 "metadata": {
  "kernelspec": {
   "display_name": "Python 2",
   "language": "python",
   "name": "python2"
  },
  "language_info": {
   "codemirror_mode": {
    "name": "ipython",
    "version": 2
   },
   "file_extension": ".py",
   "mimetype": "text/x-python",
   "name": "python",
   "nbconvert_exporter": "python",
   "pygments_lexer": "ipython2",
   "version": "2.7.12"
  }
 },
 "nbformat": 4,
 "nbformat_minor": 2
}
