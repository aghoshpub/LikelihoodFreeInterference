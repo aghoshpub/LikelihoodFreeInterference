{
 "cells": [
  {
   "cell_type": "markdown",
   "metadata": {},
   "source": [
    "# MadMiner particle physics tutorial\n",
    "\n",
    "# Part 3c: Training a likelihood estimator\n",
    "\n",
    "Johann Brehmer, Felix Kling, Irina Espejo, and Kyle Cranmer 2018-2019"
   ]
  },
  {
   "cell_type": "markdown",
   "metadata": {},
   "source": [
    "In part 3c of this tutorial we will train a third neural estimator: this time of the likelihood function itself (rather than its ratio). We assume that you have run part 1 and 2a of this tutorial. If, instead of 2a, you have run part 2b, you just have to load a different filename later."
   ]
  },
  {
   "cell_type": "markdown",
   "metadata": {},
   "source": [
    "## Preparations"
   ]
  },
  {
   "cell_type": "code",
   "execution_count": 1,
   "metadata": {},
   "outputs": [],
   "source": [
    "from __future__ import absolute_import, division, print_function, unicode_literals\n",
    "\n",
    "import logging\n",
    "import numpy as np\n",
    "import matplotlib\n",
    "from matplotlib import pyplot as plt\n",
    "%matplotlib inline\n",
    "\n",
    "from madminer.sampling import SampleAugmenter\n",
    "from madminer import sampling\n",
    "from madminer.ml import LikelihoodEstimator\n"
   ]
  },
  {
   "cell_type": "code",
   "execution_count": 2,
   "metadata": {},
   "outputs": [],
   "source": [
    "# MadMiner output\n",
    "logging.basicConfig(\n",
    "    format='%(asctime)-5.5s %(name)-20.20s %(levelname)-7.7s %(message)s',\n",
    "    datefmt='%H:%M',\n",
    "    level=logging.INFO\n",
    ")\n",
    "\n",
    "# Output of all other modules (e.g. matplotlib)\n",
    "for key in logging.Logger.manager.loggerDict:\n",
    "    if \"madminer\" not in key:\n",
    "        logging.getLogger(key).setLevel(logging.WARNING)"
   ]
  },
  {
   "cell_type": "markdown",
   "metadata": {},
   "source": [
    "## 1. Make (unweighted) training and test samples with augmented data"
   ]
  },
  {
   "cell_type": "markdown",
   "metadata": {},
   "source": [
    "At this point, we have all the information we need from the simulations. But the data is not quite ready to be used for machine learning. The `madminer.sampling` class `SampleAugmenter` will take care of the remaining book-keeping steps before we can train our estimators:\n",
    "\n",
    "First, it unweights the samples, i.e. for a given parameter vector `theta` (or a distribution `p(theta)`) it picks events `x` such that their distribution follows `p(x|theta)`. The selected samples will all come from the event file we have so far, but their frequency is changed -- some events will appear multiple times, some will disappear.\n",
    "\n",
    "Second, `SampleAugmenter` calculates all the augmented data (\"gold\") that is the key to our new inference methods. Depending on the specific technique, these are the joint likelihood ratio and / or the joint score. It saves all these pieces of information for the selected events in a set of numpy files that can easily be used in any machine learning framework."
   ]
  },
  {
   "cell_type": "code",
   "execution_count": 3,
   "metadata": {},
   "outputs": [
    {
     "name": "stderr",
     "output_type": "stream",
     "text": [
      "18:27 madminer.analysis    INFO    Loading data from data/delphes_data_shuffled.h5\n",
      "18:27 madminer.analysis    INFO    Found 1 parameters\n",
      "18:27 madminer.analysis    INFO    Did not find nuisance parameters\n",
      "18:27 madminer.analysis    INFO    Found 3 benchmarks, of which 3 physical\n",
      "18:27 madminer.analysis    INFO    Found 5 observables\n",
      "18:27 madminer.analysis    INFO    Found 169666 events\n",
      "18:27 madminer.analysis    INFO      57842 signal events sampled from benchmark no-higgs\n",
      "18:27 madminer.analysis    INFO      54426 signal events sampled from benchmark sm\n",
      "18:27 madminer.analysis    INFO      57398 signal events sampled from benchmark 5sq-higgs\n",
      "18:27 madminer.analysis    INFO    Found morphing setup with 3 components\n",
      "18:27 madminer.analysis    INFO    Did not find nuisance morphing setup\n"
     ]
    }
   ],
   "source": [
    "sampler = SampleAugmenter('data/delphes_data_shuffled.h5')"
   ]
  },
  {
   "cell_type": "markdown",
   "metadata": {},
   "source": [
    "The `SampleAugmenter` class defines five different high-level functions to generate train or test samples:\n",
    "- `sample_train_plain()`, which only saves observations x, for instance for histograms or ABC;\n",
    "- `sample_train_local()` for methods like SALLY and SALLINO, which will be demonstrated in the second part of the tutorial;\n",
    "- `sample_train_density()` for neural density estimation techniques like MAF or SCANDAL;\n",
    "- `sample_train_ratio()` for techniques like CARL, ROLR, CASCAL, and RASCAL, when only theta0 is parameterized;\n",
    "- `sample_train_more_ratios()` for the same techniques, but with both theta0 and theta1 parameterized;\n",
    "- `sample_test()` for the evaluation of any method.\n",
    "\n",
    "For the arguments `theta`, `theta0`, or `theta1`, you can (and should!) use the helper functions `benchmark()`, `benchmarks()`, `morphing_point()`, `morphing_points()`, and `random_morphing_points()`, all defined in the `madminer.sampling` module.\n",
    "\n",
    "Here we'll train a likelihood estimator with the SCANDAL method, so we focus on the `extract_samples_train_density()` function. We'll sample the numerator hypothesis in the likelihood ratio with 1000 points drawn from a Gaussian prior, and fix the denominator hypothesis to the SM.\n",
    "\n",
    "Note the keyword `sample_only_from_closest_benchmark=True`, which makes sure that for each parameter point we only use the events that were originally (in MG) generated from the closest benchmark. This reduces the statistical fluctuations in the outcome quite a bit."
   ]
  },
  {
   "cell_type": "markdown",
   "metadata": {},
   "source": [
    "## 3. Evaluate likelihood estimator"
   ]
  },
  {
   "cell_type": "markdown",
   "metadata": {},
   "source": [
    "`estimator.evaluate_log_likelihood(theta,x)` estimated the log likelihood for all combination between the given phase-space points `x` and parameters `theta`. That is, if given 100 events `x` and a grid of 25 `theta` points, it will return 25\\*100 estimates for the log likelihood, indexed by `[i_theta,i_x]`."
   ]
  },
  {
   "cell_type": "code",
   "execution_count": 4,
   "metadata": {},
   "outputs": [],
   "source": [
    "theta_each = np.linspace(0.,5.,11)\n",
    "#theta0, theta1 = np.meshgrid(theta_each, theta_each)\n",
    "theta0 = np.meshgrid(theta_each)[0]\n",
    "#theta_grid = np.vstack((theta0.flatten())).T # doesn't work\n",
    "theta_grid = np.vstack((theta0.flatten()))\n",
    "np.save('data/samples/theta_grid.npy', theta_grid)\n"
   ]
  },
  {
   "cell_type": "code",
   "execution_count": 5,
   "metadata": {},
   "outputs": [
    {
     "name": "stderr",
     "output_type": "stream",
     "text": [
      "18:27 madminer.ml          INFO    Loading model from models/scandal\n",
      "18:27 madminer.ml          WARNING Parameter scaling information not found in models/scandal\n",
      "18:27 madminer.utils.vario INFO      Loading data/samples/theta_grid.npy into RAM\n",
      "18:27 madminer.utils.vario INFO      Loading data/samples/x_test.npy into RAM\n",
      "18:27 madminer.ml          INFO    Starting ratio evaluation for 55000 x-theta combinations\n",
      "18:27 madminer.ml          INFO    Evaluation done\n"
     ]
    }
   ],
   "source": [
    "estimator = LikelihoodEstimator(\n",
    "    n_mades=3,\n",
    "    n_hidden=(100,),\n",
    "    activation=\"tanh\"\n",
    ")\n",
    "estimator.load('models/scandal')\n",
    "\n",
    "log_p_hat, _ = estimator.evaluate_log_likelihood(\n",
    "    theta='data/samples/theta_grid.npy',\n",
    "    x='data/samples/x_test.npy',\n",
    "    evaluate_score=False\n",
    ")"
   ]
  },
  {
   "cell_type": "markdown",
   "metadata": {},
   "source": [
    "Let's look at the result:"
   ]
  },
  {
   "cell_type": "code",
   "execution_count": 6,
   "metadata": {},
   "outputs": [
    {
     "data": {
      "image/png": "[encoded data removed]",
      "text/plain": [
       "<Figure size 432x360 with 1 Axes>"
      ]
     },
     "metadata": {
      "needs_background": "light"
     },
     "output_type": "display_data"
    }
   ],
   "source": [
    "bin_size = theta_each[1] - theta_each[0]\n",
    "#edges = np.linspace(theta_each[0] - bin_size/2, theta_each[-1] + bin_size/2, len(theta_each)+1)\n",
    "\n",
    "fig = plt.figure(figsize=(6,5))\n",
    "#ax = plt.gca()\n",
    "\n",
    "expected_llr = np.mean(log_p_hat,axis=1)\n",
    "best_fit = theta_grid[np.argmin(-2.*expected_llr)]\n",
    "\n",
    "plt.scatter(theta_grid**2, -2.* expected_llr)\n",
    "plt.scatter(best_fit**2, (-2.* expected_llr).min(), s=80., color='black', marker='*', label=\"Best Fit\")\n",
    "#plt.xlabel(r'$\\theta_0$')\n",
    "plt.xlabel(r'$\\mu$')\n",
    "plt.ylabel(r'-2* expected llr Scandal')\n",
    "\n",
    "plt.tight_layout()\n",
    "plt.legend()\n",
    "plt.show()\n",
    "\n"
   ]
  },
  {
   "cell_type": "code",
   "execution_count": 7,
   "metadata": {},
   "outputs": [
    {
     "data": {
      "text/plain": [
       "(array([[ 0.  ],\n",
       "        [ 0.25],\n",
       "        [ 1.  ],\n",
       "        [ 2.25],\n",
       "        [ 4.  ],\n",
       "        [ 6.25],\n",
       "        [ 9.  ],\n",
       "        [12.25],\n",
       "        [16.  ],\n",
       "        [20.25],\n",
       "        [25.  ]]), array([20.25]))"
      ]
     },
     "execution_count": 7,
     "metadata": {},
     "output_type": "execute_result"
    }
   ],
   "source": [
    "theta_grid**2, best_fit**2"
   ]
  },
  {
   "cell_type": "markdown",
   "metadata": {},
   "source": [
    "Note that in this tutorial our sample size was very small, and the network might not really have a chance to converge to the correct likelihood function. So don't worry if you find a minimum that is not at the right point (the SM, i.e. the origin in this plot). Feel free to dial up the event numbers in the run card as well as the training samples and see what happens then!"
   ]
  },
  {
   "cell_type": "code",
   "execution_count": 7,
   "metadata": {},
   "outputs": [
    {
     "data": {
      "text/plain": [
       "array([-0.25,  0.25,  0.75,  1.25,  1.75,  2.25,  2.75,  3.25,  3.75,\n",
       "        4.25,  4.75,  5.25])"
      ]
     },
     "execution_count": 7,
     "metadata": {},
     "output_type": "execute_result"
    }
   ],
   "source": [
    "edges"
   ]
  },
  {
   "cell_type": "code",
   "execution_count": 8,
   "metadata": {},
   "outputs": [
    {
     "data": {
      "text/plain": [
       "array([-9.549948 , -5.5193186, -4.473985 , -4.42675  , -4.428112 ,\n",
       "       -4.4277234, -4.430963 , -4.437467 , -4.445223 , -4.4527726,\n",
       "       -4.459418 ], dtype=float32)"
      ]
     },
     "execution_count": 8,
     "metadata": {},
     "output_type": "execute_result"
    }
   ],
   "source": [
    "expected_llr"
   ]
  },
  {
   "cell_type": "code",
   "execution_count": null,
   "metadata": {},
   "outputs": [],
   "source": []
  }
 ],
 "metadata": {
  "kernelspec": {
   "display_name": "Python 2",
   "language": "python",
   "name": "python2"
  },
  "language_info": {
   "codemirror_mode": {
    "name": "ipython",
    "version": 2
   },
   "file_extension": ".py",
   "mimetype": "text/x-python",
   "name": "python",
   "nbconvert_exporter": "python",
   "pygments_lexer": "ipython2",
   "version": "2.7.12"
  }
 },
 "nbformat": 4,
 "nbformat_minor": 2
}
