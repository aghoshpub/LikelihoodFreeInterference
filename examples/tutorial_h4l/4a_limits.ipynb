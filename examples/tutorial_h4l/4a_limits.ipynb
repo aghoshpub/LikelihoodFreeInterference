{
 "cells": [
  {
   "cell_type": "markdown",
   "metadata": {},
   "source": [
    "# MadMiner particle physics tutorial\n",
    "\n",
    "# Part 4a: Limit setting\n",
    "\n",
    "Johann Brehmer, Felix Kling, Irina Espejo, and Kyle Cranmer 2018-2019"
   ]
  },
  {
   "cell_type": "markdown",
   "metadata": {},
   "source": [
    "In part 4a of this tutorial we will use the networks trained in step 3a and 3b to calculate the expected limits on our theory parameters."
   ]
  },
  {
   "cell_type": "markdown",
   "metadata": {},
   "source": [
    "## 0. Preparations"
   ]
  },
  {
   "cell_type": "code",
   "execution_count": 1,
   "metadata": {},
   "outputs": [],
   "source": [
    "from __future__ import absolute_import, division, print_function, unicode_literals\n",
    "\n",
    "import six\n",
    "import logging\n",
    "import numpy as np\n",
    "import matplotlib\n",
    "from matplotlib import pyplot as plt\n",
    "%matplotlib inline\n",
    "\n",
    "from madminer.limits import AsymptoticLimits\n",
    "from madminer.sampling import SampleAugmenter\n",
    "from madminer import sampling\n",
    "from madminer.plotting import plot_histograms\n"
   ]
  },
  {
   "cell_type": "code",
   "execution_count": 2,
   "metadata": {},
   "outputs": [],
   "source": [
    "# MadMiner output\n",
    "logging.basicConfig(\n",
    "    format='%(asctime)-5.5s %(name)-20.20s %(levelname)-7.7s %(message)s',\n",
    "    datefmt='%H:%M',\n",
    "    level=logging.INFO\n",
    ")\n",
    "\n",
    "# Output of all other modules (e.g. matplotlib)\n",
    "for key in logging.Logger.manager.loggerDict:\n",
    "    if \"madminer\" not in key:\n",
    "        # print(\"Deactivating logging output for\", key)\n",
    "        logging.getLogger(key).setLevel(logging.WARNING)"
   ]
  },
  {
   "cell_type": "markdown",
   "metadata": {},
   "source": [
    "## 1. Preparations"
   ]
  },
  {
   "cell_type": "markdown",
   "metadata": {},
   "source": [
    "In the end, what we care about are not plots of the log likelihood ratio, but limits on parameters. But at least under some asymptotic assumptions, these are directly related. MadMiner makes it easy to calculate p-values in the asymptotic limit with the `AsymptoticLimits` class in the `madminer.limits`: "
   ]
  },
  {
   "cell_type": "code",
   "execution_count": 3,
   "metadata": {},
   "outputs": [
    {
     "name": "stderr",
     "output_type": "stream",
     "text": [
      "20:20 madminer.analysis    INFO    Loading data from data/delphes_data_shuffled.h5\n",
      "20:20 madminer.analysis    INFO    Found 1 parameters\n",
      "20:20 madminer.analysis    INFO    Did not find nuisance parameters\n",
      "20:20 madminer.analysis    INFO    Found 6 benchmarks, of which 6 physical\n",
      "20:20 madminer.analysis    INFO    Found 35 observables\n",
      "20:20 madminer.analysis    INFO    Found 2456775 events\n",
      "20:20 madminer.analysis    INFO      638139 signal events sampled from benchmark no-higgs\n",
      "20:20 madminer.analysis    INFO      612261 signal events sampled from benchmark 0.8_k\n",
      "20:20 madminer.analysis    INFO      604045 signal events sampled from benchmark sm\n",
      "20:20 madminer.analysis    INFO      602330 signal events sampled from benchmark 1.5_k\n",
      "20:20 madminer.analysis    INFO    Found morphing setup with 5 components\n",
      "20:20 madminer.analysis    INFO    Did not find nuisance morphing setup\n"
     ]
    }
   ],
   "source": [
    "limits = AsymptoticLimits('data/delphes_data_shuffled.h5')"
   ]
  },
  {
   "cell_type": "markdown",
   "metadata": {},
   "source": [
    "This class provids two high-level functions:\n",
    "- `AsymptoticLimits.observed_limits()` lets us calculate p-values on a parameter grid for some observed events, and\n",
    "- `AsymptoticLimits.expected_limits()` lets us calculate expected p-values on a parameter grid based on all data in the MadMiner file.\n",
    "\n",
    "First we have to define the parameter grid on which we evaluate the p-values."
   ]
  },
  {
   "cell_type": "code",
   "execution_count": 4,
   "metadata": {},
   "outputs": [],
   "source": [
    "grid_ranges = [(0., 2.)]\n",
    "grid_resolutions = [51]"
   ]
  },
  {
   "cell_type": "markdown",
   "metadata": {},
   "source": [
    "What luminosity (in inverse pb) are we talking about?"
   ]
  },
  {
   "cell_type": "code",
   "execution_count": 5,
   "metadata": {},
   "outputs": [],
   "source": [
    "lumi = 1.#1."
   ]
  },
  {
   "cell_type": "code",
   "execution_count": 6,
   "metadata": {},
   "outputs": [],
   "source": [
    "p_values = {}\n",
    "mle = {}"
   ]
  },
  {
   "cell_type": "markdown",
   "metadata": {},
   "source": [
    "## 2. Expected limits based on histogram"
   ]
  },
  {
   "cell_type": "markdown",
   "metadata": {},
   "source": [
    "First, as a baseline, let us calculate the expected limits based on a simple jet pT histogram. Right now, there are not a lot of option for this function; MadMiner even calculates the binning automatically. (We will add more functionality!)\n",
    "\n",
    "The keyword `include_xsec` determines whether we include information from the total rate or just use the shapes. Since we don't model backgrounds and systematics in this tutorial, the rate information is unrealistically large, so we leave it out here."
   ]
  },
  {
   "cell_type": "code",
   "execution_count": 7,
   "metadata": {},
   "outputs": [
    {
     "name": "stderr",
     "output_type": "stream",
     "text": [
      "20:20 madminer.limits      INFO    Generating Asimov data\n",
      "20:20 madminer.limits      INFO    Expected events: 0.27662085993089414\n",
      "20:20 madminer.limits      INFO    Setting up standard summary statistics\n",
      "20:20 madminer.limits      INFO    Creating histograms of 1 summary statistics. Using (25,) bins each, or 25 in total.\n",
      "20:20 madminer.limits      INFO    Determining fixed adaptive histogram binning for all points on grid\n",
      "20:20 madminer.limits      INFO    Calculating kinematic log likelihood with histograms\n",
      "20:20 madminer.limits      INFO    Calculating p-values\n"
     ]
    }
   ],
   "source": [
    "theta_grid, p_values_expected_histo, best_fit_expected_histo, _, _, (histos, observed, observed_weights) = limits.expected_limits(\n",
    "    mode=\"histo\",\n",
    "    hist_vars=[\"pt_j1\"],\n",
    "    #hist_vars=[\"pt_j1\", \"delta_eta_jj\"],\n",
    "    #hist_bins=[[0.,40.,60.,80.,100.,150.,200.,300.,400.,1000.]],\n",
    "    #hist_bins=[[0.,40.,80.,100.,150.,200.,300.,400.,1000.]],\n",
    "    theta_true=[1.],\n",
    "    grid_ranges=grid_ranges,\n",
    "    grid_resolutions=grid_resolutions,\n",
    "    luminosity=lumi,\n",
    "    include_xsec=False,\n",
    "    return_asimov=True,\n",
    "    test_split=0.5\n",
    ")\n",
    "\n",
    "p_values[\"Histogram\"] = p_values_expected_histo\n",
    "mle[\"Histogram\"] = best_fit_expected_histo"
   ]
  },
  {
   "cell_type": "markdown",
   "metadata": {},
   "source": [
    "With `mode=\"rate\"`, we could calculate limits based on only the rate -- but again, since the rate is extremely powerful when backgrounds and systematics are not taken into account, we don't do that in this tutorial."
   ]
  },
  {
   "cell_type": "markdown",
   "metadata": {},
   "source": [
    "Let's visualize the likelihood estimated with these histograms:"
   ]
  },
  {
   "cell_type": "code",
   "execution_count": 8,
   "metadata": {},
   "outputs": [
    {
     "data": {
      "image/png": "[encoded data removed]",
      "text/plain": [
       "<Figure size 360x360 with 1 Axes>"
      ]
     },
     "metadata": {
      "needs_background": "light"
     },
     "output_type": "display_data"
    }
   ],
   "source": [
    "#indices = [12 + i * 25 for i in [6,9,12,15,18]]\n",
    "#indices = [0,5,6,10,15,20]\n",
    "#indices = [0,3,16,31,50]\n",
    "#indices = [0,1,2,5,10]\n",
    "indices = [0,22,25,32,37,50]\n",
    "\n",
    "fig = plot_histograms(\n",
    "    histos=[histos[i] for i in indices],\n",
    "    observed=[observed[i] for i in indices],\n",
    "    observed_weights=observed_weights,\n",
    "    histo_labels=[r\"$\\mu = {:.2f}$\".format(theta_grid[i,0]**4) for i in indices],\n",
    "    xlabel=\"Jet $p_T$\",\n",
    "    xrange=(0.,400.),\n",
    "    #xrange=(0.,5.),\n",
    ")\n",
    "\n",
    "plt.show()\n"
   ]
  },
  {
   "cell_type": "markdown",
   "metadata": {},
   "source": [
    "## 3. Expected limits based on ratio estimators"
   ]
  },
  {
   "cell_type": "markdown",
   "metadata": {},
   "source": [
    "Next, `mode=\"ml\"` allows us to calculate limits based on any `ParamterizedRatioEstimator` instance like the ALICES estimator trained above:"
   ]
  },
  {
   "cell_type": "code",
   "execution_count": 22,
   "metadata": {},
   "outputs": [
    {
     "name": "stderr",
     "output_type": "stream",
     "text": [
      "20:34 madminer.limits      INFO    Generating Asimov data\n",
      "20:34 madminer.limits      INFO    Expected events: 0.27662085993089414\n",
      "20:34 madminer.limits      INFO    Loading kinematic likelihood ratio estimator\n",
      "20:34 madminer.ml          INFO    Loading model from models/alices\n",
      "20:34 madminer.ml          WARNING Parameter scaling information not found in models/alices\n",
      "20:34 madminer.limits      INFO    Calculating kinematic log likelihood ratio with estimator\n",
      "20:34 madminer.ml          INFO    Loading evaluation data\n",
      "20:34 madminer.ml          INFO    Starting ratio evaluation for 6157230 x-theta combinations\n",
      "20:36 madminer.ml          INFO    Evaluation done\n",
      "20:36 madminer.limits      INFO    Calculating p-values\n"
     ]
    }
   ],
   "source": [
    "theta_grid, p_values_expected_alices, best_fit_expected_alices, _, _, _ = limits.expected_limits(\n",
    "    mode=\"ml\",\n",
    "    model_file='models/alices',\n",
    "    theta_true=[1.],\n",
    "    grid_ranges=grid_ranges,\n",
    "    grid_resolutions=grid_resolutions,\n",
    "    luminosity=lumi,\n",
    "    include_xsec=False,\n",
    ")\n",
    "\n",
    "p_values[\"ALICES\"] = p_values_expected_alices\n",
    "mle[\"ALICES\"] = best_fit_expected_alices"
   ]
  },
  {
   "cell_type": "raw",
   "metadata": {},
   "source": [
    "theta_grid, p_values_expected_alices, best_fit_expected_alices, _, _, _ = limits.expected_limits(\n",
    "    mode=\"ml\",\n",
    "    model_file='models/alices',\n",
    "    #theta_true=[1.],\n",
    "    theta_true=[(1.,)],\n",
    "    grid_ranges=grid_ranges,\n",
    "    grid_resolutions=grid_resolutions,\n",
    "    luminosity=lumi,\n",
    "    include_xsec=False,\n",
    "    test_split=0.5\n",
    ")\n",
    "\n",
    "p_values[\"ALICES\"] = p_values_expected_alices\n",
    "mle[\"ALICES\"] = best_fit_expected_alices"
   ]
  },
  {
   "cell_type": "markdown",
   "metadata": {},
   "source": [
    "## 4. Expected limits based on score estimators"
   ]
  },
  {
   "cell_type": "markdown",
   "metadata": {},
   "source": [
    "To get p-values from a SALLY estimator, we have to use histograms of the estimated score:"
   ]
  },
  {
   "cell_type": "code",
   "execution_count": 16,
   "metadata": {},
   "outputs": [
    {
     "name": "stderr",
     "output_type": "stream",
     "text": [
      "20:30 madminer.limits      INFO    Generating Asimov data\n",
      "20:30 madminer.limits      INFO    Expected events: 0.27662085993089414\n",
      "20:30 madminer.limits      INFO    Loading score estimator and setting all components up as summary statistics\n",
      "20:30 madminer.ml          INFO    Loading model from models/sally\n",
      "20:30 madminer.ml          INFO    Starting score evaluation\n",
      "20:30 madminer.limits      INFO    Creating histograms of 1 summary statistics. Using (25,) bins each, or 25 in total.\n",
      "20:30 madminer.limits      INFO    Determining fixed adaptive histogram binning for all points on grid\n",
      "20:30 madminer.ml          INFO    Starting score evaluation\n",
      "20:30 madminer.ml          INFO    Starting score evaluation\n",
      "20:30 madminer.limits      INFO    Calculating kinematic log likelihood with histograms\n",
      "20:30 madminer.limits      INFO    Calculating p-values\n"
     ]
    }
   ],
   "source": [
    "theta_grid, p_values_expected_sally, best_fit_expected_sally, _, _, (histos, observed, observed_weights) = limits.expected_limits(\n",
    "    mode=\"sally\",\n",
    "    model_file='models/sally',\n",
    "    theta_true=[1.],\n",
    "    grid_ranges=grid_ranges,\n",
    "    grid_resolutions=grid_resolutions,\n",
    "    #hist_bins=[[0.,5.,10.,15., 20.,25., 30.,35., 40., 45., 50.,55., 80., 100.]],\n",
    "    #hist_bins=[[0.,10., 20., 30., 40., 50., 80., 100.]],\n",
    "    luminosity=lumi,\n",
    "    include_xsec=False,\n",
    "    return_asimov=True,\n",
    "    test_split=0.5\n",
    ")\n",
    "\n",
    "p_values[\"SALLY\"] = p_values_expected_sally\n",
    "mle[\"SALLY\"] = best_fit_expected_sally"
   ]
  },
  {
   "cell_type": "markdown",
   "metadata": {},
   "source": [
    "Let's have a look at the underlying 2D histograms:"
   ]
  },
  {
   "cell_type": "code",
   "execution_count": 21,
   "metadata": {},
   "outputs": [
    {
     "data": {
      "image/png": "[encoded data removed]",
      "text/plain": [
       "<Figure size 360x360 with 1 Axes>"
      ]
     },
     "metadata": {
      "needs_background": "light"
     },
     "output_type": "display_data"
    }
   ],
   "source": [
    "#indices = [12 + i * 25 for i in [0,6,12,18,24]]\n",
    "#indices = [0,15,25,35,40,50]\n",
    "#indices = [0,3,16,31,50]\n",
    "#indices = [0,1,2,3,5,10]\n",
    "#indices = [0,10,15,20,30]\n",
    "indices = [0,22,25,32,37,50]\n",
    "\n",
    "fig = plot_histograms(\n",
    "    histos=[histos[i] for i in indices],\n",
    "    #observed=observed[0,:100,:],\n",
    "    #observed_weights=observed_weights[:100],\n",
    "    observed=observed[0,:,:],\n",
    "    observed_weights=observed_weights,\n",
    "    histo_labels=[r\"$\\mu = {:.2f}$\".format(theta_grid[i,0]**4) for i in indices],\n",
    "    #xlabel=r'$\\hat{t}_0(x)$',\n",
    "    #ylabel=r'$\\hat{t}_1(x)$',\n",
    "    xrange=(-0.3,0.3),\n",
    "    yrange=(1.,4.5),\n",
    "    log=True,\n",
    "    #zrange=(1.e-3,1.),\n",
    "    markersize=10.\n",
    ")\n",
    "    "
   ]
  },
  {
   "cell_type": "code",
   "execution_count": 13,
   "metadata": {},
   "outputs": [
    {
     "name": "stderr",
     "output_type": "stream",
     "text": [
      "20:29 madminer.limits      INFO    Generating Asimov data\n",
      "20:29 madminer.limits      INFO    Expected events: 0.27662085993089414\n",
      "20:29 madminer.limits      WARNING The SALLINO and adaptive SALLY methods require the reference point, but the argument thetaref was not provided. Assuming thetaref = [0.].\n",
      "20:29 madminer.limits      INFO    Loading score estimator and setting all components up as summary statistics\n",
      "20:29 madminer.ml          INFO    Loading model from models/sally\n",
      "20:29 madminer.ml          INFO    Starting score evaluation\n",
      "20:29 madminer.limits      INFO    Creating histograms of 1 summary statistics. Using (25,) bins each, or 25 in total.\n",
      "20:29 madminer.ml          INFO    Starting score evaluation\n",
      "20:29 madminer.limits      INFO    Calculating kinematic log likelihood with histograms\n",
      "20:29 madminer.limits      INFO    Calculating p-values\n"
     ]
    }
   ],
   "source": [
    "theta_grid, p_values_expected_sally, best_fit_expected_sally, _, _, (histos, observed, observed_weights) = limits.expected_limits(\n",
    "    mode=\"adaptive-sally\",\n",
    "    model_file='models/sally',\n",
    "    theta_true=[1.],\n",
    "    grid_ranges=grid_ranges,\n",
    "    grid_resolutions=grid_resolutions,\n",
    "    luminosity=lumi,\n",
    "    include_xsec=False,\n",
    "    return_asimov=True,\n",
    "    test_split=0.5\n",
    ")\n",
    "\n",
    "p_values[\"SALLY-adaptive\"] = p_values_expected_sally\n",
    "mle[\"SALLY-adaptive\"] = best_fit_expected_sally\n"
   ]
  },
  {
   "cell_type": "code",
   "execution_count": 14,
   "metadata": {},
   "outputs": [
    {
     "name": "stderr",
     "output_type": "stream",
     "text": [
      "20:29 madminer.limits      INFO    Generating Asimov data\n",
      "20:29 madminer.limits      INFO    Expected events: 0.27662085993089414\n",
      "20:29 madminer.limits      WARNING The SALLINO and adaptive SALLY methods require the reference point, but the argument thetaref was not provided. Assuming thetaref = [0.].\n",
      "20:29 madminer.limits      INFO    Loading score estimator and setting all components up as summary statistics\n",
      "20:29 madminer.ml          INFO    Loading model from models/sally\n",
      "20:29 madminer.ml          INFO    Starting score evaluation\n",
      "20:29 madminer.limits      INFO    Creating histograms of 1 summary statistics. Using (25,) bins each, or 25 in total.\n",
      "20:29 madminer.ml          INFO    Starting score evaluation\n",
      "20:29 madminer.limits      INFO    Calculating kinematic log likelihood with histograms\n",
      "20:29 madminer.limits      INFO    Calculating p-values\n"
     ]
    }
   ],
   "source": [
    "theta_grid, p_values_expected_sallino, best_fit_expected_sallino, _, _, histos = limits.expected_limits(\n",
    "    mode=\"sallino\",\n",
    "    model_file='models/sally',\n",
    "    theta_true=[1.],\n",
    "    grid_ranges=grid_ranges,\n",
    "    grid_resolutions=grid_resolutions,\n",
    "    luminosity=lumi,\n",
    "    include_xsec=False,\n",
    "    test_split=0.5\n",
    ")\n",
    "\n",
    "p_values[\"SALLINO\"] = p_values_expected_sallino\n",
    "mle[\"SALLINO\"] = best_fit_expected_sallino"
   ]
  },
  {
   "cell_type": "code",
   "execution_count": null,
   "metadata": {},
   "outputs": [],
   "source": [
    "theta_grid, p_values_expected_scandal, best_fit_expected_scandal, _, _, _ = limits.expected_limits(\n",
    "    mode=\"ml\",\n",
    "    model_file='models/scandal',\n",
    "    theta_true=[1.],\n",
    "    grid_ranges=grid_ranges,\n",
    "    grid_resolutions=grid_resolutions,\n",
    "    luminosity=lumi,\n",
    "    include_xsec=False,\n",
    "    test_split=0.5\n",
    ")\n",
    "\n",
    "p_values[\"SCANDAL\"] = p_values_expected_scandal\n",
    "mle[\"SCANDAL\"] = best_fit_expected_scandal"
   ]
  },
  {
   "cell_type": "markdown",
   "metadata": {},
   "source": [
    "## 6. Toy signal"
   ]
  },
  {
   "cell_type": "markdown",
   "metadata": {},
   "source": [
    "In addition to these expected limits (based on the SM), let us inject a mock signal. We first generate the data:"
   ]
  },
  {
   "cell_type": "raw",
   "metadata": {},
   "source": [
    "sampler = SampleAugmenter('data/delphes_data_shuffled.h5')\n",
    "x_observed, _, _ = sampler.sample_test(\n",
    "    theta=sampling.morphing_point([4.]),\n",
    "    n_samples=1000,\n",
    "    folder=None,\n",
    "    filename=None,\n",
    ")"
   ]
  },
  {
   "cell_type": "raw",
   "metadata": {},
   "source": [
    "obs_n = 79"
   ]
  },
  {
   "cell_type": "raw",
   "metadata": {},
   "source": [
    "_, p_values_observed, best_fit_observed, _, _, _ = limits.observed_limits(\n",
    "    n_observed=obs_n,\n",
    "    x_observed=x_observed,\n",
    "    mode=\"ml\",\n",
    "    model_file='models/alices',\n",
    "    grid_ranges=grid_ranges,\n",
    "    grid_resolutions=grid_resolutions,\n",
    "    luminosity=lumi,\n",
    "    include_xsec=False,\n",
    ")\n",
    "\n",
    "p_values[\"ALICES signal\"] = p_values_observed\n",
    "mle[\"ALICES signal\"] = best_fit_observed"
   ]
  },
  {
   "cell_type": "code",
   "execution_count": 24,
   "metadata": {},
   "outputs": [
    {
     "name": "stderr",
     "output_type": "stream",
     "text": [
      "20:36 madminer.limits      INFO    Generating Asimov data\n",
      "20:36 madminer.limits      INFO    Expected events: 0.3443641708920965\n",
      "20:36 madminer.limits      INFO    Loading kinematic likelihood ratio estimator\n",
      "20:36 madminer.ml          INFO    Loading model from models/alices\n",
      "20:36 madminer.ml          WARNING Parameter scaling information not found in models/alices\n",
      "20:36 madminer.limits      INFO    Calculating kinematic log likelihood ratio with estimator\n",
      "20:36 madminer.ml          INFO    Loading evaluation data\n",
      "20:36 madminer.ml          INFO    Starting ratio evaluation for 15331620 x-theta combinations\n",
      "20:42 madminer.ml          INFO    Evaluation done\n",
      "20:42 madminer.limits      INFO    Calculating p-values\n"
     ]
    }
   ],
   "source": [
    "theta_grid, p_values_expected_alices, best_fit_expected_alices, _, _, _ = limits.expected_limits(\n",
    "    mode=\"ml\",\n",
    "    model_file='models/alices',\n",
    "    theta_true=[1.5],\n",
    "    grid_ranges=grid_ranges,\n",
    "    grid_resolutions=grid_resolutions,\n",
    "    luminosity=lumi,\n",
    "    include_xsec=False,\n",
    "    test_split=0.5\n",
    ")\n",
    "\n",
    "p_values[\"ALICES signal\"] = p_values_expected_alices\n",
    "mle[\"ALICES signal\"] = best_fit_expected_alices"
   ]
  },
  {
   "cell_type": "raw",
   "metadata": {},
   "source": [
    "theta_grid, p_values_expected_sally, best_fit_expected_sally, _, _, _ = limits.observed_limits(\n",
    "    mode=\"sally\",\n",
    "    model_file='models/sally',\n",
    "    n_observed=obs_n,\n",
    "    x_observed=x_observed,\n",
    "    grid_ranges=grid_ranges,\n",
    "    grid_resolutions=grid_resolutions,\n",
    "    luminosity=lumi,\n",
    "    include_xsec=False,\n",
    ")\n",
    "\n",
    "p_values[\"SALLY signal\"] = p_values_expected_sally\n",
    "mle[\"SALLY signal\"] = best_fit_expected_sally"
   ]
  },
  {
   "cell_type": "code",
   "execution_count": 25,
   "metadata": {},
   "outputs": [
    {
     "name": "stderr",
     "output_type": "stream",
     "text": [
      "20:42 madminer.limits      INFO    Generating Asimov data\n",
      "20:42 madminer.limits      INFO    Expected events: 0.3443641708920965\n",
      "20:42 madminer.limits      INFO    Loading score estimator and setting all components up as summary statistics\n",
      "20:42 madminer.ml          INFO    Loading model from models/sally\n",
      "20:42 madminer.ml          INFO    Starting score evaluation\n",
      "20:42 madminer.limits      INFO    Creating histograms of 1 summary statistics. Using (25,) bins each, or 25 in total.\n",
      "20:42 madminer.limits      INFO    Determining fixed adaptive histogram binning for all points on grid\n",
      "20:42 madminer.ml          INFO    Starting score evaluation\n",
      "20:42 madminer.ml          INFO    Starting score evaluation\n",
      "20:42 madminer.limits      INFO    Calculating kinematic log likelihood with histograms\n",
      "20:42 madminer.limits      INFO    Calculating p-values\n"
     ]
    }
   ],
   "source": [
    "theta_grid, p_values_expected_sally, best_fit_expected_sally, _, _, (histos, observed, observed_weights) = limits.expected_limits(\n",
    "    mode=\"sally\",\n",
    "    model_file='models/sally',\n",
    "    theta_true=[1.5],\n",
    "    grid_ranges=grid_ranges,\n",
    "    grid_resolutions=grid_resolutions,\n",
    "    luminosity=lumi,\n",
    "    include_xsec=False,\n",
    "    return_asimov=True,\n",
    "    test_split=0.5\n",
    ")\n",
    "\n",
    "p_values[\"SALLY signal\"] = p_values_expected_sally\n",
    "mle[\"SALLY signal\"] = best_fit_expected_sally"
   ]
  },
  {
   "cell_type": "raw",
   "metadata": {},
   "source": [
    "theta_grid, p_values_expected_histo, best_fit_expected_histo, _, _, _ = limits.observed_limits(\n",
    "    mode=\"histo\",\n",
    "    hist_vars=[\"pt_j1\"],\n",
    "    n_observed=obs_n,\n",
    "    x_observed=x_observed,\n",
    "    grid_ranges=grid_ranges,\n",
    "    grid_resolutions=grid_resolutions,\n",
    "    luminosity=lumi,\n",
    "    include_xsec=False,\n",
    ")\n",
    "\n",
    "p_values[\"Histogram signal\"] = p_values_expected_histo\n",
    "mle[\"Histogram signal\"] = best_fit_expected_histo"
   ]
  },
  {
   "cell_type": "code",
   "execution_count": null,
   "metadata": {},
   "outputs": [],
   "source": [
    "theta_grid, p_values_expected_scandal, best_fit_expected_scandal, _, _, _ = limits.expected_limits(\n",
    "    mode=\"ml\",\n",
    "    model_file='models/scandal',\n",
    "    theta_true=[1.5],\n",
    "    grid_ranges=grid_ranges,\n",
    "    grid_resolutions=grid_resolutions,\n",
    "    luminosity=lumi,\n",
    "    include_xsec=False,\n",
    "    test_split=0.5\n",
    ")\n",
    "\n",
    "p_values[\"SCANDAL signal\"] = p_values_expected_scandal\n",
    "mle[\"SCANDAL signal\"] = best_fit_expected_scandal"
   ]
  },
  {
   "cell_type": "code",
   "execution_count": 26,
   "metadata": {},
   "outputs": [
    {
     "name": "stderr",
     "output_type": "stream",
     "text": [
      "20:42 madminer.limits      INFO    Generating Asimov data\n",
      "20:42 madminer.limits      INFO    Expected events: 0.3443641708920965\n",
      "20:42 madminer.limits      INFO    Setting up standard summary statistics\n",
      "20:42 madminer.limits      INFO    Creating histograms of 1 summary statistics. Using (25,) bins each, or 25 in total.\n",
      "20:42 madminer.limits      INFO    Determining fixed adaptive histogram binning for all points on grid\n",
      "20:42 madminer.limits      INFO    Calculating kinematic log likelihood with histograms\n",
      "20:42 madminer.limits      INFO    Calculating p-values\n"
     ]
    }
   ],
   "source": [
    "theta_grid, p_values_expected_histo, best_fit_expected_histo, _, _, (histos, observed, observed_weights) = limits.expected_limits(\n",
    "    mode=\"histo\",\n",
    "    hist_vars=[\"pt_j1\"],\n",
    "    theta_true=[1.5],\n",
    "    grid_ranges=grid_ranges,\n",
    "    grid_resolutions=grid_resolutions,\n",
    "    luminosity=lumi,\n",
    "    include_xsec=False,\n",
    "    return_asimov=True,\n",
    "    test_split=0.5\n",
    ")\n",
    "\n",
    "p_values[\"Histogram signal\"] = p_values_expected_histo\n",
    "mle[\"Histogram signal\"] = best_fit_expected_histo"
   ]
  },
  {
   "cell_type": "code",
   "execution_count": 27,
   "metadata": {},
   "outputs": [
    {
     "data": {
      "image/png": "[encoded data removed]",
      "text/plain": [
       "<Figure size 360x360 with 1 Axes>"
      ]
     },
     "metadata": {
      "needs_background": "light"
     },
     "output_type": "display_data"
    }
   ],
   "source": [
    "#indices = [12 + i * 25 for i in [6,9,12,15,18]]\n",
    "#indices = [0,5,6,10,15,20]\n",
    "#indices = [0,3,16,31,50]\n",
    "#indices = [0,1,2,5,10]\n",
    "indices = [0,22,25,32,37,50]\n",
    "\n",
    "fig = plot_histograms(\n",
    "    histos=[histos[i] for i in indices],\n",
    "    observed=[observed[i] for i in indices],\n",
    "    observed_weights=observed_weights,\n",
    "    histo_labels=[r\"$\\mu = {:.2f}$\".format(theta_grid[i,0]**4) for i in indices],\n",
    "    xlabel=\"Jet $p_T$\",\n",
    "    xrange=(0.,400.),\n",
    "    #xrange=(0.,5.),\n",
    ")\n",
    "\n",
    "plt.show()\n",
    "\n"
   ]
  },
  {
   "cell_type": "code",
   "execution_count": 28,
   "metadata": {},
   "outputs": [
    {
     "name": "stderr",
     "output_type": "stream",
     "text": [
      "20:42 madminer.limits      INFO    Generating Asimov data\n",
      "20:42 madminer.limits      INFO    Expected events: 0.3443641708920965\n",
      "20:42 madminer.limits      INFO    Loading score estimator and setting all components up as summary statistics\n",
      "20:42 madminer.ml          INFO    Loading model from models/sally\n",
      "20:42 madminer.ml          INFO    Starting score evaluation\n",
      "20:42 madminer.limits      INFO    Creating histograms of 1 summary statistics. Using (25,) bins each, or 25 in total.\n",
      "20:42 madminer.ml          INFO    Starting score evaluation\n",
      "20:42 madminer.limits      INFO    Calculating kinematic log likelihood with histograms\n",
      "20:42 madminer.limits      INFO    Calculating p-values\n"
     ]
    }
   ],
   "source": [
    "theta_grid, p_values_expected_sally, best_fit_expected_sally, _, _, (histos, observed, observed_weights) = limits.expected_limits(\n",
    "    mode=\"adaptive-sally\",\n",
    "    model_file='models/sally',\n",
    "    theta_true=[1.5],\n",
    "    grid_ranges=grid_ranges,\n",
    "    grid_resolutions=grid_resolutions,\n",
    "    luminosity=lumi,\n",
    "    include_xsec=False,\n",
    "    return_asimov=True,\n",
    "    test_split=0.5,\n",
    "    thetaref=[0.]\n",
    ")\n",
    "\n",
    "p_values[\"SALLY-adaptive signal\"] = p_values_expected_sally\n",
    "mle[\"SALLY-adaptive signal\"] = best_fit_expected_sally\n",
    "\n"
   ]
  },
  {
   "cell_type": "markdown",
   "metadata": {},
   "source": [
    "## Plot"
   ]
  },
  {
   "cell_type": "markdown",
   "metadata": {},
   "source": [
    "Let's plot the results:"
   ]
  },
  {
   "cell_type": "code",
   "execution_count": 23,
   "metadata": {},
   "outputs": [
    {
     "name": "stdout",
     "output_type": "stream",
     "text": [
      "[1.] SALLY-adaptive\n",
      "[1.16985856] SALLINO\n",
      "[0.84934656] SALLY\n",
      "[0.07311616] ALICES\n",
      "[1.36048896] Histogram\n"
     ]
    },
    {
     "data": {
      "image/png": "[encoded data removed]",
      "text/plain": [
       "<Figure size 432x288 with 1 Axes>"
      ]
     },
     "metadata": {
      "needs_background": "light"
     },
     "output_type": "display_data"
    }
   ],
   "source": [
    "#show = \"ALICES\"\n",
    "cmin, cmax = 1.e-3, 1.\n",
    "\n",
    "bin_size = (grid_ranges[0][1] - grid_ranges[0][0])/(grid_resolutions[0] - 1)\n",
    "edges = np.linspace(grid_ranges[0][0] - bin_size/2, grid_ranges[0][1] + bin_size/2, grid_resolutions[0] + 1)\n",
    "centers = np.linspace(grid_ranges[0][0], grid_ranges[0][1], grid_resolutions[0])\n",
    "\n",
    "for i, (label, p_value) in enumerate(six.iteritems(p_values)):\n",
    "    if (label.find(\"signal\") != -1):\n",
    "        continue\n",
    "    #plt.scatter(centers**2, p_value, label=label)\n",
    "    plt.scatter(centers**4, p_value, label=label, s=5)\n",
    "    print (theta_grid[mle[label]]**4, label)\n",
    "#     plt.scatter(\n",
    "#         theta_grid[mle[label]], theta_grid[mle[label]][1],\n",
    "#         s=80., color='C{}'.format(i), marker='*',\n",
    "#         label=label\n",
    "#     )\n",
    "\n",
    "plt.legend()\n",
    "\n",
    "plt.xlabel(r'$\\theta_0$')\n",
    "#plt.xlabel(r'$\\mu$')\n",
    "plt.ylabel(r'p_value')\n",
    "#plt.xlim(0,6)\n",
    "#plt.ylim(0.4,1.03)\n",
    "\n",
    "plt.tight_layout()\n",
    "plt.show()\n",
    "\n"
   ]
  },
  {
   "cell_type": "code",
   "execution_count": null,
   "metadata": {},
   "outputs": [],
   "source": [
    "theta_grid**4"
   ]
  },
  {
   "cell_type": "code",
   "execution_count": 29,
   "metadata": {},
   "outputs": [
    {
     "name": "stdout",
     "output_type": "stream",
     "text": [
      "[1.52] [5.33794816] SALLY signal\n",
      "[1.52] [5.33794816] Histogram signal\n",
      "[1.04] [1.16985856] SALLY-adaptive signal\n",
      "[1.52] [5.33794816] ALICES signal\n"
     ]
    },
    {
     "data": {
      "image/png": "[encoded data removed]",
      "text/plain": [
       "<Figure size 432x288 with 1 Axes>"
      ]
     },
     "metadata": {
      "needs_background": "light"
     },
     "output_type": "display_data"
    }
   ],
   "source": [
    "bin_size = (grid_ranges[0][1] - grid_ranges[0][0])/(grid_resolutions[0] - 1)\n",
    "edges = np.linspace(grid_ranges[0][0] - bin_size/2, grid_ranges[0][1] + bin_size/2, grid_resolutions[0] + 1)\n",
    "centers = np.linspace(grid_ranges[0][0], grid_ranges[0][1], grid_resolutions[0])\n",
    "\n",
    "for i, (label, p_value) in enumerate(six.iteritems(p_values)):\n",
    "    if (label.find(\"signal\") == -1):\n",
    "        continue\n",
    "    plt.scatter(centers**4, p_value, label=label, s=4)\n",
    "    print (theta_grid[mle[label]],theta_grid[mle[label]]**4, label)\n",
    "#     plt.scatter(\n",
    "#         theta_grid[mle[label]][0], theta_grid[mle[label]][1],\n",
    "#         s=80., color='C{}'.format(i), marker='*',\n",
    "#         label=label\n",
    "#     )\n",
    "\n",
    "plt.legend()\n",
    "\n",
    "plt.xlabel(r'$\\theta_0$')\n",
    "#plt.xlabel(r'$\\mu$')\n",
    "plt.ylabel(r'p_value')\n",
    "\n",
    "plt.tight_layout()\n",
    "plt.show()\n",
    "\n",
    "\n"
   ]
  },
  {
   "cell_type": "code",
   "execution_count": null,
   "metadata": {},
   "outputs": [],
   "source": [
    "theta_grid **4"
   ]
  },
  {
   "cell_type": "code",
   "execution_count": null,
   "metadata": {},
   "outputs": [],
   "source": [
    "#show = \"ALICES\"\n",
    "cmin, cmax = 1.e-3, 1.\n",
    "\n",
    "bin_size = (grid_ranges[0][1] - grid_ranges[0][0])/(grid_resolutions[0] - 1)\n",
    "edges = np.linspace(grid_ranges[0][0] - bin_size/2, grid_ranges[0][1] + bin_size/2, grid_resolutions[0] + 1)\n",
    "centers = np.linspace(grid_ranges[0][0], grid_ranges[0][1], grid_resolutions[0])\n",
    "\n",
    "for i, (label, p_value) in enumerate(six.iteritems(p_values)):\n",
    "    if (label.find(\"signal\") != -1) or (label.find(\"SCANDAL\") != -1):\n",
    "        continue\n",
    "    #plt.scatter(centers**2, p_value, label=label)\n",
    "    plt.scatter(centers, p_value, label=label, s=5)\n",
    "    print (theta_grid[mle[label]],theta_grid[mle[label]]**4, label)\n",
    "#     plt.scatter(\n",
    "#         theta_grid[mle[label]], theta_grid[mle[label]][1],\n",
    "#         s=80., color='C{}'.format(i), marker='*',\n",
    "#         label=label\n",
    "#     )\n",
    "#plt.hlines(y=0.95, xmin=0, xmax=2, colors='grey')\n",
    "plt.legend()\n",
    "\n",
    "#plt.xlabel(r'$\\theta_0$')\n",
    "plt.xlabel(r'$\\mu^{\\frac{1}{4}}$')\n",
    "plt.ylabel(r'p_value')\n",
    "#plt.xlim(0,6)\n",
    "#plt.ylim(0.4,1.03)\n",
    "\n",
    "plt.tight_layout()\n",
    "plt.show()\n",
    "\n",
    "\n"
   ]
  },
  {
   "cell_type": "code",
   "execution_count": null,
   "metadata": {},
   "outputs": [],
   "source": []
  }
 ],
 "metadata": {
  "kernelspec": {
   "display_name": "Python 2",
   "language": "python",
   "name": "python2"
  },
  "language_info": {
   "codemirror_mode": {
    "name": "ipython",
    "version": 2
   },
   "file_extension": ".py",
   "mimetype": "text/x-python",
   "name": "python",
   "nbconvert_exporter": "python",
   "pygments_lexer": "ipython2",
   "version": "2.7.12"
  }
 },
 "nbformat": 4,
 "nbformat_minor": 2
}
