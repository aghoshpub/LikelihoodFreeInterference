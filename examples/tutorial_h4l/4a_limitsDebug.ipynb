{
 "cells": [
  {
   "cell_type": "markdown",
   "metadata": {},
   "source": [
    "# MadMiner particle physics tutorial\n",
    "\n",
    "# Part 4a: Limit setting\n",
    "\n",
    "Johann Brehmer, Felix Kling, Irina Espejo, and Kyle Cranmer 2018-2019"
   ]
  },
  {
   "cell_type": "markdown",
   "metadata": {},
   "source": [
    "In part 4a of this tutorial we will use the networks trained in step 3a and 3b to calculate the expected limits on our theory parameters."
   ]
  },
  {
   "cell_type": "markdown",
   "metadata": {},
   "source": [
    "## 0. Preparations"
   ]
  },
  {
   "cell_type": "code",
   "execution_count": 1,
   "metadata": {},
   "outputs": [],
   "source": [
    "from __future__ import absolute_import, division, print_function, unicode_literals\n",
    "\n",
    "import six\n",
    "import logging\n",
    "import numpy as np\n",
    "import matplotlib\n",
    "from matplotlib import pyplot as plt\n",
    "%matplotlib inline\n",
    "\n",
    "from madminer.limits import AsymptoticLimits\n",
    "from madminer.sampling import SampleAugmenter\n",
    "from madminer import sampling\n",
    "from madminer.plotting import plot_histograms\n"
   ]
  },
  {
   "cell_type": "code",
   "execution_count": 2,
   "metadata": {},
   "outputs": [],
   "source": [
    "# MadMiner output\n",
    "logging.basicConfig(\n",
    "    format='%(asctime)-5.5s %(name)-20.20s %(levelname)-7.7s %(message)s',\n",
    "    datefmt='%H:%M',\n",
    "    level=logging.INFO\n",
    ")\n",
    "\n",
    "# Output of all other modules (e.g. matplotlib)\n",
    "for key in logging.Logger.manager.loggerDict:\n",
    "    if \"madminer\" not in key:\n",
    "        # print(\"Deactivating logging output for\", key)\n",
    "        logging.getLogger(key).setLevel(logging.WARNING)"
   ]
  },
  {
   "cell_type": "markdown",
   "metadata": {},
   "source": [
    "## 1. Preparations"
   ]
  },
  {
   "cell_type": "markdown",
   "metadata": {},
   "source": [
    "In the end, what we care about are not plots of the log likelihood ratio, but limits on parameters. But at least under some asymptotic assumptions, these are directly related. MadMiner makes it easy to calculate p-values in the asymptotic limit with the `AsymptoticLimits` class in the `madminer.limits`: "
   ]
  },
  {
   "cell_type": "code",
   "execution_count": 3,
   "metadata": {},
   "outputs": [
    {
     "name": "stderr",
     "output_type": "stream",
     "text": [
      "16:09 madminer.analysis    INFO    Loading data from data/delphes_data_shuffled.h5\n",
      "16:09 madminer.analysis    INFO    Found 1 parameters\n",
      "16:09 madminer.analysis    INFO    Did not find nuisance parameters\n",
      "16:09 madminer.analysis    INFO    Found 3 benchmarks, of which 3 physical\n",
      "16:09 madminer.analysis    INFO    Found 5 observables\n",
      "16:09 madminer.analysis    INFO    Found 1661817 events\n",
      "16:09 madminer.analysis    INFO      567199 signal events sampled from benchmark no-higgs\n",
      "16:09 madminer.analysis    INFO      533072 signal events sampled from benchmark sm\n",
      "16:09 madminer.analysis    INFO      561546 signal events sampled from benchmark 5sq-higgs\n",
      "16:09 madminer.analysis    INFO    Found morphing setup with 3 components\n",
      "16:09 madminer.analysis    INFO    Did not find nuisance morphing setup\n"
     ]
    }
   ],
   "source": [
    "limits = AsymptoticLimits('data/delphes_data_shuffled.h5')"
   ]
  },
  {
   "cell_type": "markdown",
   "metadata": {},
   "source": [
    "This class provids two high-level functions:\n",
    "- `AsymptoticLimits.observed_limits()` lets us calculate p-values on a parameter grid for some observed events, and\n",
    "- `AsymptoticLimits.expected_limits()` lets us calculate expected p-values on a parameter grid based on all data in the MadMiner file.\n",
    "\n",
    "First we have to define the parameter grid on which we evaluate the p-values."
   ]
  },
  {
   "cell_type": "code",
   "execution_count": 4,
   "metadata": {},
   "outputs": [],
   "source": [
    "grid_ranges = [(0., 5.)]\n",
    "grid_resolutions = [25]"
   ]
  },
  {
   "cell_type": "markdown",
   "metadata": {},
   "source": [
    "What luminosity (in inverse pb) are we talking about?"
   ]
  },
  {
   "cell_type": "code",
   "execution_count": 5,
   "metadata": {},
   "outputs": [],
   "source": [
    "lumi = 100."
   ]
  },
  {
   "cell_type": "code",
   "execution_count": 6,
   "metadata": {},
   "outputs": [],
   "source": [
    "p_values = {}\n",
    "mle = {}"
   ]
  },
  {
   "cell_type": "markdown",
   "metadata": {},
   "source": [
    "## 2. Expected limits based on histogram"
   ]
  },
  {
   "cell_type": "markdown",
   "metadata": {},
   "source": [
    "First, as a baseline, let us calculate the expected limits based on a simple jet pT histogram. Right now, there are not a lot of option for this function; MadMiner even calculates the binning automatically. (We will add more functionality!)\n",
    "\n",
    "The keyword `include_xsec` determines whether we include information from the total rate or just use the shapes. Since we don't model backgrounds and systematics in this tutorial, the rate information is unrealistically large, so we leave it out here."
   ]
  },
  {
   "cell_type": "code",
   "execution_count": 34,
   "metadata": {},
   "outputs": [
    {
     "name": "stderr",
     "output_type": "stream",
     "text": [
      "16:17 madminer.limits      INFO    Generating Asimov data\n",
      "16:17 madminer.limits      INFO    Expected events: 1413.9806174826467\n",
      "16:17 madminer.limits      INFO    Setting up standard summary statistics\n",
      "16:17 madminer.limits      INFO    Creating histograms of 1 summary statistics. Using (25,) bins each, or 25 in total.\n",
      "16:17 madminer.limits      INFO    Determining fixed adaptive histogram binning for all points on grid\n",
      "16:17 madminer.limits      INFO    Calculating kinematic log likelihood with histograms\n",
      "16:17 madminer.limits      WARNING Removing %s inf / nan results from calculation\n",
      "16:17 madminer.limits      INFO    Calculating p-values\n"
     ]
    }
   ],
   "source": [
    "theta_grid, p_values_expected_histo, best_fit_expected_histo, _, _, (histos, observed, observed_weights) = limits.expected_limits(\n",
    "    mode=\"histo\",\n",
    "    hist_vars=[\"pt_j1\"],\n",
    "    #hist_vars=[\"delta_eta_jj\"],\n",
    "    theta_true=[4.],\n",
    "    grid_ranges=grid_ranges,\n",
    "    grid_resolutions=grid_resolutions,\n",
    "    luminosity=lumi,\n",
    "    include_xsec=False,\n",
    "    return_asimov=True\n",
    ")\n",
    "\n",
    "p_values[\"Histogram\"] = p_values_expected_histo\n",
    "mle[\"Histogram\"] = best_fit_expected_histo"
   ]
  },
  {
   "cell_type": "code",
   "execution_count": 42,
   "metadata": {},
   "outputs": [
    {
     "data": {
      "text/plain": [
       "array([[0.        ],\n",
       "       [0.20833333],\n",
       "       [0.41666667],\n",
       "       [0.625     ],\n",
       "       [0.83333333],\n",
       "       [1.04166667],\n",
       "       [1.25      ],\n",
       "       [1.45833333],\n",
       "       [1.66666667],\n",
       "       [1.875     ],\n",
       "       [2.08333333],\n",
       "       [2.29166667],\n",
       "       [2.5       ],\n",
       "       [2.70833333],\n",
       "       [2.91666667],\n",
       "       [3.125     ],\n",
       "       [3.33333333],\n",
       "       [3.54166667],\n",
       "       [3.75      ],\n",
       "       [3.95833333],\n",
       "       [4.16666667],\n",
       "       [4.375     ],\n",
       "       [4.58333333],\n",
       "       [4.79166667],\n",
       "       [5.        ]])"
      ]
     },
     "execution_count": 42,
     "metadata": {},
     "output_type": "execute_result"
    }
   ],
   "source": [
    "theta_grid"
   ]
  },
  {
   "cell_type": "code",
   "execution_count": 40,
   "metadata": {},
   "outputs": [
    {
     "data": {
      "text/plain": [
       "(array([6.70713800e-198, 0.00000000e+000, 2.92493028e-008, 1.00000000e+000,\n",
       "        0.00000000e+000, 2.00106007e-198, 7.75143784e-183, 2.10664328e-177,\n",
       "        8.03652690e-175, 2.21547554e-173, 1.71737433e-172, 6.66973516e-172,\n",
       "        1.71935582e-171, 3.42117573e-171, 5.73260798e-171, 8.53091616e-171,\n",
       "        1.16648887e-170, 1.49907489e-170, 1.83889640e-170, 2.17685041e-170,\n",
       "        2.50646910e-170, 2.82345894e-170, 3.12520287e-170, 3.41031732e-170,\n",
       "        3.67829268e-170]), 3)"
      ]
     },
     "execution_count": 40,
     "metadata": {},
     "output_type": "execute_result"
    }
   ],
   "source": [
    "p_values[\"Histogram\"], mle[\"Histogram\"]"
   ]
  },
  {
   "cell_type": "markdown",
   "metadata": {},
   "source": [
    "With `mode=\"rate\"`, we could calculate limits based on only the rate -- but again, since the rate is extremely powerful when backgrounds and systematics are not taken into account, we don't do that in this tutorial."
   ]
  },
  {
   "cell_type": "markdown",
   "metadata": {},
   "source": [
    "Let's visualize the likelihood estimated with these histograms:"
   ]
  },
  {
   "cell_type": "code",
   "execution_count": 35,
   "metadata": {},
   "outputs": [
    {
     "data": {
      "text/plain": [
       "25"
      ]
     },
     "execution_count": 35,
     "metadata": {},
     "output_type": "execute_result"
    }
   ],
   "source": [
    "len(histos)"
   ]
  },
  {
   "cell_type": "code",
   "execution_count": 36,
   "metadata": {},
   "outputs": [
    {
     "data": {
      "image/png": "[encoded data removed]",
      "text/plain": [
       "<Figure size 360x360 with 1 Axes>"
      ]
     },
     "metadata": {
      "needs_background": "light"
     },
     "output_type": "display_data"
    }
   ],
   "source": [
    "#indices = [12 + i * 25 for i in [6,9,12,15,18]]\n",
    "#indices = [6,9,12,15,18]\n",
    "indices = [0,5,6,10,15,20]\n",
    "\n",
    "fig = plot_histograms(\n",
    "    histos=[histos[i] for i in indices],\n",
    "    observed=[observed[i] for i in indices],\n",
    "    observed_weights=observed_weights,\n",
    "    histo_labels=[r\"$\\theta_0 = {:.2f}$\".format(theta_grid[i,0]) for i in indices],\n",
    "    xlabel=\"Jet $p_T$\",\n",
    "    xrange=(0.,400.),\n",
    "    #xrange=(0.,5.),\n",
    ")\n",
    "\n",
    "plt.show()\n"
   ]
  },
  {
   "cell_type": "markdown",
   "metadata": {},
   "source": [
    "## 3. Expected limits based on ratio estimators"
   ]
  },
  {
   "cell_type": "markdown",
   "metadata": {},
   "source": [
    "Next, `mode=\"ml\"` allows us to calculate limits based on any `ParamterizedRatioEstimator` instance like the ALICES estimator trained above:"
   ]
  },
  {
   "cell_type": "code",
   "execution_count": 44,
   "metadata": {},
   "outputs": [
    {
     "name": "stderr",
     "output_type": "stream",
     "text": [
      "14:06 madminer.limits      INFO    Generating Asimov data\n",
      "14:06 madminer.limits      INFO    Expected events: 24.57890075732583\n",
      "14:06 madminer.limits      INFO    Loading kinematic likelihood ratio estimator\n",
      "14:06 madminer.ml          INFO    Loading model from models/alices\n",
      "14:06 madminer.ml          WARNING Parameter scaling information not found in models/alices\n",
      "14:06 madminer.limits      INFO    Calculating kinematic log likelihood ratio with estimator\n",
      "14:06 madminer.ml          INFO    Loading evaluation data\n",
      "14:06 madminer.ml          INFO    Starting ratio evaluation for 2655500 x-theta combinations\n",
      "14:07 madminer.ml          INFO    Evaluation done\n",
      "14:07 madminer.limits      INFO    Calculating p-values\n"
     ]
    }
   ],
   "source": [
    "theta_grid, p_values_expected_alices, best_fit_expected_alices, _, _, _ = limits.expected_limits(\n",
    "    mode=\"ml\",\n",
    "    model_file='models/alices',\n",
    "    theta_true=[1.],\n",
    "    grid_ranges=grid_ranges,\n",
    "    grid_resolutions=grid_resolutions,\n",
    "    luminosity=lumi,\n",
    "    include_xsec=False,\n",
    ")\n",
    "\n",
    "p_values[\"ALICES\"] = p_values_expected_alices\n",
    "mle[\"ALICES\"] = best_fit_expected_alices"
   ]
  },
  {
   "cell_type": "markdown",
   "metadata": {},
   "source": [
    "## 4. Expected limits based on score estimators"
   ]
  },
  {
   "cell_type": "markdown",
   "metadata": {},
   "source": [
    "To get p-values from a SALLY estimator, we have to use histograms of the estimated score:"
   ]
  },
  {
   "cell_type": "code",
   "execution_count": 43,
   "metadata": {},
   "outputs": [
    {
     "name": "stderr",
     "output_type": "stream",
     "text": [
      "16:22 madminer.limits      INFO    Generating Asimov data\n",
      "16:22 madminer.limits      INFO    Expected events: 1413.9806174826467\n",
      "16:22 madminer.limits      INFO    Loading score estimator and setting all components up as summary statistics\n",
      "16:22 madminer.ml          INFO    Loading model from models/sally\n",
      "16:22 madminer.ml          INFO    Starting score evaluation\n",
      "16:22 madminer.limits      INFO    Creating histograms of 1 summary statistics. Using (25,) bins each, or 25 in total.\n",
      "16:22 madminer.limits      INFO    Determining fixed adaptive histogram binning for all points on grid\n",
      "16:22 madminer.ml          INFO    Starting score evaluation\n",
      "16:22 madminer.ml          INFO    Starting score evaluation\n",
      "16:22 madminer.limits      INFO    Calculating kinematic log likelihood with histograms\n",
      "16:22 madminer.limits      WARNING Removing %s inf / nan results from calculation\n",
      "16:22 madminer.limits      INFO    Calculating p-values\n"
     ]
    }
   ],
   "source": [
    "theta_grid, p_values_expected_sally, best_fit_expected_sally, _, _, (histos, observed, observed_weights) = limits.expected_limits(\n",
    "    mode=\"sally\",\n",
    "    model_file='models/sally',\n",
    "    theta_true=[4.],\n",
    "    grid_ranges=grid_ranges,\n",
    "    grid_resolutions=grid_resolutions,\n",
    "    luminosity=lumi,\n",
    "    include_xsec=False,\n",
    "    return_asimov=True,\n",
    ")\n",
    "\n",
    "p_values[\"SALLY\"] = p_values_expected_sally\n",
    "mle[\"SALLY\"] = best_fit_expected_sally"
   ]
  },
  {
   "cell_type": "code",
   "execution_count": 44,
   "metadata": {},
   "outputs": [
    {
     "data": {
      "text/plain": [
       "((25, 112334, 1), (112334,))"
      ]
     },
     "execution_count": 44,
     "metadata": {},
     "output_type": "execute_result"
    }
   ],
   "source": [
    "observed.shape, observed_weights.shape"
   ]
  },
  {
   "cell_type": "markdown",
   "metadata": {},
   "source": [
    "Let's have a look at the underlying 2D histograms:"
   ]
  },
  {
   "cell_type": "code",
   "execution_count": 45,
   "metadata": {},
   "outputs": [
    {
     "data": {
      "image/png": "[encoded data removed]",
      "text/plain": [
       "<Figure size 360x360 with 1 Axes>"
      ]
     },
     "metadata": {
      "needs_background": "light"
     },
     "output_type": "display_data"
    }
   ],
   "source": [
    "#indices = [12 + i * 25 for i in [0,6,12,18,24]]\n",
    "indices = [0,5,6,10,15,20]\n",
    "\n",
    "fig = plot_histograms(\n",
    "    histos=[histos[i] for i in indices],\n",
    "    #observed=observed[0,:100,:],\n",
    "    #observed_weights=observed_weights[:100],\n",
    "    observed=observed[0,:,:],\n",
    "    observed_weights=observed_weights,\n",
    "    histo_labels=[r\"$\\theta_0 = {:.2f}$\".format(theta_grid[i,0]) for i in indices],\n",
    "    #xlabel=r'$\\hat{t}_0(x)$',\n",
    "    #ylabel=r'$\\hat{t}_1(x)$',\n",
    "    xrange=(-10.,50),\n",
    "    #yrange=(-3.,1.),\n",
    "    log=True,\n",
    "    #zrange=(1.e-3,1.),\n",
    "    markersize=10.\n",
    ")\n",
    "    "
   ]
  },
  {
   "cell_type": "markdown",
   "metadata": {},
   "source": [
    "## 6. Toy signal"
   ]
  },
  {
   "cell_type": "markdown",
   "metadata": {},
   "source": [
    "In addition to these expected limits (based on the SM), let us inject a mock signal. We first generate the data:"
   ]
  },
  {
   "cell_type": "code",
   "execution_count": 47,
   "metadata": {},
   "outputs": [
    {
     "name": "stderr",
     "output_type": "stream",
     "text": [
      "14:07 madminer.analysis    INFO    Loading data from data/delphes_data_shuffled.h5\n",
      "14:07 madminer.analysis    INFO    Found 1 parameters\n",
      "14:07 madminer.analysis    INFO    Did not find nuisance parameters\n",
      "14:07 madminer.analysis    INFO    Found 3 benchmarks, of which 3 physical\n",
      "14:07 madminer.analysis    INFO    Found 5 observables\n",
      "14:07 madminer.analysis    INFO    Found 1661817 events\n",
      "14:07 madminer.analysis    INFO      567199 signal events sampled from benchmark no-higgs\n",
      "14:07 madminer.analysis    INFO      533072 signal events sampled from benchmark sm\n",
      "14:07 madminer.analysis    INFO      561546 signal events sampled from benchmark 5sq-higgs\n",
      "14:07 madminer.analysis    INFO    Found morphing setup with 3 components\n",
      "14:07 madminer.analysis    INFO    Did not find nuisance morphing setup\n",
      "14:07 madminer.sampling    INFO    Extracting evaluation sample. Sampling according to [4.]\n",
      "14:07 madminer.sampling    INFO    Starting sampling serially\n",
      "14:07 madminer.sampling    INFO    Sampling from parameter point 1 / 1\n",
      "14:07 madminer.sampling    INFO    Effective number of samples: mean 29918.42206351773, with individual thetas ranging from 29918.422063517723 to 29918.422063517723\n"
     ]
    }
   ],
   "source": [
    "sampler = SampleAugmenter('data/delphes_data_shuffled.h5')\n",
    "x_observed, _, _ = sampler.sample_test(\n",
    "    theta=sampling.morphing_point([4.]),\n",
    "    n_samples=1000,\n",
    "    folder=None,\n",
    "    filename=None,\n",
    ")"
   ]
  },
  {
   "cell_type": "code",
   "execution_count": 14,
   "metadata": {},
   "outputs": [],
   "source": [
    "obs_n = 79"
   ]
  },
  {
   "cell_type": "code",
   "execution_count": 17,
   "metadata": {},
   "outputs": [
    {
     "name": "stderr",
     "output_type": "stream",
     "text": [
      "18:32 madminer.limits      INFO    Loading kinematic likelihood ratio estimator\n",
      "18:32 madminer.ml          INFO    Loading model from models/alices\n",
      "18:32 madminer.ml          WARNING Parameter scaling information not found in models/alices\n",
      "18:32 madminer.limits      INFO    Calculating kinematic log likelihood ratio with estimator\n",
      "18:32 madminer.ml          INFO    Loading evaluation data\n",
      "18:32 madminer.ml          INFO    Starting ratio evaluation for 25000 x-theta combinations\n",
      "18:32 madminer.ml          INFO    Evaluation done\n",
      "18:32 madminer.limits      INFO    Calculating p-values\n"
     ]
    }
   ],
   "source": [
    "_, p_values_observed, best_fit_observed, _, _, _ = limits.observed_limits(\n",
    "    n_observed=obs_n,\n",
    "    x_observed=x_observed,\n",
    "    mode=\"ml\",\n",
    "    model_file='models/alices',\n",
    "    grid_ranges=grid_ranges,\n",
    "    grid_resolutions=grid_resolutions,\n",
    "    luminosity=lumi,\n",
    "    include_xsec=False,\n",
    ")\n",
    "\n",
    "p_values[\"ALICES signal\"] = p_values_observed\n",
    "mle[\"ALICES signal\"] = best_fit_observed"
   ]
  },
  {
   "cell_type": "code",
   "execution_count": 48,
   "metadata": {},
   "outputs": [
    {
     "name": "stderr",
     "output_type": "stream",
     "text": [
      "14:07 madminer.limits      INFO    Generating Asimov data\n",
      "14:07 madminer.limits      INFO    Expected events: 1413.9806174826467\n",
      "14:07 madminer.limits      INFO    Loading kinematic likelihood ratio estimator\n",
      "14:07 madminer.ml          INFO    Loading model from models/alices\n",
      "14:07 madminer.ml          WARNING Parameter scaling information not found in models/alices\n",
      "14:07 madminer.limits      INFO    Calculating kinematic log likelihood ratio with estimator\n",
      "14:07 madminer.ml          INFO    Loading evaluation data\n",
      "14:07 madminer.ml          INFO    Starting ratio evaluation for 2808350 x-theta combinations\n",
      "14:08 madminer.ml          INFO    Evaluation done\n",
      "14:08 madminer.limits      INFO    Calculating p-values\n"
     ]
    }
   ],
   "source": [
    "theta_grid, p_values_expected_alices, best_fit_expected_alices, _, _, _ = limits.expected_limits(\n",
    "    mode=\"ml\",\n",
    "    model_file='models/alices',\n",
    "    theta_true=[4.],\n",
    "    grid_ranges=grid_ranges,\n",
    "    grid_resolutions=grid_resolutions,\n",
    "    luminosity=lumi,\n",
    "    include_xsec=False,\n",
    ")\n",
    "\n",
    "p_values[\"ALICES signal\"] = p_values_expected_alices\n",
    "mle[\"ALICES signal\"] = best_fit_expected_alices"
   ]
  },
  {
   "cell_type": "code",
   "execution_count": 18,
   "metadata": {},
   "outputs": [
    {
     "name": "stderr",
     "output_type": "stream",
     "text": [
      "18:32 madminer.limits      INFO    Loading score estimator and setting all components up as summary statistics\n",
      "18:32 madminer.ml          INFO    Loading model from models/sally\n",
      "18:32 madminer.ml          INFO    Starting score evaluation\n",
      "18:32 madminer.limits      INFO    Creating histograms of 1 summary statistics. Using (25,) bins each, or 25 in total.\n",
      "18:32 madminer.limits      INFO    Determining fixed adaptive histogram binning for all points on grid\n",
      "18:32 madminer.ml          INFO    Starting score evaluation\n",
      "18:32 madminer.ml          INFO    Starting score evaluation\n",
      "18:32 madminer.limits      INFO    Calculating kinematic log likelihood with histograms\n",
      "18:32 madminer.limits      WARNING Removing %s inf / nan results from calculation\n",
      "18:32 madminer.limits      INFO    Calculating p-values\n"
     ]
    }
   ],
   "source": [
    "theta_grid, p_values_expected_sally, best_fit_expected_sally, _, _, _ = limits.observed_limits(\n",
    "    mode=\"sally\",\n",
    "    model_file='models/sally',\n",
    "    n_observed=obs_n,\n",
    "    x_observed=x_observed,\n",
    "    grid_ranges=grid_ranges,\n",
    "    grid_resolutions=grid_resolutions,\n",
    "    luminosity=lumi,\n",
    "    include_xsec=False,\n",
    ")\n",
    "\n",
    "p_values[\"SALLY signal\"] = p_values_expected_sally\n",
    "mle[\"SALLY signal\"] = best_fit_expected_sally"
   ]
  },
  {
   "cell_type": "code",
   "execution_count": 19,
   "metadata": {},
   "outputs": [
    {
     "name": "stderr",
     "output_type": "stream",
     "text": [
      "18:32 madminer.limits      INFO    Setting up standard summary statistics\n",
      "18:32 madminer.limits      INFO    Creating histograms of 1 summary statistics. Using (25,) bins each, or 25 in total.\n",
      "18:32 madminer.limits      INFO    Determining fixed adaptive histogram binning for all points on grid\n",
      "18:32 madminer.limits      INFO    Calculating kinematic log likelihood with histograms\n",
      "18:32 madminer.limits      WARNING Removing %s inf / nan results from calculation\n",
      "18:32 madminer.limits      INFO    Calculating p-values\n"
     ]
    }
   ],
   "source": [
    "theta_grid, p_values_expected_histo, best_fit_expected_histo, _, _, _ = limits.observed_limits(\n",
    "    mode=\"histo\",\n",
    "    hist_vars=[\"pt_j1\"],\n",
    "    n_observed=obs_n,\n",
    "    x_observed=x_observed,\n",
    "    grid_ranges=grid_ranges,\n",
    "    grid_resolutions=grid_resolutions,\n",
    "    luminosity=lumi,\n",
    "    include_xsec=False,\n",
    ")\n",
    "\n",
    "p_values[\"Histogram signal\"] = p_values_expected_histo\n",
    "mle[\"Histogram signal\"] = best_fit_expected_histo"
   ]
  },
  {
   "cell_type": "code",
   "execution_count": 49,
   "metadata": {},
   "outputs": [
    {
     "name": "stderr",
     "output_type": "stream",
     "text": [
      "14:08 madminer.limits      INFO    Generating Asimov data\n",
      "14:08 madminer.limits      INFO    Expected events: 1413.9806174826467\n",
      "14:08 madminer.limits      INFO    Setting up standard summary statistics\n",
      "14:08 madminer.limits      INFO    Creating histograms of 1 summary statistics. Using (25,) bins each, or 25 in total.\n",
      "14:08 madminer.limits      INFO    Determining fixed adaptive histogram binning for all points on grid\n",
      "14:08 madminer.limits      INFO    Calculating kinematic log likelihood with histograms\n",
      "14:08 madminer.limits      WARNING Removing %s inf / nan results from calculation\n",
      "14:08 madminer.limits      INFO    Calculating p-values\n"
     ]
    }
   ],
   "source": [
    "theta_grid, p_values_expected_histo, best_fit_expected_histo, _, _, (histos, observed, observed_weights) = limits.expected_limits(\n",
    "    mode=\"histo\",\n",
    "    hist_vars=[\"pt_j1\"],\n",
    "    theta_true=[4.],\n",
    "    grid_ranges=grid_ranges,\n",
    "    grid_resolutions=grid_resolutions,\n",
    "    luminosity=lumi,\n",
    "    include_xsec=False,\n",
    "    return_asimov=True\n",
    ")\n",
    "\n",
    "p_values[\"Histogram signal\"] = p_values_expected_histo\n",
    "mle[\"Histogram signal\"] = best_fit_expected_histo"
   ]
  },
  {
   "cell_type": "markdown",
   "metadata": {},
   "source": [
    "## Plot"
   ]
  },
  {
   "cell_type": "markdown",
   "metadata": {},
   "source": [
    "Let's plot the results:"
   ]
  },
  {
   "cell_type": "code",
   "execution_count": 33,
   "metadata": {},
   "outputs": [
    {
     "name": "stdout",
     "output_type": "stream",
     "text": [
      "[0.41666667] SALLY\n",
      "[0.625] Histogram\n"
     ]
    },
    {
     "data": {
      "image/png": "[encoded data removed]",
      "text/plain": [
       "<Figure size 432x288 with 1 Axes>"
      ]
     },
     "metadata": {
      "needs_background": "light"
     },
     "output_type": "display_data"
    }
   ],
   "source": [
    "#show = \"ALICES\"\n",
    "cmin, cmax = 1.e-3, 1.\n",
    "\n",
    "bin_size = (grid_ranges[0][1] - grid_ranges[0][0])/(grid_resolutions[0] - 1)\n",
    "edges = np.linspace(grid_ranges[0][0] - bin_size/2, grid_ranges[0][1] + bin_size/2, grid_resolutions[0] + 1)\n",
    "centers = np.linspace(grid_ranges[0][0], grid_ranges[0][1], grid_resolutions[0])\n",
    "\n",
    "for i, (label, p_value) in enumerate(six.iteritems(p_values)):\n",
    "    if (label.find(\"signal\") != -1):\n",
    "        continue\n",
    "    #plt.scatter(centers**2, p_value, label=label)\n",
    "    plt.scatter(centers, p_value, label=label)\n",
    "    print (theta_grid[mle[label]], label)\n",
    "#     plt.scatter(\n",
    "#         theta_grid[mle[label]], theta_grid[mle[label]][1],\n",
    "#         s=80., color='C{}'.format(i), marker='*',\n",
    "#         label=label\n",
    "#     )\n",
    "\n",
    "plt.legend()\n",
    "\n",
    "plt.xlabel(r'$\\theta_0$')\n",
    "#plt.xlabel(r'$\\mu$')\n",
    "plt.ylabel(r'p_value')\n",
    "#plt.xlim(0,5)\n",
    "\n",
    "plt.tight_layout()\n",
    "plt.show()\n",
    "\n"
   ]
  },
  {
   "cell_type": "code",
   "execution_count": 51,
   "metadata": {},
   "outputs": [
    {
     "name": "stdout",
     "output_type": "stream",
     "text": [
      "[0.83333333] ALICES signal\n",
      "[0.625] Histogram signal\n"
     ]
    },
    {
     "data": {
      "image/png": "[encoded data removed]",
      "text/plain": [
       "<Figure size 432x288 with 1 Axes>"
      ]
     },
     "metadata": {
      "needs_background": "light"
     },
     "output_type": "display_data"
    }
   ],
   "source": [
    "bin_size = (grid_ranges[0][1] - grid_ranges[0][0])/(grid_resolutions[0] - 1)\n",
    "edges = np.linspace(grid_ranges[0][0] - bin_size/2, grid_ranges[0][1] + bin_size/2, grid_resolutions[0] + 1)\n",
    "centers = np.linspace(grid_ranges[0][0], grid_ranges[0][1], grid_resolutions[0])\n",
    "\n",
    "for i, (label, p_value) in enumerate(six.iteritems(p_values)):\n",
    "    if (label.find(\"signal\") == -1):\n",
    "        continue\n",
    "    plt.scatter(centers, p_value, label=label)\n",
    "    print (theta_grid[mle[label]], label)\n",
    "#     plt.scatter(\n",
    "#         theta_grid[mle[label]][0], theta_grid[mle[label]][1],\n",
    "#         s=80., color='C{}'.format(i), marker='*',\n",
    "#         label=label\n",
    "#     )\n",
    "\n",
    "plt.legend()\n",
    "\n",
    "plt.xlabel(r'$\\theta_0$')\n",
    "plt.ylabel(r'p_value')\n",
    "\n",
    "plt.tight_layout()\n",
    "plt.show()\n",
    "\n",
    "\n"
   ]
  },
  {
   "cell_type": "code",
   "execution_count": null,
   "metadata": {},
   "outputs": [],
   "source": []
  }
 ],
 "metadata": {
  "kernelspec": {
   "display_name": "Python 2",
   "language": "python",
   "name": "python2"
  },
  "language_info": {
   "codemirror_mode": {
    "name": "ipython",
    "version": 2
   },
   "file_extension": ".py",
   "mimetype": "text/x-python",
   "name": "python",
   "nbconvert_exporter": "python",
   "pygments_lexer": "ipython2",
   "version": "2.7.12"
  }
 },
 "nbformat": 4,
 "nbformat_minor": 2
}
