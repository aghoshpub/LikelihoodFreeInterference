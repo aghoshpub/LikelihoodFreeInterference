{
 "cells": [
  {
   "cell_type": "markdown",
   "metadata": {},
   "source": [
    "# MadMiner particle physics tutorial\n",
    "\n",
    "# Part 3a: Training a likelihood ratio estimator\n",
    "\n",
    "Johann Brehmer, Felix Kling, Irina Espejo, and Kyle Cranmer 2018-2019"
   ]
  },
  {
   "cell_type": "markdown",
   "metadata": {},
   "source": [
    "In part 3a of this tutorial we will finally train a neural network to estimate likelihood ratios. We assume that you have run part 1 and 2a of this tutorial. If, instead of 2a, you have run part 2b, you just have to load a different filename later."
   ]
  },
  {
   "cell_type": "markdown",
   "metadata": {},
   "source": [
    "## Preparations"
   ]
  },
  {
   "cell_type": "code",
   "execution_count": 1,
   "metadata": {},
   "outputs": [
    {
     "name": "stderr",
     "output_type": "stream",
     "text": [
      "/usr/local/lib/python2.7/site-packages/h5py/__init__.py:36: FutureWarning: Conversion of the second argument of issubdtype from `float` to `np.floating` is deprecated. In future, it will be treated as `np.float64 == np.dtype(float).type`.\n",
      "  from ._conv import register_converters as _register_converters\n"
     ]
    }
   ],
   "source": [
    "from __future__ import absolute_import, division, print_function, unicode_literals\n",
    "\n",
    "import logging\n",
    "import numpy as np\n",
    "import matplotlib\n",
    "from matplotlib import pyplot as plt\n",
    "%matplotlib inline\n",
    "\n",
    "from madminer.sampling import SampleAugmenter\n",
    "from madminer import sampling\n",
    "from madminer.ml import ParameterizedRatioEstimator\n"
   ]
  },
  {
   "cell_type": "code",
   "execution_count": 2,
   "metadata": {},
   "outputs": [],
   "source": [
    "# MadMiner output\n",
    "logging.basicConfig(\n",
    "    format='%(asctime)-5.5s %(name)-20.20s %(levelname)-7.7s %(message)s',\n",
    "    datefmt='%H:%M',\n",
    "    level=logging.INFO\n",
    ")\n",
    "\n",
    "# Output of all other modules (e.g. matplotlib)\n",
    "for key in logging.Logger.manager.loggerDict:\n",
    "    if \"madminer\" not in key:\n",
    "        logging.getLogger(key).setLevel(logging.WARNING)"
   ]
  },
  {
   "cell_type": "markdown",
   "metadata": {},
   "source": [
    "## 1. Make (unweighted) training and test samples with augmented data"
   ]
  },
  {
   "cell_type": "markdown",
   "metadata": {},
   "source": [
    "At this point, we have all the information we need from the simulations. But the data is not quite ready to be used for machine learning. The `madminer.sampling` class `SampleAugmenter` will take care of the remaining book-keeping steps before we can train our estimators:\n",
    "\n",
    "First, it unweights the samples, i.e. for a given parameter vector `theta` (or a distribution `p(theta)`) it picks events `x` such that their distribution follows `p(x|theta)`. The selected samples will all come from the event file we have so far, but their frequency is changed -- some events will appear multiple times, some will disappear.\n",
    "\n",
    "Second, `SampleAugmenter` calculates all the augmented data (\"gold\") that is the key to our new inference methods. Depending on the specific technique, these are the joint likelihood ratio and / or the joint score. It saves all these pieces of information for the selected events in a set of numpy files that can easily be used in any machine learning framework."
   ]
  },
  {
   "cell_type": "code",
   "execution_count": 3,
   "metadata": {},
   "outputs": [
    {
     "name": "stderr",
     "output_type": "stream",
     "text": [
      "22:17 madminer.analysis    INFO    Loading data from data/delphes_data_shuffled.h5\n",
      "22:17 madminer.analysis    INFO    Found 1 parameters\n",
      "22:17 madminer.analysis    INFO    Did not find nuisance parameters\n",
      "22:17 madminer.analysis    INFO    Found 6 benchmarks, of which 6 physical\n",
      "22:17 madminer.analysis    INFO    Found 35 observables\n",
      "22:17 madminer.analysis    INFO    Found 3635115 events\n",
      "22:17 madminer.analysis    INFO      856510 signal events sampled from benchmark no-higgs\n",
      "22:17 madminer.analysis    INFO      821845 signal events sampled from benchmark 0.8_k\n",
      "22:17 madminer.analysis    INFO      922750 signal events sampled from benchmark sm\n",
      "22:17 madminer.analysis    INFO      112840 signal events sampled from benchmark 1.2_k\n",
      "22:17 madminer.analysis    INFO      807988 signal events sampled from benchmark 1.5_k\n",
      "22:17 madminer.analysis    INFO      113182 signal events sampled from benchmark 1.35_k\n",
      "22:17 madminer.analysis    INFO    Found morphing setup with 5 components\n",
      "22:17 madminer.analysis    INFO    Did not find nuisance morphing setup\n"
     ]
    }
   ],
   "source": [
    "#sampler = SampleAugmenter('data/lhe_data_shuffled.h5')\n",
    "sampler = SampleAugmenter('data/delphes_data_shuffled.h5')"
   ]
  },
  {
   "cell_type": "markdown",
   "metadata": {},
   "source": [
    "The `SampleAugmenter` class defines five different high-level functions to generate train or test samples:\n",
    "- `sample_train_plain()`, which only saves observations x, for instance for histograms or ABC;\n",
    "- `sample_train_local()` for methods like SALLY and SALLINO, which will be demonstrated in the second part of the tutorial;\n",
    "- `sample_train_density()` for neural density estimation techniques like MAF or SCANDAL;\n",
    "- `sample_train_ratio()` for techniques like CARL, ROLR, CASCAL, and RASCAL, when only theta0 is parameterized;\n",
    "- `sample_train_more_ratios()` for the same techniques, but with both theta0 and theta1 parameterized;\n",
    "- `sample_test()` for the evaluation of any method.\n",
    "\n",
    "For the arguments `theta`, `theta0`, or `theta1`, you can (and should!) use the helper functions `benchmark()`, `benchmarks()`, `morphing_point()`, `morphing_points()`, and `random_morphing_points()`, all defined in the `madminer.sampling` module.\n",
    "\n",
    "Here we'll train a likelihood ratio estimator with the ALICES method, so we focus on the `extract_samples_train_ratio()` function. We'll sample the numerator hypothesis in the likelihood ratio with 1000 points drawn from a Gaussian prior, and fix the denominator hypothesis to the SM.\n",
    "\n",
    "Note the keyword `sample_only_from_closest_benchmark=True`, which makes sure that for each parameter point we only use the events that were originally (in MG) generated from the closest benchmark. This reduces the statistical fluctuations in the outcome quite a bit."
   ]
  },
  {
   "cell_type": "code",
   "execution_count": 4,
   "metadata": {},
   "outputs": [
    {
     "ename": "IOError",
     "evalue": "[Errno 2] No such file or directory: u'./data/samples/train_ratioJB.npy'",
     "output_type": "error",
     "traceback": [
      "\u001b[0;31m---------------------------------------------------------------------------\u001b[0m",
      "\u001b[0;31mIOError\u001b[0m                                   Traceback (most recent call last)",
      "\u001b[0;32m<ipython-input-4-f57ee8ff942a>\u001b[0m in \u001b[0;36m<module>\u001b[0;34m()\u001b[0m\n\u001b[0;32m----> 1\u001b[0;31m \u001b[0mlll\u001b[0m \u001b[0;34m=\u001b[0m \u001b[0mnp\u001b[0m\u001b[0;34m.\u001b[0m\u001b[0mload\u001b[0m\u001b[0;34m(\u001b[0m\u001b[0;34m\"./data/samples/train_ratioJB.npy\"\u001b[0m\u001b[0;34m)\u001b[0m\u001b[0;34m\u001b[0m\u001b[0m\n\u001b[0m",
      "\u001b[0;32m/usr/local/lib/python2.7/site-packages/numpy/lib/npyio.pyc\u001b[0m in \u001b[0;36mload\u001b[0;34m(file, mmap_mode, allow_pickle, fix_imports, encoding)\u001b[0m\n\u001b[1;32m    370\u001b[0m     \u001b[0mown_fid\u001b[0m \u001b[0;34m=\u001b[0m \u001b[0mFalse\u001b[0m\u001b[0;34m\u001b[0m\u001b[0m\n\u001b[1;32m    371\u001b[0m     \u001b[0;32mif\u001b[0m \u001b[0misinstance\u001b[0m\u001b[0;34m(\u001b[0m\u001b[0mfile\u001b[0m\u001b[0;34m,\u001b[0m \u001b[0mbasestring\u001b[0m\u001b[0;34m)\u001b[0m\u001b[0;34m:\u001b[0m\u001b[0;34m\u001b[0m\u001b[0m\n\u001b[0;32m--> 372\u001b[0;31m         \u001b[0mfid\u001b[0m \u001b[0;34m=\u001b[0m \u001b[0mopen\u001b[0m\u001b[0;34m(\u001b[0m\u001b[0mfile\u001b[0m\u001b[0;34m,\u001b[0m \u001b[0;34m\"rb\"\u001b[0m\u001b[0;34m)\u001b[0m\u001b[0;34m\u001b[0m\u001b[0m\n\u001b[0m\u001b[1;32m    373\u001b[0m         \u001b[0mown_fid\u001b[0m \u001b[0;34m=\u001b[0m \u001b[0mTrue\u001b[0m\u001b[0;34m\u001b[0m\u001b[0m\n\u001b[1;32m    374\u001b[0m     \u001b[0;32melif\u001b[0m \u001b[0mis_pathlib_path\u001b[0m\u001b[0;34m(\u001b[0m\u001b[0mfile\u001b[0m\u001b[0;34m)\u001b[0m\u001b[0;34m:\u001b[0m\u001b[0;34m\u001b[0m\u001b[0m\n",
      "\u001b[0;31mIOError\u001b[0m: [Errno 2] No such file or directory: u'./data/samples/train_ratioJB.npy'"
     ]
    }
   ],
   "source": [
    "lll = np.load(\"./data/samples/train_ratioJB.npy\")"
   ]
  },
  {
   "cell_type": "markdown",
   "metadata": {},
   "source": [
    "# load saved version from next time!!!"
   ]
  },
  {
   "cell_type": "code",
   "execution_count": 7,
   "metadata": {},
   "outputs": [],
   "source": [
    "x, theta0, theta1, y, r_xz, t_xz = [np.load(\"./data/samples/{}_train_ratioJB.npy\".format(var)) for \n",
    "                        var in [\"x\", \"theta0\", \"theta1\", \"y\", \"r_xz\", \"t_xz\"]]"
   ]
  },
  {
   "cell_type": "code",
   "execution_count": 4,
   "metadata": {},
   "outputs": [
    {
     "name": "stderr",
     "output_type": "stream",
     "text": [
      "21:56 madminer.sampling    INFO    Extracting training sample for ratio-based methods. Numerator hypothesis: 100 random morphing points, drawn from the following priors:\n",
      "  theta_0 ~ flat from 0.0 to 2.0, denominator hypothesis: sm\n",
      "21:56 madminer.sampling    INFO    Starting sampling serially\n",
      "21:56 madminer.sampling    INFO    Sampling from parameter point 5 / 100\n",
      "21:56 madminer.sampling    INFO    Sampling from parameter point 10 / 100\n",
      "21:56 madminer.sampling    INFO    Sampling from parameter point 15 / 100\n",
      "21:56 madminer.sampling    INFO    Sampling from parameter point 20 / 100\n",
      "21:56 madminer.sampling    INFO    Sampling from parameter point 25 / 100\n",
      "21:57 madminer.sampling    INFO    Sampling from parameter point 30 / 100\n",
      "21:57 madminer.sampling    INFO    Sampling from parameter point 35 / 100\n",
      "21:57 madminer.sampling    INFO    Sampling from parameter point 40 / 100\n",
      "21:57 madminer.sampling    INFO    Sampling from parameter point 45 / 100\n",
      "21:57 madminer.sampling    INFO    Sampling from parameter point 50 / 100\n",
      "21:57 madminer.sampling    INFO    Sampling from parameter point 55 / 100\n",
      "21:57 madminer.sampling    INFO    Sampling from parameter point 60 / 100\n",
      "21:58 madminer.sampling    INFO    Sampling from parameter point 65 / 100\n",
      "21:58 madminer.sampling    INFO    Sampling from parameter point 70 / 100\n",
      "21:58 madminer.sampling    INFO    Sampling from parameter point 75 / 100\n",
      "21:58 madminer.sampling    INFO    Sampling from parameter point 80 / 100\n",
      "21:58 madminer.sampling    INFO    Sampling from parameter point 85 / 100\n",
      "21:58 madminer.sampling    INFO    Sampling from parameter point 90 / 100\n",
      "21:58 madminer.sampling    INFO    Sampling from parameter point 95 / 100\n",
      "21:58 madminer.sampling    INFO    Sampling from parameter point 100 / 100\n",
      "21:59 madminer.sampling    INFO    Effective number of samples: mean 146977.96230970544, with individual thetas ranging from 10120.411876373551 to 520786.6798921238\n",
      "21:59 madminer.sampling    INFO    Starting sampling serially\n",
      "21:59 madminer.sampling    INFO    Sampling from parameter point 5 / 100\n",
      "21:59 madminer.sampling    INFO    Sampling from parameter point 10 / 100\n",
      "21:59 madminer.sampling    INFO    Sampling from parameter point 15 / 100\n",
      "21:59 madminer.sampling    INFO    Sampling from parameter point 20 / 100\n",
      "21:59 madminer.sampling    INFO    Sampling from parameter point 25 / 100\n",
      "21:59 madminer.sampling    INFO    Sampling from parameter point 30 / 100\n",
      "21:59 madminer.sampling    INFO    Sampling from parameter point 35 / 100\n",
      "22:00 madminer.sampling    INFO    Sampling from parameter point 40 / 100\n",
      "22:00 madminer.sampling    INFO    Sampling from parameter point 45 / 100\n",
      "22:00 madminer.sampling    INFO    Sampling from parameter point 50 / 100\n",
      "22:00 madminer.sampling    INFO    Sampling from parameter point 55 / 100\n",
      "22:00 madminer.sampling    INFO    Sampling from parameter point 60 / 100\n",
      "22:00 madminer.sampling    INFO    Sampling from parameter point 65 / 100\n",
      "22:01 madminer.sampling    INFO    Sampling from parameter point 70 / 100\n",
      "22:01 madminer.sampling    INFO    Sampling from parameter point 75 / 100\n",
      "22:01 madminer.sampling    INFO    Sampling from parameter point 80 / 100\n",
      "22:01 madminer.sampling    INFO    Sampling from parameter point 85 / 100\n",
      "22:01 madminer.sampling    INFO    Sampling from parameter point 90 / 100\n",
      "22:01 madminer.sampling    INFO    Sampling from parameter point 95 / 100\n",
      "22:01 madminer.sampling    INFO    Sampling from parameter point 100 / 100\n",
      "22:02 madminer.sampling    INFO    Effective number of samples: mean 522080.532047783, with individual thetas ranging from 522080.5320477788 to 522080.5320477788\n"
     ]
    }
   ],
   "source": [
    "x, theta0, theta1, y, r_xz, t_xz, n_effective = sampler.sample_train_ratio(\n",
    "    theta0=sampling.random_morphing_points(100, [('flat', 0., 2.)]),\n",
    "    theta1=sampling.benchmark('sm'),\n",
    "    n_samples=10000000,\n",
    "    folder='./data/samples',\n",
    "    filename='train_ratioJB',\n",
    "    sample_only_from_closest_benchmark=True,\n",
    "    #sample_only_from_closest_benchmark=False,\n",
    "    return_individual_n_effective=True,\n",
    ")"
   ]
  },
  {
   "cell_type": "markdown",
   "metadata": {},
   "source": [
    "Let's also make a validation sample:"
   ]
  },
  {
   "cell_type": "raw",
   "metadata": {},
   "source": [
    "_ = sampler.sample_train_ratio(\n",
    "    theta0=sampling.random_morphing_points(100, [('flat', 0., 2.)]),\n",
    "    theta1=sampling.benchmark('sm'),\n",
    "    n_samples=100000,\n",
    "    folder='./data/samples',\n",
    "    filename='val_ratioJB',\n",
    "    sample_only_from_closest_benchmark=True,\n",
    "    return_individual_n_effective=True,\n",
    "    partition=\"validation\"\n",
    ")"
   ]
  },
  {
   "cell_type": "markdown",
   "metadata": {},
   "source": [
    "For the evaluation we'll need a few test samples:"
   ]
  },
  {
   "cell_type": "raw",
   "metadata": {
    "scrolled": true
   },
   "source": [
    "_ = sampler.sample_test(\n",
    "    theta=sampling.morphing_point([0.]),\n",
    "    n_samples=10000,\n",
    "    folder='./data/samples',\n",
    "    filename='test00'\n",
    ")\n",
    "\n",
    "_ = sampler.sample_test(\n",
    "    theta=sampling.morphing_point([0.3]),\n",
    "    n_samples=10000,\n",
    "    folder='./data/samples',\n",
    "    filename='test08'\n",
    ")\n",
    "\n",
    "_ = sampler.sample_test(\n",
    "    theta=sampling.morphing_point([1.0]),\n",
    "    n_samples=10000,\n",
    "    folder='./data/samples',\n",
    "    filename='test10'\n",
    ")\n",
    "\n",
    "_ = sampler.sample_test(\n",
    "    theta=sampling.morphing_point([1.2]),\n",
    "    n_samples=10000,\n",
    "    folder='./data/samples',\n",
    "    filename='test12'\n",
    ")\n",
    "\n",
    "_ = sampler.sample_test(\n",
    "    theta=sampling.morphing_point([1.7]),\n",
    "    n_samples=10000,\n",
    "    folder='./data/samples',\n",
    "    filename='test20'\n",
    ")\n",
    "\n",
    "_ = sampler.sample_test(\n",
    "    theta=sampling.morphing_point([2.]),\n",
    "    n_samples=10000,\n",
    "    folder='./data/samples',\n",
    "    filename='test40'\n",
    ")"
   ]
  },
  {
   "cell_type": "markdown",
   "metadata": {},
   "source": [
    "You might notice the information about the \"effective number of samples\" in the output. This is defined as `1 / max_events(weights)`; the smaller it is, the bigger the statistical fluctuations from too large weights. Let's plot this over the parameter space:"
   ]
  },
  {
   "cell_type": "markdown",
   "metadata": {},
   "source": [
    "cut = (y.flatten()==0)\n",
    "\n",
    "x_ = theta0[cut][:,0]\n",
    "y_ = n_effective[cut]\n",
    "\n",
    "order = np.argsort(x_)\n",
    "y_ = y_[order]\n",
    "x_ = x_[order]\n",
    "\n",
    "fig = plt.figure(figsize=(5,5))\n",
    "\n",
    "plt.plot(x_[x_<0.5], y_[x_<0.5], lw=1.5)\n",
    "plt.plot(x_[(x_>0.5)*(x_<3)], y_[(x_>0.5)*(x_<3)], lw=1.5)\n",
    "plt.plot(x_[x_>3.], y_[x_>3.], lw=1.5)\n",
    "\n",
    "plt.xlabel(\"theta\")\n",
    "plt.ylabel('Effective number of samples')\n",
    "plt.xlim(-0.2,2.2)\n",
    "plt.ylim(0.,None)\n",
    "#plt.yscale(\"log\")\n",
    "\n",
    "plt.tight_layout()\n",
    "plt.savefig(\"effective_samplesize.pdf\")\n"
   ]
  },
  {
   "cell_type": "code",
   "execution_count": 9,
   "metadata": {},
   "outputs": [
    {
     "ename": "NameError",
     "evalue": "name 'n_effective' is not defined",
     "output_type": "error",
     "traceback": [
      "\u001b[0;31m---------------------------------------------------------------------------\u001b[0m",
      "\u001b[0;31mNameError\u001b[0m                                 Traceback (most recent call last)",
      "\u001b[0;32m<ipython-input-9-8034d0f7e104>\u001b[0m in \u001b[0;36m<module>\u001b[0;34m()\u001b[0m\n\u001b[1;32m      2\u001b[0m \u001b[0;34m\u001b[0m\u001b[0m\n\u001b[1;32m      3\u001b[0m \u001b[0mx_\u001b[0m \u001b[0;34m=\u001b[0m \u001b[0mtheta0\u001b[0m\u001b[0;34m[\u001b[0m\u001b[0mcut\u001b[0m\u001b[0;34m]\u001b[0m\u001b[0;34m[\u001b[0m\u001b[0;34m:\u001b[0m\u001b[0;34m,\u001b[0m\u001b[0;36m0\u001b[0m\u001b[0;34m]\u001b[0m\u001b[0;34m\u001b[0m\u001b[0m\n\u001b[0;32m----> 4\u001b[0;31m \u001b[0my_\u001b[0m \u001b[0;34m=\u001b[0m \u001b[0mn_effective\u001b[0m\u001b[0;34m[\u001b[0m\u001b[0mcut\u001b[0m\u001b[0;34m]\u001b[0m\u001b[0;34m\u001b[0m\u001b[0m\n\u001b[0m\u001b[1;32m      5\u001b[0m \u001b[0;34m\u001b[0m\u001b[0m\n\u001b[1;32m      6\u001b[0m \u001b[0morder\u001b[0m \u001b[0;34m=\u001b[0m \u001b[0mnp\u001b[0m\u001b[0;34m.\u001b[0m\u001b[0margsort\u001b[0m\u001b[0;34m(\u001b[0m\u001b[0mx_\u001b[0m\u001b[0;34m)\u001b[0m\u001b[0;34m\u001b[0m\u001b[0m\n",
      "\u001b[0;31mNameError\u001b[0m: name 'n_effective' is not defined"
     ]
    }
   ],
   "source": [
    "cut = (y.flatten()==0)\n",
    "\n",
    "x_ = theta0[cut][:,0]\n",
    "y_ = n_effective[cut]\n",
    "\n",
    "order = np.argsort(x_)\n",
    "y_ = y_[order]\n",
    "x_ = x_[order]\n",
    "\n",
    "fig = plt.figure(figsize=(5,5))\n",
    "\n",
    "plt.plot(x_[x_<0.4], y_[x_<0.4], lw=1.5)\n",
    "plt.plot(x_[(x_>0.4)*(x_<0.9)], y_[(x_>0.4)*(x_<0.9)], lw=1.5)\n",
    "plt.plot(x_[(x_>0.9)*(x_<1.1)], y_[(x_>0.9)*(x_<1.1)], lw=1.5)\n",
    "plt.plot(x_[(x_>1.1)*(x_<1.275)], y_[(x_>1.1)*(x_<1.275)], lw=1.5)\n",
    "plt.plot(x_[(x_>1.275)*(x_<1.425)], y_[(x_>1.275)*(x_<1.425)], lw=1.5)\n",
    "plt.plot(x_[x_>1.425], y_[x_>1.425], lw=1.5)\n",
    "\n",
    "plt.xlabel(\"theta\")\n",
    "plt.ylabel('Effective number of samples')\n",
    "plt.xlim(-0.2,2.2)\n",
    "plt.ylim(0.,None)\n",
    "#plt.yscale(\"log\")\n",
    "\n",
    "plt.tight_layout()\n",
    "plt.savefig(\"effective_samplesize.pdf\")\n",
    "\n"
   ]
  },
  {
   "cell_type": "code",
   "execution_count": 6,
   "metadata": {},
   "outputs": [
    {
     "data": {
      "image/png": "[encoded data removed]",
      "text/plain": [
       "<matplotlib.figure.Figure at 0x170fd84d0>"
      ]
     },
     "metadata": {},
     "output_type": "display_data"
    }
   ],
   "source": [
    "cut = (y.flatten()==0)\n",
    "\n",
    "x_ = theta0[cut][:,0]\n",
    "y_ = n_effective[cut]\n",
    "\n",
    "order = np.argsort(x_)\n",
    "y_ = y_[order]\n",
    "x_ = x_[order]\n",
    "\n",
    "fig = plt.figure(figsize=(5,5))\n",
    "plt.plot(x_, y_, lw=1.5)\n",
    "# plt.plot(x_[x_<0.4], y_[x_<0.4], lw=1.5)\n",
    "# plt.plot(x_[(x_>0.4)*(x_<0.9)], y_[(x_>0.4)*(x_<0.9)], lw=1.5)\n",
    "# plt.plot(x_[(x_>0.9)*(x_<1.25)], y_[(x_>0.9)*(x_<1.25)], lw=1.5)\n",
    "# plt.plot(x_[x_>1.25], y_[x_>1.25], lw=1.5)\n",
    "\n",
    "plt.xlabel(\"theta\")\n",
    "plt.ylabel('Effective number of samples')\n",
    "plt.xlim(-0.2,2.2)\n",
    "plt.ylim(0.,None)\n",
    "#plt.yscale(\"log\")\n",
    "\n",
    "plt.tight_layout()\n",
    "#plt.savefig(\"effective_samplesize.pdf\")\n",
    "\n",
    "\n"
   ]
  },
  {
   "cell_type": "code",
   "execution_count": 7,
   "metadata": {},
   "outputs": [
    {
     "data": {
      "image/png": "[encoded data removed]",
      "text/plain": [
       "<matplotlib.figure.Figure at 0x16dbcda50>"
      ]
     },
     "metadata": {},
     "output_type": "display_data"
    }
   ],
   "source": [
    "cut = (y.flatten()==0)\n",
    "\n",
    "x_ = theta0[cut][:,0]\n",
    "y_ = n_effective[cut]\n",
    "\n",
    "order = np.argsort(x_)\n",
    "y_ = y_[order]\n",
    "x_ = x_[order]\n",
    "\n",
    "fig = plt.figure(figsize=(5,5))\n",
    "plt.plot(x_, y_, lw=1.5)\n",
    "# plt.plot(x_[x_<0.4], y_[x_<0.4], lw=1.5)\n",
    "# plt.plot(x_[(x_>0.4)*(x_<0.9)], y_[(x_>0.4)*(x_<0.9)], lw=1.5)\n",
    "# plt.plot(x_[(x_>0.9)*(x_<1.25)], y_[(x_>0.9)*(x_<1.25)], lw=1.5)\n",
    "# plt.plot(x_[x_>1.25], y_[x_>1.25], lw=1.5)\n",
    "\n",
    "plt.xlabel(\"theta\")\n",
    "plt.ylabel('Effective number of samples')\n",
    "plt.xlim(-0.2,2.2)\n",
    "plt.ylim(0.,None)\n",
    "#plt.yscale(\"log\")\n",
    "\n",
    "plt.tight_layout()\n",
    "#plt.savefig(\"effective_samplesize.pdf\")\n",
    "\n",
    "\n",
    "\n"
   ]
  },
  {
   "cell_type": "markdown",
   "metadata": {},
   "source": [
    "## 2. Plot cross section over parameter space"
   ]
  },
  {
   "cell_type": "markdown",
   "metadata": {},
   "source": [
    "This is not strictly necessary, but we can also plot the cross section as a function of parameter space:"
   ]
  },
  {
   "cell_type": "code",
   "execution_count": 10,
   "metadata": {},
   "outputs": [
    {
     "name": "stderr",
     "output_type": "stream",
     "text": [
      "22:25 madminer.sampling    INFO    Starting cross-section calculation\n",
      "22:25 madminer.sampling    INFO    Starting cross-section calculation\n"
     ]
    }
   ],
   "source": [
    "thetas_benchmarks, xsecs_benchmarks, xsec_errors_benchmarks = sampler.cross_sections(\n",
    "    theta=sampling.benchmarks(list(sampler.benchmarks.keys()))\n",
    ")\n",
    "\n",
    "thetas_morphing, xsecs_morphing, xsec_errors_morphing = sampler.cross_sections(\n",
    "    theta=sampling.random_morphing_points(100, [('flat', 0., 2.5)])\n",
    ")"
   ]
  },
  {
   "cell_type": "code",
   "execution_count": 12,
   "metadata": {},
   "outputs": [
    {
     "data": {
      "image/png": "[encoded data removed]",
      "text/plain": [
       "<matplotlib.figure.Figure at 0x11b899710>"
      ]
     },
     "metadata": {},
     "output_type": "display_data"
    }
   ],
   "source": [
    "fig = plt.figure(figsize=(5,5))\n",
    "\n",
    "sc = plt.scatter(thetas_morphing[:,0], xsecs_morphing, s=5., marker='o')\n",
    "\n",
    "plt.scatter(thetas_benchmarks[:,0], xsecs_benchmarks, s=50., marker='s', c=\"black\")\n",
    "\n",
    "#plt.xlabel(\"theta\")\n",
    "plt.xlabel(r\"$\\kappa$\")\n",
    "plt.ylabel('xsec [pb]')\n",
    "\n",
    "#plt.ylim(0., None)\n",
    "plt.ylim(0., 0.001)\n",
    "plt.tight_layout()\n",
    "plt.savefig(\"xsec.pdf\")\n"
   ]
  },
  {
   "cell_type": "markdown",
   "metadata": {},
   "source": [
    "What  you see here is a morphing algorithm in action. We only asked MadGraph to calculate event weights (differential cross sections, or basically squared matrix elements) at six fixed parameter points (shown here as squares with black edges). But with our knowledge about the structure of the process we can interpolate any observable to any parameter point without loss (except that statistical uncertainties might increase)!"
   ]
  },
  {
   "cell_type": "code",
   "execution_count": null,
   "metadata": {},
   "outputs": [],
   "source": []
  },
  {
   "cell_type": "code",
   "execution_count": null,
   "metadata": {},
   "outputs": [],
   "source": []
  },
  {
   "cell_type": "code",
   "execution_count": null,
   "metadata": {},
   "outputs": [],
   "source": []
  },
  {
   "cell_type": "code",
   "execution_count": null,
   "metadata": {},
   "outputs": [],
   "source": []
  },
  {
   "cell_type": "code",
   "execution_count": null,
   "metadata": {},
   "outputs": [],
   "source": []
  },
  {
   "cell_type": "code",
   "execution_count": null,
   "metadata": {},
   "outputs": [],
   "source": []
  },
  {
   "cell_type": "markdown",
   "metadata": {},
   "source": [
    "## 3. Train likelihood ratio estimator"
   ]
  },
  {
   "cell_type": "markdown",
   "metadata": {},
   "source": [
    "It's now time to build the neural network that estimates the likelihood ratio. The central object for this is the `madminer.ml.ParameterizedRatioEstimator` class. It defines functions that train, save, load, and evaluate the estimators.\n",
    "\n",
    "In the initialization, the keywords `n_hidden` and `activation` define the architecture of the (fully connected) neural network:"
   ]
  },
  {
   "cell_type": "code",
   "execution_count": null,
   "metadata": {},
   "outputs": [],
   "source": [
    "estimator = ParameterizedRatioEstimator(\n",
    "    n_hidden=(100,100,),\n",
    "    activation=\"tanh\",\n",
    "    dropout_prob=0.2,\n",
    ")"
   ]
  },
  {
   "cell_type": "markdown",
   "metadata": {},
   "source": [
    "To train this model we will minimize the ALICES loss function described in [\"Likelihood-free inference with an improved cross-entropy estimator\"](https://arxiv.org/abs/1808.00973). Many alternatives, including RASCAL, are described in [\"Constraining Effective Field Theories With Machine Learning\"](https://arxiv.org/abs/1805.00013) and [\"A Guide to Constraining Effective Field Theories With Machine Learning\"](https://arxiv.org/abs/1805.00020). There is also SCANDAL introduced in [\"Mining gold from implicit models to improve likelihood-free inference\"](https://arxiv.org/abs/1805.12244)."
   ]
  },
  {
   "cell_type": "code",
   "execution_count": null,
   "metadata": {},
   "outputs": [],
   "source": [
    "estimator.train(\n",
    "    method='alices',\n",
    "    theta='data/samples/theta0_train_ratio.npy',\n",
    "    x='data/samples/x_train_ratio.npy',\n",
    "    y='data/samples/y_train_ratio.npy',\n",
    "    r_xz='data/samples/r_xz_train_ratio.npy',\n",
    "    t_xz='data/samples/t_xz_train_ratio.npy',\n",
    "    theta_val='data/samples/theta0_val_ratio.npy',\n",
    "    x_val='data/samples/x_val_ratio.npy',\n",
    "    y_val='data/samples/y_val_ratio.npy',\n",
    "    r_xz_val='data/samples/r_xz_val_ratio.npy',\n",
    "    t_xz_val='data/samples/t_xz_val_ratio.npy',\n",
    "    alpha=1.,\n",
    "    n_epochs=5,\n",
    "    batch_size=512,\n",
    "    n_workers=4,\n",
    ")\n",
    "\n",
    "estimator.save('models/alices')"
   ]
  },
  {
   "cell_type": "markdown",
   "metadata": {},
   "source": [
    "## 4. Evaluate likelihood ratio estimator"
   ]
  },
  {
   "cell_type": "markdown",
   "metadata": {},
   "source": [
    "`estimator.evaluate_log_likelihood_ratio(theta,x)` estimated the log likelihood ratio and the score for all combination between the given phase-space points `x` and parameters `theta`. That is, if given 100 events `x` and a grid of 25 `theta` points, it will return 25\\*100 estimates for the log likelihood ratio and 25\\*100 estimates for the score, both indexed by `[i_theta,i_x]`."
   ]
  },
  {
   "cell_type": "code",
   "execution_count": null,
   "metadata": {},
   "outputs": [],
   "source": [
    "theta_each = np.linspace(-20.,20.,21)\n",
    "theta0, theta1 = np.meshgrid(theta_each, theta_each)\n",
    "theta_grid = np.vstack((theta0.flatten(), theta1.flatten())).T\n",
    "np.save('data/samples/theta_grid.npy', theta_grid)\n",
    "\n",
    "theta_denom = np.array([[0.,0.]])\n",
    "np.save('data/samples/theta_ref.npy', theta_denom)\n"
   ]
  },
  {
   "cell_type": "code",
   "execution_count": null,
   "metadata": {},
   "outputs": [],
   "source": [
    "estimator.load('models/alices')\n",
    "\n",
    "log_r_hat, _ = estimator.evaluate_log_likelihood_ratio(\n",
    "    theta='data/samples/theta_grid.npy',\n",
    "    x='data/samples/x_test.npy',\n",
    "    evaluate_score=False\n",
    ")"
   ]
  },
  {
   "cell_type": "markdown",
   "metadata": {},
   "source": [
    "Let's look at the result:"
   ]
  },
  {
   "cell_type": "code",
   "execution_count": null,
   "metadata": {},
   "outputs": [],
   "source": [
    "bin_size = theta_each[1] - theta_each[0]\n",
    "edges = np.linspace(theta_each[0] - bin_size/2, theta_each[-1] + bin_size/2, len(theta_each)+1)\n",
    "\n",
    "fig = plt.figure(figsize=(6,5))\n",
    "ax = plt.gca()\n",
    "\n",
    "expected_llr = np.mean(log_r_hat,axis=1)\n",
    "best_fit = theta_grid[np.argmin(-2.*expected_llr)]\n",
    "\n",
    "cmin, cmax = np.min(-2*expected_llr), np.max(-2*expected_llr)\n",
    "    \n",
    "pcm = ax.pcolormesh(edges, edges, -2. * expected_llr.reshape((21,21)),\n",
    "                    norm=matplotlib.colors.Normalize(vmin=cmin, vmax=cmax),\n",
    "                    cmap='viridis_r')\n",
    "cbar = fig.colorbar(pcm, ax=ax, extend='both')\n",
    "\n",
    "plt.scatter(best_fit[0], best_fit[1], s=80., color='black', marker='*')\n",
    "\n",
    "plt.xlabel(r'$\\theta_0$')\n",
    "plt.ylabel(r'$\\theta_1$')\n",
    "cbar.set_label(r'$\\mathbb{E}_x [ -2\\, \\log \\,\\hat{r}(x | \\theta, \\theta_{SM}) ]$')\n",
    "\n",
    "plt.tight_layout()\n",
    "plt.show()\n"
   ]
  },
  {
   "cell_type": "markdown",
   "metadata": {},
   "source": [
    "Note that in this tutorial our sample size was very small, and the network might not really have a chance to converge to the correct likelihood ratio function. So don't worry if you find a minimum that is not at the right point (the SM, i.e. the origin in this plot). Feel free to dial up the event numbers in the run card as well as the training samples and see what happens then!"
   ]
  },
  {
   "cell_type": "code",
   "execution_count": null,
   "metadata": {},
   "outputs": [],
   "source": []
  },
  {
   "cell_type": "code",
   "execution_count": null,
   "metadata": {},
   "outputs": [],
   "source": []
  }
 ],
 "metadata": {
  "kernelspec": {
   "display_name": "Python 2",
   "language": "python",
   "name": "python2"
  },
  "language_info": {
   "codemirror_mode": {
    "name": "ipython",
    "version": 2
   },
   "file_extension": ".py",
   "mimetype": "text/x-python",
   "name": "python",
   "nbconvert_exporter": "python",
   "pygments_lexer": "ipython2",
   "version": "2.7.14"
  },
  "toc": {
   "nav_menu": {},
   "number_sections": true,
   "sideBar": true,
   "skip_h1_title": false,
   "toc_cell": false,
   "toc_position": {},
   "toc_section_display": "block",
   "toc_window_display": false
  },
  "varInspector": {
   "cols": {
    "lenName": 16,
    "lenType": 16,
    "lenVar": 40
   },
   "kernels_config": {
    "python": {
     "delete_cmd_postfix": "",
     "delete_cmd_prefix": "del ",
     "library": "var_list.py",
     "varRefreshCmd": "print(var_dic_list())"
    },
    "r": {
     "delete_cmd_postfix": ") ",
     "delete_cmd_prefix": "rm(",
     "library": "var_list.r",
     "varRefreshCmd": "cat(var_dic_list()) "
    }
   },
   "types_to_exclude": [
    "module",
    "function",
    "builtin_function_or_method",
    "instance",
    "_Feature"
   ],
   "window_display": false
  }
 },
 "nbformat": 4,
 "nbformat_minor": 2
}
