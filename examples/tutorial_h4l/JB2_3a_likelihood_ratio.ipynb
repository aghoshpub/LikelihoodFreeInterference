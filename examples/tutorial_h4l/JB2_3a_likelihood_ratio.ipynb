{
 "cells": [
  {
   "cell_type": "markdown",
   "metadata": {},
   "source": [
    "# MadMiner particle physics tutorial\n",
    "\n",
    "# Part 3a: Training a likelihood ratio estimator\n",
    "\n",
    "Johann Brehmer, Felix Kling, Irina Espejo, and Kyle Cranmer 2018-2019"
   ]
  },
  {
   "cell_type": "markdown",
   "metadata": {},
   "source": [
    "In part 3a of this tutorial we will finally train a neural network to estimate likelihood ratios. We assume that you have run part 1 and 2a of this tutorial. If, instead of 2a, you have run part 2b, you just have to load a different filename later."
   ]
  },
  {
   "cell_type": "markdown",
   "metadata": {},
   "source": [
    "## Preparations"
   ]
  },
  {
   "cell_type": "code",
   "execution_count": 1,
   "metadata": {},
   "outputs": [],
   "source": [
    "from __future__ import absolute_import, division, print_function, unicode_literals\n",
    "\n",
    "import logging\n",
    "import numpy as np\n",
    "import matplotlib\n",
    "from matplotlib import pyplot as plt\n",
    "%matplotlib inline\n",
    "\n",
    "from madminer.sampling import SampleAugmenter\n",
    "from madminer import sampling\n",
    "from madminer.ml import ParameterizedRatioEstimator\n"
   ]
  },
  {
   "cell_type": "code",
   "execution_count": 2,
   "metadata": {},
   "outputs": [],
   "source": [
    "# MadMiner output\n",
    "logging.basicConfig(\n",
    "    format='%(asctime)-5.5s %(name)-20.20s %(levelname)-7.7s %(message)s',\n",
    "    datefmt='%H:%M',\n",
    "    level=logging.INFO\n",
    ")\n",
    "\n",
    "# Output of all other modules (e.g. matplotlib)\n",
    "for key in logging.Logger.manager.loggerDict:\n",
    "    if \"madminer\" not in key:\n",
    "        logging.getLogger(key).setLevel(logging.WARNING)"
   ]
  },
  {
   "cell_type": "markdown",
   "metadata": {},
   "source": [
    "## 1. Make (unweighted) training and test samples with augmented data"
   ]
  },
  {
   "cell_type": "markdown",
   "metadata": {},
   "source": [
    "At this point, we have all the information we need from the simulations. But the data is not quite ready to be used for machine learning. The `madminer.sampling` class `SampleAugmenter` will take care of the remaining book-keeping steps before we can train our estimators:\n",
    "\n",
    "First, it unweights the samples, i.e. for a given parameter vector `theta` (or a distribution `p(theta)`) it picks events `x` such that their distribution follows `p(x|theta)`. The selected samples will all come from the event file we have so far, but their frequency is changed -- some events will appear multiple times, some will disappear.\n",
    "\n",
    "Second, `SampleAugmenter` calculates all the augmented data (\"gold\") that is the key to our new inference methods. Depending on the specific technique, these are the joint likelihood ratio and / or the joint score. It saves all these pieces of information for the selected events in a set of numpy files that can easily be used in any machine learning framework."
   ]
  },
  {
   "cell_type": "code",
   "execution_count": 3,
   "metadata": {},
   "outputs": [
    {
     "name": "stderr",
     "output_type": "stream",
     "text": [
      "13:34 madminer.analysis    INFO    Loading data from data/delphes_data_shuffled.h5\n",
      "13:34 madminer.analysis    INFO    Found 1 parameters\n",
      "13:34 madminer.analysis    INFO    Did not find nuisance parameters\n",
      "13:34 madminer.analysis    INFO    Found 6 benchmarks, of which 6 physical\n",
      "13:34 madminer.analysis    INFO    Found 35 observables\n",
      "13:34 madminer.analysis    INFO    Found 2456775 events\n",
      "13:34 madminer.analysis    INFO      638139 signal events sampled from benchmark no-higgs\n",
      "13:34 madminer.analysis    INFO      612261 signal events sampled from benchmark 0.8_k\n",
      "13:34 madminer.analysis    INFO      604045 signal events sampled from benchmark sm\n",
      "13:34 madminer.analysis    INFO      602330 signal events sampled from benchmark 1.5_k\n",
      "13:34 madminer.analysis    INFO    Found morphing setup with 5 components\n",
      "13:34 madminer.analysis    INFO    Did not find nuisance morphing setup\n"
     ]
    }
   ],
   "source": [
    "#sampler = SampleAugmenter('data/lhe_data_shuffled.h5')\n",
    "sampler = SampleAugmenter('data/delphes_data_shuffled.h5')"
   ]
  },
  {
   "cell_type": "markdown",
   "metadata": {},
   "source": [
    "The `SampleAugmenter` class defines five different high-level functions to generate train or test samples:\n",
    "- `sample_train_plain()`, which only saves observations x, for instance for histograms or ABC;\n",
    "- `sample_train_local()` for methods like SALLY and SALLINO, which will be demonstrated in the second part of the tutorial;\n",
    "- `sample_train_density()` for neural density estimation techniques like MAF or SCANDAL;\n",
    "- `sample_train_ratio()` for techniques like CARL, ROLR, CASCAL, and RASCAL, when only theta0 is parameterized;\n",
    "- `sample_train_more_ratios()` for the same techniques, but with both theta0 and theta1 parameterized;\n",
    "- `sample_test()` for the evaluation of any method.\n",
    "\n",
    "For the arguments `theta`, `theta0`, or `theta1`, you can (and should!) use the helper functions `benchmark()`, `benchmarks()`, `morphing_point()`, `morphing_points()`, and `random_morphing_points()`, all defined in the `madminer.sampling` module.\n",
    "\n",
    "Here we'll train a likelihood ratio estimator with the ALICES method, so we focus on the `extract_samples_train_ratio()` function. We'll sample the numerator hypothesis in the likelihood ratio with 1000 points drawn from a Gaussian prior, and fix the denominator hypothesis to the SM.\n",
    "\n",
    "Note the keyword `sample_only_from_closest_benchmark=True`, which makes sure that for each parameter point we only use the events that were originally (in MG) generated from the closest benchmark. This reduces the statistical fluctuations in the outcome quite a bit."
   ]
  },
  {
   "cell_type": "code",
   "execution_count": 4,
   "metadata": {},
   "outputs": [
    {
     "name": "stderr",
     "output_type": "stream",
     "text": [
      "13:34 madminer.sampling    INFO    Extracting training sample for ratio-based methods. Numerator hypothesis: 100 random morphing points, drawn from the following priors:\n",
      "  theta_0 ~ flat from 0.0 to 2.0, denominator hypothesis: sm\n",
      "13:34 madminer.sampling    INFO    Starting sampling serially\n",
      "13:34 madminer.sampling    INFO    Sampling from parameter point 5 / 100\n",
      "13:34 madminer.sampling    INFO    Sampling from parameter point 10 / 100\n",
      "13:34 madminer.sampling    INFO    Sampling from parameter point 15 / 100\n",
      "13:34 madminer.sampling    INFO    Sampling from parameter point 20 / 100\n",
      "13:34 madminer.sampling    INFO    Sampling from parameter point 25 / 100\n",
      "13:35 madminer.sampling    INFO    Sampling from parameter point 30 / 100\n",
      "13:35 madminer.sampling    INFO    Sampling from parameter point 35 / 100\n",
      "13:35 madminer.sampling    INFO    Sampling from parameter point 40 / 100\n",
      "13:35 madminer.sampling    INFO    Sampling from parameter point 45 / 100\n",
      "13:35 madminer.sampling    INFO    Sampling from parameter point 50 / 100\n",
      "13:36 madminer.sampling    INFO    Sampling from parameter point 55 / 100\n",
      "13:36 madminer.sampling    INFO    Sampling from parameter point 60 / 100\n",
      "13:36 madminer.sampling    INFO    Sampling from parameter point 65 / 100\n",
      "13:36 madminer.sampling    INFO    Sampling from parameter point 70 / 100\n",
      "13:36 madminer.sampling    INFO    Sampling from parameter point 75 / 100\n",
      "13:36 madminer.sampling    INFO    Sampling from parameter point 80 / 100\n",
      "13:37 madminer.sampling    INFO    Sampling from parameter point 85 / 100\n",
      "13:37 madminer.sampling    INFO    Sampling from parameter point 90 / 100\n",
      "13:37 madminer.sampling    INFO    Sampling from parameter point 95 / 100\n",
      "13:37 madminer.sampling    INFO    Sampling from parameter point 100 / 100\n",
      "13:37 madminer.sampling    INFO    Effective number of samples: mean 107506.87496790069, with individual thetas ranging from 1877.2280573870946 to 367045.87195103796\n",
      "13:37 madminer.sampling    INFO    Starting sampling serially\n",
      "13:37 madminer.sampling    INFO    Sampling from parameter point 5 / 100\n",
      "13:37 madminer.sampling    INFO    Sampling from parameter point 10 / 100\n",
      "13:38 madminer.sampling    INFO    Sampling from parameter point 15 / 100\n",
      "13:38 madminer.sampling    INFO    Sampling from parameter point 20 / 100\n",
      "13:38 madminer.sampling    INFO    Sampling from parameter point 25 / 100\n",
      "13:38 madminer.sampling    INFO    Sampling from parameter point 30 / 100\n",
      "13:38 madminer.sampling    INFO    Sampling from parameter point 35 / 100\n",
      "13:38 madminer.sampling    INFO    Sampling from parameter point 40 / 100\n",
      "13:38 madminer.sampling    INFO    Sampling from parameter point 45 / 100\n",
      "13:39 madminer.sampling    INFO    Sampling from parameter point 50 / 100\n",
      "13:39 madminer.sampling    INFO    Sampling from parameter point 55 / 100\n",
      "13:39 madminer.sampling    INFO    Sampling from parameter point 60 / 100\n",
      "13:39 madminer.sampling    INFO    Sampling from parameter point 65 / 100\n",
      "13:39 madminer.sampling    INFO    Sampling from parameter point 70 / 100\n",
      "13:39 madminer.sampling    INFO    Sampling from parameter point 75 / 100\n",
      "13:39 madminer.sampling    INFO    Sampling from parameter point 80 / 100\n",
      "13:40 madminer.sampling    INFO    Sampling from parameter point 85 / 100\n",
      "13:40 madminer.sampling    INFO    Sampling from parameter point 90 / 100\n",
      "13:40 madminer.sampling    INFO    Sampling from parameter point 95 / 100\n",
      "13:40 madminer.sampling    INFO    Sampling from parameter point 100 / 100\n",
      "13:40 madminer.sampling    INFO    Effective number of samples: mean 341718.4133295643, with individual thetas ranging from 341718.413329564 to 341718.413329564\n"
     ]
    }
   ],
   "source": [
    "x, theta0, theta1, y, r_xz, t_xz, n_effective = sampler.sample_train_ratio(\n",
    "    theta0=sampling.random_morphing_points(100, [('flat', 0., 2.)]),\n",
    "    theta1=sampling.benchmark('sm'),\n",
    "    n_samples=10000000,\n",
    "    folder='./data/samples',\n",
    "    filename='train_ratioJB',\n",
    "    sample_only_from_closest_benchmark=True,\n",
    "    return_individual_n_effective=True,\n",
    ")"
   ]
  },
  {
   "cell_type": "markdown",
   "metadata": {},
   "source": [
    "Let's also make a validation sample:"
   ]
  },
  {
   "cell_type": "code",
   "execution_count": 5,
   "metadata": {},
   "outputs": [
    {
     "name": "stderr",
     "output_type": "stream",
     "text": [
      "13:40 madminer.sampling    INFO    Extracting training sample for ratio-based methods. Numerator hypothesis: 100 random morphing points, drawn from the following priors:\n",
      "  theta_0 ~ flat from 0.0 to 2.0, denominator hypothesis: sm\n",
      "13:40 madminer.sampling    INFO    Starting sampling serially\n",
      "13:40 madminer.sampling    INFO    Sampling from parameter point 5 / 100\n",
      "13:40 madminer.sampling    INFO    Sampling from parameter point 10 / 100\n",
      "13:40 madminer.sampling    INFO    Sampling from parameter point 15 / 100\n",
      "13:40 madminer.sampling    INFO    Sampling from parameter point 20 / 100\n",
      "13:40 madminer.sampling    INFO    Sampling from parameter point 25 / 100\n",
      "13:40 madminer.sampling    INFO    Sampling from parameter point 30 / 100\n",
      "13:41 madminer.sampling    INFO    Sampling from parameter point 35 / 100\n",
      "13:41 madminer.sampling    INFO    Sampling from parameter point 40 / 100\n",
      "13:41 madminer.sampling    INFO    Sampling from parameter point 45 / 100\n",
      "13:41 madminer.sampling    INFO    Sampling from parameter point 50 / 100\n",
      "13:41 madminer.sampling    INFO    Sampling from parameter point 55 / 100\n",
      "13:41 madminer.sampling    INFO    Sampling from parameter point 60 / 100\n",
      "13:41 madminer.sampling    INFO    Sampling from parameter point 65 / 100\n",
      "13:41 madminer.sampling    INFO    Sampling from parameter point 70 / 100\n",
      "13:41 madminer.sampling    INFO    Sampling from parameter point 75 / 100\n",
      "13:41 madminer.sampling    INFO    Sampling from parameter point 80 / 100\n",
      "13:41 madminer.sampling    INFO    Sampling from parameter point 85 / 100\n",
      "13:41 madminer.sampling    INFO    Sampling from parameter point 90 / 100\n",
      "13:41 madminer.sampling    INFO    Sampling from parameter point 95 / 100\n",
      "13:41 madminer.sampling    INFO    Sampling from parameter point 100 / 100\n",
      "13:41 madminer.sampling    INFO    Effective number of samples: mean 37189.75240930711, with individual thetas ranging from 791.7209190982037 to 122397.19067337883\n",
      "13:41 madminer.sampling    INFO    Starting sampling serially\n",
      "13:41 madminer.sampling    INFO    Sampling from parameter point 5 / 100\n",
      "13:41 madminer.sampling    INFO    Sampling from parameter point 10 / 100\n",
      "13:41 madminer.sampling    INFO    Sampling from parameter point 15 / 100\n",
      "13:41 madminer.sampling    INFO    Sampling from parameter point 20 / 100\n",
      "13:41 madminer.sampling    INFO    Sampling from parameter point 25 / 100\n",
      "13:41 madminer.sampling    INFO    Sampling from parameter point 30 / 100\n",
      "13:41 madminer.sampling    INFO    Sampling from parameter point 35 / 100\n",
      "13:41 madminer.sampling    INFO    Sampling from parameter point 40 / 100\n",
      "13:41 madminer.sampling    INFO    Sampling from parameter point 45 / 100\n",
      "13:41 madminer.sampling    INFO    Sampling from parameter point 50 / 100\n",
      "13:42 madminer.sampling    INFO    Sampling from parameter point 55 / 100\n",
      "13:42 madminer.sampling    INFO    Sampling from parameter point 60 / 100\n",
      "13:42 madminer.sampling    INFO    Sampling from parameter point 65 / 100\n",
      "13:42 madminer.sampling    INFO    Sampling from parameter point 70 / 100\n",
      "13:42 madminer.sampling    INFO    Sampling from parameter point 75 / 100\n",
      "13:42 madminer.sampling    INFO    Sampling from parameter point 80 / 100\n",
      "13:42 madminer.sampling    INFO    Sampling from parameter point 85 / 100\n",
      "13:42 madminer.sampling    INFO    Sampling from parameter point 90 / 100\n",
      "13:42 madminer.sampling    INFO    Sampling from parameter point 95 / 100\n",
      "13:42 madminer.sampling    INFO    Sampling from parameter point 100 / 100\n",
      "13:42 madminer.sampling    INFO    Effective number of samples: mean 113911.85258623751, with individual thetas ranging from 113911.85258623754 to 113911.85258623754\n"
     ]
    }
   ],
   "source": [
    "_ = sampler.sample_train_ratio(\n",
    "    theta0=sampling.random_morphing_points(100, [('flat', 0., 2.)]),\n",
    "    theta1=sampling.benchmark('sm'),\n",
    "    n_samples=100000,\n",
    "    folder='./data/samples',\n",
    "    filename='val_ratioJB',\n",
    "    sample_only_from_closest_benchmark=True,\n",
    "    return_individual_n_effective=True,\n",
    "    partition=\"validation\"\n",
    ")"
   ]
  },
  {
   "cell_type": "markdown",
   "metadata": {},
   "source": [
    "For the evaluation we'll need a few test samples:"
   ]
  },
  {
   "cell_type": "code",
   "execution_count": 6,
   "metadata": {
    "scrolled": true
   },
   "outputs": [
    {
     "name": "stderr",
     "output_type": "stream",
     "text": [
      "13:42 madminer.sampling    INFO    Extracting evaluation sample. Sampling according to [0.]\n",
      "13:42 madminer.sampling    INFO    Starting sampling serially\n",
      "13:42 madminer.sampling    INFO    Sampling from parameter point 1 / 1\n",
      "13:42 madminer.sampling    INFO    Effective number of samples: mean 122772.93565194707, with individual thetas ranging from 122772.93565194709 to 122772.93565194709\n",
      "13:42 madminer.sampling    INFO    Extracting evaluation sample. Sampling according to [0.3]\n",
      "13:42 madminer.sampling    INFO    Starting sampling serially\n",
      "13:42 madminer.sampling    INFO    Sampling from parameter point 1 / 1\n",
      "13:42 madminer.sampling    INFO    Effective number of samples: mean 82693.81036465125, with individual thetas ranging from 82693.81036465123 to 82693.81036465123\n",
      "13:42 madminer.sampling    INFO    Extracting evaluation sample. Sampling according to [1.]\n",
      "13:42 madminer.sampling    INFO    Starting sampling serially\n",
      "13:42 madminer.sampling    INFO    Sampling from parameter point 1 / 1\n",
      "13:42 madminer.sampling    INFO    Effective number of samples: mean 113807.35822775384, with individual thetas ranging from 113807.35822775387 to 113807.35822775387\n",
      "13:42 madminer.sampling    INFO    Extracting evaluation sample. Sampling according to [1.2]\n",
      "13:42 madminer.sampling    INFO    Starting sampling serially\n",
      "13:42 madminer.sampling    INFO    Sampling from parameter point 1 / 1\n",
      "13:42 madminer.sampling    INFO    Effective number of samples: mean 1456.050908802936, with individual thetas ranging from 1456.0509088029357 to 1456.0509088029357\n",
      "13:42 madminer.sampling    INFO    Extracting evaluation sample. Sampling according to [1.7]\n",
      "13:42 madminer.sampling    INFO    Starting sampling serially\n",
      "13:42 madminer.sampling    INFO    Sampling from parameter point 1 / 1\n",
      "13:42 madminer.sampling    INFO    Effective number of samples: mean 16307.17119919281, with individual thetas ranging from 16307.171199192802 to 16307.171199192802\n",
      "13:42 madminer.sampling    INFO    Extracting evaluation sample. Sampling according to [2.]\n",
      "13:42 madminer.sampling    INFO    Starting sampling serially\n",
      "13:42 madminer.sampling    INFO    Sampling from parameter point 1 / 1\n",
      "13:42 madminer.sampling    INFO    Effective number of samples: mean 5377.350905686662, with individual thetas ranging from 5377.350905686664 to 5377.350905686664\n"
     ]
    }
   ],
   "source": [
    "_ = sampler.sample_test(\n",
    "    theta=sampling.morphing_point([0.]),\n",
    "    n_samples=10000,\n",
    "    folder='./data/samples',\n",
    "    filename='test00'\n",
    ")\n",
    "\n",
    "_ = sampler.sample_test(\n",
    "    theta=sampling.morphing_point([0.3]),\n",
    "    n_samples=10000,\n",
    "    folder='./data/samples',\n",
    "    filename='test08'\n",
    ")\n",
    "\n",
    "_ = sampler.sample_test(\n",
    "    theta=sampling.morphing_point([1.0]),\n",
    "    n_samples=10000,\n",
    "    folder='./data/samples',\n",
    "    filename='test10'\n",
    ")\n",
    "\n",
    "_ = sampler.sample_test(\n",
    "    theta=sampling.morphing_point([1.2]),\n",
    "    n_samples=10000,\n",
    "    folder='./data/samples',\n",
    "    filename='test12'\n",
    ")\n",
    "\n",
    "_ = sampler.sample_test(\n",
    "    theta=sampling.morphing_point([1.7]),\n",
    "    n_samples=10000,\n",
    "    folder='./data/samples',\n",
    "    filename='test20'\n",
    ")\n",
    "\n",
    "_ = sampler.sample_test(\n",
    "    theta=sampling.morphing_point([2.]),\n",
    "    n_samples=10000,\n",
    "    folder='./data/samples',\n",
    "    filename='test40'\n",
    ")"
   ]
  },
  {
   "cell_type": "markdown",
   "metadata": {},
   "source": [
    "You might notice the information about the \"effective number of samples\" in the output. This is defined as `1 / max_events(weights)`; the smaller it is, the bigger the statistical fluctuations from too large weights. Let's plot this over the parameter space:"
   ]
  },
  {
   "cell_type": "markdown",
   "metadata": {},
   "source": [
    "cut = (y.flatten()==0)\n",
    "\n",
    "x_ = theta0[cut][:,0]\n",
    "y_ = n_effective[cut]\n",
    "\n",
    "order = np.argsort(x_)\n",
    "y_ = y_[order]\n",
    "x_ = x_[order]\n",
    "\n",
    "fig = plt.figure(figsize=(5,5))\n",
    "\n",
    "plt.plot(x_[x_<0.5], y_[x_<0.5], lw=1.5)\n",
    "plt.plot(x_[(x_>0.5)*(x_<3)], y_[(x_>0.5)*(x_<3)], lw=1.5)\n",
    "plt.plot(x_[x_>3.], y_[x_>3.], lw=1.5)\n",
    "\n",
    "plt.xlabel(\"theta\")\n",
    "plt.ylabel('Effective number of samples')\n",
    "plt.xlim(-0.2,2.2)\n",
    "plt.ylim(0.,None)\n",
    "#plt.yscale(\"log\")\n",
    "\n",
    "plt.tight_layout()\n",
    "plt.savefig(\"effective_samplesize.pdf\")\n"
   ]
  },
  {
   "cell_type": "code",
   "execution_count": 7,
   "metadata": {},
   "outputs": [
    {
     "data": {
      "image/png": "[encoded data removed]",
      "text/plain": [
       "<Figure size 360x360 with 1 Axes>"
      ]
     },
     "metadata": {
      "needs_background": "light"
     },
     "output_type": "display_data"
    }
   ],
   "source": [
    "cut = (y.flatten()==0)\n",
    "\n",
    "x_ = theta0[cut][:,0]\n",
    "y_ = n_effective[cut]\n",
    "\n",
    "order = np.argsort(x_)\n",
    "y_ = y_[order]\n",
    "x_ = x_[order]\n",
    "\n",
    "fig = plt.figure(figsize=(5,5))\n",
    "\n",
    "plt.plot(x_[x_<0.4], y_[x_<0.4], lw=1.5)\n",
    "plt.plot(x_[(x_>0.4)*(x_<0.9)], y_[(x_>0.4)*(x_<0.9)], lw=1.5)\n",
    "plt.plot(x_[(x_>0.9)*(x_<1.25)], y_[(x_>0.9)*(x_<1.25)], lw=1.5)\n",
    "plt.plot(x_[x_>1.25], y_[x_>1.25], lw=1.5)\n",
    "\n",
    "plt.xlabel(\"theta\")\n",
    "plt.ylabel('Effective number of samples')\n",
    "plt.xlim(-0.2,2.2)\n",
    "plt.ylim(0.,None)\n",
    "#plt.yscale(\"log\")\n",
    "\n",
    "plt.tight_layout()\n",
    "plt.savefig(\"effective_samplesize.pdf\")\n",
    "\n"
   ]
  },
  {
   "cell_type": "code",
   "execution_count": 11,
   "metadata": {},
   "outputs": [
    {
     "data": {
      "image/png": "[encoded data removed]",
      "text/plain": [
       "<Figure size 360x360 with 1 Axes>"
      ]
     },
     "metadata": {
      "needs_background": "light"
     },
     "output_type": "display_data"
    }
   ],
   "source": [
    "cut = (y.flatten()==0)\n",
    "\n",
    "x_ = theta0[cut][:,0]\n",
    "y_ = n_effective[cut]\n",
    "\n",
    "order = np.argsort(x_)\n",
    "y_ = y_[order]\n",
    "x_ = x_[order]\n",
    "\n",
    "fig = plt.figure(figsize=(5,5))\n",
    "plt.plot(x_, y_, lw=1.5)\n",
    "# plt.plot(x_[x_<0.4], y_[x_<0.4], lw=1.5)\n",
    "# plt.plot(x_[(x_>0.4)*(x_<0.9)], y_[(x_>0.4)*(x_<0.9)], lw=1.5)\n",
    "# plt.plot(x_[(x_>0.9)*(x_<1.25)], y_[(x_>0.9)*(x_<1.25)], lw=1.5)\n",
    "# plt.plot(x_[x_>1.25], y_[x_>1.25], lw=1.5)\n",
    "\n",
    "plt.xlabel(\"theta\")\n",
    "plt.ylabel('Effective number of samples')\n",
    "plt.xlim(-0.2,2.2)\n",
    "plt.ylim(0.,None)\n",
    "#plt.yscale(\"log\")\n",
    "\n",
    "plt.tight_layout()\n",
    "#plt.savefig(\"effective_samplesize.pdf\")\n",
    "\n",
    "\n"
   ]
  },
  {
   "cell_type": "markdown",
   "metadata": {},
   "source": [
    "## 2. Plot cross section over parameter space"
   ]
  },
  {
   "cell_type": "markdown",
   "metadata": {},
   "source": [
    "This is not strictly necessary, but we can also plot the cross section as a function of parameter space:"
   ]
  },
  {
   "cell_type": "code",
   "execution_count": 9,
   "metadata": {},
   "outputs": [
    {
     "name": "stderr",
     "output_type": "stream",
     "text": [
      "13:42 madminer.sampling    INFO    Starting cross-section calculation\n",
      "13:42 madminer.sampling    INFO    Starting cross-section calculation\n"
     ]
    }
   ],
   "source": [
    "thetas_benchmarks, xsecs_benchmarks, xsec_errors_benchmarks = sampler.cross_sections(\n",
    "    theta=sampling.benchmarks(list(sampler.benchmarks.keys()))\n",
    ")\n",
    "\n",
    "thetas_morphing, xsecs_morphing, xsec_errors_morphing = sampler.cross_sections(\n",
    "    theta=sampling.random_morphing_points(100, [('flat', 0., 2.5)])\n",
    ")"
   ]
  },
  {
   "cell_type": "code",
   "execution_count": 10,
   "metadata": {},
   "outputs": [
    {
     "data": {
      "image/png": "[encoded data removed]",
      "text/plain": [
       "<Figure size 360x360 with 1 Axes>"
      ]
     },
     "metadata": {
      "needs_background": "light"
     },
     "output_type": "display_data"
    }
   ],
   "source": [
    "fig = plt.figure(figsize=(5,5))\n",
    "\n",
    "sc = plt.scatter(thetas_morphing[:,0], xsecs_morphing, s=5., marker='o')\n",
    "\n",
    "plt.scatter(thetas_benchmarks[:,0], xsecs_benchmarks, s=50., marker='s', c=\"black\")\n",
    "\n",
    "plt.xlabel(\"theta\")\n",
    "plt.ylabel('xsec [pb]')\n",
    "\n",
    "plt.ylim(0., None)\n",
    "plt.tight_layout()\n",
    "plt.savefig(\"xsec.pdf\")\n"
   ]
  },
  {
   "cell_type": "markdown",
   "metadata": {},
   "source": [
    "What  you see here is a morphing algorithm in action. We only asked MadGraph to calculate event weights (differential cross sections, or basically squared matrix elements) at six fixed parameter points (shown here as squares with black edges). But with our knowledge about the structure of the process we can interpolate any observable to any parameter point without loss (except that statistical uncertainties might increase)!"
   ]
  },
  {
   "cell_type": "markdown",
   "metadata": {},
   "source": [
    "## 3. Train likelihood ratio estimator"
   ]
  },
  {
   "cell_type": "markdown",
   "metadata": {},
   "source": [
    "It's now time to build the neural network that estimates the likelihood ratio. The central object for this is the `madminer.ml.ParameterizedRatioEstimator` class. It defines functions that train, save, load, and evaluate the estimators.\n",
    "\n",
    "In the initialization, the keywords `n_hidden` and `activation` define the architecture of the (fully connected) neural network:"
   ]
  },
  {
   "cell_type": "code",
   "execution_count": 14,
   "metadata": {},
   "outputs": [],
   "source": [
    "estimator = ParameterizedRatioEstimator(\n",
    "    n_hidden=(100,100,),\n",
    "    activation=\"tanh\",\n",
    "    dropout_prob=0.2,\n",
    ")"
   ]
  },
  {
   "cell_type": "markdown",
   "metadata": {},
   "source": [
    "To train this model we will minimize the ALICES loss function described in [\"Likelihood-free inference with an improved cross-entropy estimator\"](https://arxiv.org/abs/1808.00973). Many alternatives, including RASCAL, are described in [\"Constraining Effective Field Theories With Machine Learning\"](https://arxiv.org/abs/1805.00013) and [\"A Guide to Constraining Effective Field Theories With Machine Learning\"](https://arxiv.org/abs/1805.00020). There is also SCANDAL introduced in [\"Mining gold from implicit models to improve likelihood-free inference\"](https://arxiv.org/abs/1805.12244)."
   ]
  },
  {
   "cell_type": "code",
   "execution_count": 15,
   "metadata": {},
   "outputs": [
    {
     "name": "stderr",
     "output_type": "stream",
     "text": [
      "11:42 madminer.ml          INFO    Starting training\n",
      "11:42 madminer.ml          INFO      Method:                 alices\n",
      "11:42 madminer.ml          INFO      alpha:                  1.0\n",
      "11:42 madminer.ml          INFO      Batch size:             512\n",
      "11:42 madminer.ml          INFO      Optimizer:              amsgrad\n",
      "11:42 madminer.ml          INFO      Epochs:                 5\n",
      "11:42 madminer.ml          INFO      Learning rate:          0.001 initially, decaying to 0.0001\n",
      "11:42 madminer.ml          INFO      Validation split:       0.25\n",
      "11:42 madminer.ml          INFO      Early stopping:         True\n",
      "11:42 madminer.ml          INFO      Scale inputs:           True\n",
      "11:42 madminer.ml          INFO      Scale parameters:       True\n",
      "11:42 madminer.ml          INFO      Shuffle labels          False\n",
      "11:42 madminer.ml          INFO      Samples:                all\n",
      "11:42 madminer.ml          INFO    Loading training data\n",
      "11:42 madminer.utils.vario INFO      Loading data/samples/theta0_train_ratio.npy into RAM\n",
      "11:42 madminer.utils.vario INFO      Loading data/samples/x_train_ratio.npy into RAM\n",
      "11:42 madminer.utils.vario INFO      Loading data/samples/y_train_ratio.npy into RAM\n",
      "11:42 madminer.utils.vario INFO      Loading data/samples/r_xz_train_ratio.npy into RAM\n",
      "11:42 madminer.utils.vario INFO      Loading data/samples/t_xz_train_ratio.npy into RAM\n",
      "11:42 madminer.ml          INFO    Found 10000000 samples with 1 parameters and 35 observables\n",
      "11:42 madminer.utils.vario INFO      Loading data/samples/theta0_val_ratio.npy into RAM\n",
      "11:42 madminer.utils.vario INFO      Loading data/samples/x_val_ratio.npy into RAM\n",
      "11:42 madminer.utils.vario INFO      Loading data/samples/y_val_ratio.npy into RAM\n",
      "11:42 madminer.utils.vario INFO      Loading data/samples/r_xz_val_ratio.npy into RAM\n",
      "11:42 madminer.utils.vario INFO      Loading data/samples/t_xz_val_ratio.npy into RAM\n",
      "11:42 madminer.ml          INFO    Found 100000 separate validation samples\n",
      "11:42 madminer.ml          INFO    Setting up input rescaling\n",
      "11:42 madminer.ml          INFO    Rescaling parameters\n",
      "11:42 madminer.ml          INFO    Setting up parameter rescaling\n",
      "11:42 madminer.ml          INFO    Creating model\n",
      "11:42 madminer.ml          INFO    Training model\n",
      "11:42 madminer.utils.ml.tr INFO    Training on CPU with single precision\n",
      "11:52 madminer.utils.ml.tr INFO    Epoch   1: train loss  0.83806 (improved_xe:  0.693, mse_score:  0.145)\n",
      "11:52 madminer.utils.ml.tr INFO               val. loss   0.88296 (improved_xe:  0.695, mse_score:  0.188)\n",
      "12:14 madminer.utils.ml.tr INFO    Epoch   2: train loss  0.83236 (improved_xe:  0.693, mse_score:  0.139)\n",
      "12:14 madminer.utils.ml.tr INFO               val. loss   0.88194 (improved_xe:  0.695, mse_score:  0.187)\n",
      "13:22 madminer.utils.ml.tr INFO    Epoch   3: train loss  0.82992 (improved_xe:  0.693, mse_score:  0.137)\n",
      "13:22 madminer.utils.ml.tr INFO               val. loss   0.88351 (improved_xe:  0.695, mse_score:  0.188)\n",
      "Traceback (most recent call last):\n",
      "  File \"/Users/johannbrehmer/anaconda3/envs/python2/lib/python2.7/multiprocessing/queues.py\", line 268, in _feed\n",
      "Traceback (most recent call last):\n",
      "  File \"/Users/johannbrehmer/anaconda3/envs/python2/lib/python2.7/multiprocessing/queues.py\", line 268, in _feed\n",
      "Traceback (most recent call last):\n",
      "  File \"/Users/johannbrehmer/anaconda3/envs/python2/lib/python2.7/multiprocessing/queues.py\", line 268, in _feed\n",
      "Traceback (most recent call last):\n",
      "  File \"/Users/johannbrehmer/anaconda3/envs/python2/lib/python2.7/multiprocessing/queues.py\", line 268, in _feed\n",
      "    send(obj)\n",
      "  File \"/Users/johannbrehmer/anaconda3/envs/python2/lib/python2.7/site-packages/torch/multiprocessing/queue.py\", line 18, in send\n",
      "    send(obj)\n",
      "    send(obj)\n",
      "  File \"/Users/johannbrehmer/anaconda3/envs/python2/lib/python2.7/site-packages/torch/multiprocessing/queue.py\", line 18, in send\n",
      "  File \"/Users/johannbrehmer/anaconda3/envs/python2/lib/python2.7/site-packages/torch/multiprocessing/queue.py\", line 18, in send\n",
      "    send(obj)\n",
      "    self.send_bytes(buf.getvalue())\n",
      "IOError: [Errno 32] Broken pipe\n",
      "  File \"/Users/johannbrehmer/anaconda3/envs/python2/lib/python2.7/site-packages/torch/multiprocessing/queue.py\", line 18, in send\n",
      "    self.send_bytes(buf.getvalue())\n",
      "IOError: [Errno 32] Broken pipe\n",
      "    self.send_bytes(buf.getvalue())\n",
      "IOError: [Errno 32] Broken pipe\n",
      "    self.send_bytes(buf.getvalue())\n",
      "IOError: [Errno 32] Broken pipe\n"
     ]
    },
    {
     "ename": "KeyboardInterrupt",
     "evalue": "",
     "output_type": "error",
     "traceback": [
      "\u001b[0;31m---------------------------------------------------------------------------\u001b[0m",
      "\u001b[0;31mKeyboardInterrupt\u001b[0m                         Traceback (most recent call last)",
      "\u001b[0;32m<ipython-input-15-df35b442c2f1>\u001b[0m in \u001b[0;36m<module>\u001b[0;34m()\u001b[0m\n\u001b[1;32m     14\u001b[0m     \u001b[0mn_epochs\u001b[0m\u001b[0;34m=\u001b[0m\u001b[0;36m5\u001b[0m\u001b[0;34m,\u001b[0m\u001b[0;34m\u001b[0m\u001b[0m\n\u001b[1;32m     15\u001b[0m     \u001b[0mbatch_size\u001b[0m\u001b[0;34m=\u001b[0m\u001b[0;36m512\u001b[0m\u001b[0;34m,\u001b[0m\u001b[0;34m\u001b[0m\u001b[0m\n\u001b[0;32m---> 16\u001b[0;31m     \u001b[0mn_workers\u001b[0m\u001b[0;34m=\u001b[0m\u001b[0;36m4\u001b[0m\u001b[0;34m,\u001b[0m\u001b[0;34m\u001b[0m\u001b[0m\n\u001b[0m\u001b[1;32m     17\u001b[0m )\n\u001b[1;32m     18\u001b[0m \u001b[0;34m\u001b[0m\u001b[0m\n",
      "\u001b[0;32m/Users/johannbrehmer/work/projects/madminer/madminer/madminer/ml.py\u001b[0m in \u001b[0;36mtrain\u001b[0;34m(self, method, x, y, theta, r_xz, t_xz, x_val, y_val, theta_val, r_xz_val, t_xz_val, alpha, optimizer, n_epochs, batch_size, initial_lr, final_lr, nesterov_momentum, validation_split, early_stopping, scale_inputs, shuffle_labels, limit_samplesize, memmap, verbose, scale_parameters, n_workers)\u001b[0m\n\u001b[1;32m    663\u001b[0m             \u001b[0mvalidation_split\u001b[0m\u001b[0;34m=\u001b[0m\u001b[0mvalidation_split\u001b[0m\u001b[0;34m,\u001b[0m\u001b[0;34m\u001b[0m\u001b[0m\n\u001b[1;32m    664\u001b[0m             \u001b[0mearly_stopping\u001b[0m\u001b[0;34m=\u001b[0m\u001b[0mearly_stopping\u001b[0m\u001b[0;34m,\u001b[0m\u001b[0;34m\u001b[0m\u001b[0m\n\u001b[0;32m--> 665\u001b[0;31m             \u001b[0mverbose\u001b[0m\u001b[0;34m=\u001b[0m\u001b[0mverbose\u001b[0m\u001b[0;34m,\u001b[0m\u001b[0;34m\u001b[0m\u001b[0m\n\u001b[0m\u001b[1;32m    666\u001b[0m         )\n\u001b[1;32m    667\u001b[0m         \u001b[0;32mreturn\u001b[0m \u001b[0mresult\u001b[0m\u001b[0;34m\u001b[0m\u001b[0m\n",
      "\u001b[0;32m/Users/johannbrehmer/work/projects/madminer/madminer/madminer/utils/ml/trainer.py\u001b[0m in \u001b[0;36mtrain\u001b[0;34m(self, data, loss_functions, loss_weights, loss_labels, epochs, batch_size, optimizer, optimizer_kwargs, initial_lr, final_lr, data_val, validation_split, early_stopping, early_stopping_patience, clip_gradient, verbose)\u001b[0m\n\u001b[1;32m    172\u001b[0m             \u001b[0;32mtry\u001b[0m\u001b[0;34m:\u001b[0m\u001b[0;34m\u001b[0m\u001b[0m\n\u001b[1;32m    173\u001b[0m                 loss_train, loss_val, loss_contributions_train, loss_contributions_val = self.epoch(\n\u001b[0;32m--> 174\u001b[0;31m                     \u001b[0mi_epoch\u001b[0m\u001b[0;34m,\u001b[0m \u001b[0mdata_labels\u001b[0m\u001b[0;34m,\u001b[0m \u001b[0mtrain_loader\u001b[0m\u001b[0;34m,\u001b[0m \u001b[0mval_loader\u001b[0m\u001b[0;34m,\u001b[0m \u001b[0mopt\u001b[0m\u001b[0;34m,\u001b[0m \u001b[0mloss_functions\u001b[0m\u001b[0;34m,\u001b[0m \u001b[0mloss_weights\u001b[0m\u001b[0;34m,\u001b[0m \u001b[0mclip_gradient\u001b[0m\u001b[0;34m\u001b[0m\u001b[0m\n\u001b[0m\u001b[1;32m    175\u001b[0m                 )\n\u001b[1;32m    176\u001b[0m                 \u001b[0mlosses_train\u001b[0m\u001b[0;34m.\u001b[0m\u001b[0mappend\u001b[0m\u001b[0;34m(\u001b[0m\u001b[0mloss_train\u001b[0m\u001b[0;34m)\u001b[0m\u001b[0;34m\u001b[0m\u001b[0m\n",
      "\u001b[0;32m/Users/johannbrehmer/work/projects/madminer/madminer/madminer/utils/ml/trainer.py\u001b[0m in \u001b[0;36mepoch\u001b[0;34m(self, i_epoch, data_labels, train_loader, val_loader, optimizer, loss_functions, loss_weights, clip_gradient)\u001b[0m\n\u001b[1;32m    323\u001b[0m \u001b[0;34m\u001b[0m\u001b[0m\n\u001b[1;32m    324\u001b[0m             batch_loss, batch_loss_contributions = self.batch_train(\n\u001b[0;32m--> 325\u001b[0;31m                 \u001b[0mbatch_data\u001b[0m\u001b[0;34m,\u001b[0m \u001b[0mloss_functions\u001b[0m\u001b[0;34m,\u001b[0m \u001b[0mloss_weights\u001b[0m\u001b[0;34m,\u001b[0m \u001b[0moptimizer\u001b[0m\u001b[0;34m,\u001b[0m \u001b[0mclip_gradient\u001b[0m\u001b[0;34m\u001b[0m\u001b[0m\n\u001b[0m\u001b[1;32m    326\u001b[0m             )\n\u001b[1;32m    327\u001b[0m             \u001b[0mloss_train\u001b[0m \u001b[0;34m+=\u001b[0m \u001b[0mbatch_loss\u001b[0m\u001b[0;34m\u001b[0m\u001b[0m\n",
      "\u001b[0;32m/Users/johannbrehmer/work/projects/madminer/madminer/madminer/utils/ml/trainer.py\u001b[0m in \u001b[0;36mbatch_train\u001b[0;34m(self, batch_data, loss_functions, loss_weights, optimizer, clip_gradient)\u001b[0m\n\u001b[1;32m    369\u001b[0m         \u001b[0mself\u001b[0m\u001b[0;34m.\u001b[0m\u001b[0m_timer\u001b[0m\u001b[0;34m(\u001b[0m\u001b[0mstop\u001b[0m\u001b[0;34m=\u001b[0m\u001b[0;34m\"training sum losses\"\u001b[0m\u001b[0;34m,\u001b[0m \u001b[0mstart\u001b[0m\u001b[0;34m=\u001b[0m\u001b[0;34m\"optimizer step\"\u001b[0m\u001b[0;34m)\u001b[0m\u001b[0;34m\u001b[0m\u001b[0m\n\u001b[1;32m    370\u001b[0m \u001b[0;34m\u001b[0m\u001b[0m\n\u001b[0;32m--> 371\u001b[0;31m         \u001b[0mself\u001b[0m\u001b[0;34m.\u001b[0m\u001b[0moptimizer_step\u001b[0m\u001b[0;34m(\u001b[0m\u001b[0moptimizer\u001b[0m\u001b[0;34m,\u001b[0m \u001b[0mloss\u001b[0m\u001b[0;34m,\u001b[0m \u001b[0mclip_gradient\u001b[0m\u001b[0;34m)\u001b[0m\u001b[0;34m\u001b[0m\u001b[0m\n\u001b[0m\u001b[1;32m    372\u001b[0m         \u001b[0mself\u001b[0m\u001b[0;34m.\u001b[0m\u001b[0m_timer\u001b[0m\u001b[0;34m(\u001b[0m\u001b[0mstop\u001b[0m\u001b[0;34m=\u001b[0m\u001b[0;34m\"optimizer step\"\u001b[0m\u001b[0;34m,\u001b[0m \u001b[0mstart\u001b[0m\u001b[0;34m=\u001b[0m\u001b[0;34m\"training sum losses\"\u001b[0m\u001b[0;34m)\u001b[0m\u001b[0;34m\u001b[0m\u001b[0m\n\u001b[1;32m    373\u001b[0m \u001b[0;34m\u001b[0m\u001b[0m\n",
      "\u001b[0;32m/Users/johannbrehmer/work/projects/madminer/madminer/madminer/utils/ml/trainer.py\u001b[0m in \u001b[0;36moptimizer_step\u001b[0;34m(self, optimizer, loss, clip_gradient)\u001b[0m\n\u001b[1;32m    420\u001b[0m         \u001b[0moptimizer\u001b[0m\u001b[0;34m.\u001b[0m\u001b[0mzero_grad\u001b[0m\u001b[0;34m(\u001b[0m\u001b[0;34m)\u001b[0m\u001b[0;34m\u001b[0m\u001b[0m\n\u001b[1;32m    421\u001b[0m         \u001b[0mself\u001b[0m\u001b[0;34m.\u001b[0m\u001b[0m_timer\u001b[0m\u001b[0;34m(\u001b[0m\u001b[0mstop\u001b[0m\u001b[0;34m=\u001b[0m\u001b[0;34m\"opt: zero grad\"\u001b[0m\u001b[0;34m,\u001b[0m \u001b[0mstart\u001b[0m\u001b[0;34m=\u001b[0m\u001b[0;34m\"opt: backward\"\u001b[0m\u001b[0;34m)\u001b[0m\u001b[0;34m\u001b[0m\u001b[0m\n\u001b[0;32m--> 422\u001b[0;31m         \u001b[0mloss\u001b[0m\u001b[0;34m.\u001b[0m\u001b[0mbackward\u001b[0m\u001b[0;34m(\u001b[0m\u001b[0;34m)\u001b[0m\u001b[0;34m\u001b[0m\u001b[0m\n\u001b[0m\u001b[1;32m    423\u001b[0m         \u001b[0mself\u001b[0m\u001b[0;34m.\u001b[0m\u001b[0m_timer\u001b[0m\u001b[0;34m(\u001b[0m\u001b[0mstart\u001b[0m\u001b[0;34m=\u001b[0m\u001b[0;34m\"opt: clip grad norm\"\u001b[0m\u001b[0;34m,\u001b[0m \u001b[0mstop\u001b[0m\u001b[0;34m=\u001b[0m\u001b[0;34m\"opt: backward\"\u001b[0m\u001b[0;34m)\u001b[0m\u001b[0;34m\u001b[0m\u001b[0m\n\u001b[1;32m    424\u001b[0m         \u001b[0;32mif\u001b[0m \u001b[0mclip_gradient\u001b[0m \u001b[0;32mis\u001b[0m \u001b[0;32mnot\u001b[0m \u001b[0mNone\u001b[0m\u001b[0;34m:\u001b[0m\u001b[0;34m\u001b[0m\u001b[0m\n",
      "\u001b[0;32m/Users/johannbrehmer/anaconda3/envs/python2/lib/python2.7/site-packages/torch/tensor.pyc\u001b[0m in \u001b[0;36mbackward\u001b[0;34m(self, gradient, retain_graph, create_graph)\u001b[0m\n\u001b[1;32m    100\u001b[0m                 \u001b[0mproducts\u001b[0m\u001b[0;34m.\u001b[0m \u001b[0mDefaults\u001b[0m \u001b[0mto\u001b[0m \u001b[0;34m`\u001b[0m\u001b[0;34m`\u001b[0m\u001b[0mFalse\u001b[0m\u001b[0;34m`\u001b[0m\u001b[0;34m`\u001b[0m\u001b[0;34m.\u001b[0m\u001b[0;34m\u001b[0m\u001b[0m\n\u001b[1;32m    101\u001b[0m         \"\"\"\n\u001b[0;32m--> 102\u001b[0;31m         \u001b[0mtorch\u001b[0m\u001b[0;34m.\u001b[0m\u001b[0mautograd\u001b[0m\u001b[0;34m.\u001b[0m\u001b[0mbackward\u001b[0m\u001b[0;34m(\u001b[0m\u001b[0mself\u001b[0m\u001b[0;34m,\u001b[0m \u001b[0mgradient\u001b[0m\u001b[0;34m,\u001b[0m \u001b[0mretain_graph\u001b[0m\u001b[0;34m,\u001b[0m \u001b[0mcreate_graph\u001b[0m\u001b[0;34m)\u001b[0m\u001b[0;34m\u001b[0m\u001b[0m\n\u001b[0m\u001b[1;32m    103\u001b[0m \u001b[0;34m\u001b[0m\u001b[0m\n\u001b[1;32m    104\u001b[0m     \u001b[0;32mdef\u001b[0m \u001b[0mregister_hook\u001b[0m\u001b[0;34m(\u001b[0m\u001b[0mself\u001b[0m\u001b[0;34m,\u001b[0m \u001b[0mhook\u001b[0m\u001b[0;34m)\u001b[0m\u001b[0;34m:\u001b[0m\u001b[0;34m\u001b[0m\u001b[0m\n",
      "\u001b[0;32m/Users/johannbrehmer/anaconda3/envs/python2/lib/python2.7/site-packages/torch/autograd/__init__.pyc\u001b[0m in \u001b[0;36mbackward\u001b[0;34m(tensors, grad_tensors, retain_graph, create_graph, grad_variables)\u001b[0m\n\u001b[1;32m     88\u001b[0m     Variable._execution_engine.run_backward(\n\u001b[1;32m     89\u001b[0m         \u001b[0mtensors\u001b[0m\u001b[0;34m,\u001b[0m \u001b[0mgrad_tensors\u001b[0m\u001b[0;34m,\u001b[0m \u001b[0mretain_graph\u001b[0m\u001b[0;34m,\u001b[0m \u001b[0mcreate_graph\u001b[0m\u001b[0;34m,\u001b[0m\u001b[0;34m\u001b[0m\u001b[0m\n\u001b[0;32m---> 90\u001b[0;31m         allow_unreachable=True)  # allow_unreachable flag\n\u001b[0m\u001b[1;32m     91\u001b[0m \u001b[0;34m\u001b[0m\u001b[0m\n\u001b[1;32m     92\u001b[0m \u001b[0;34m\u001b[0m\u001b[0m\n",
      "\u001b[0;31mKeyboardInterrupt\u001b[0m: "
     ]
    }
   ],
   "source": [
    "estimator.train(\n",
    "    method='alices',\n",
    "    theta='data/samples/theta0_train_ratio.npy',\n",
    "    x='data/samples/x_train_ratio.npy',\n",
    "    y='data/samples/y_train_ratio.npy',\n",
    "    r_xz='data/samples/r_xz_train_ratio.npy',\n",
    "    t_xz='data/samples/t_xz_train_ratio.npy',\n",
    "    theta_val='data/samples/theta0_val_ratio.npy',\n",
    "    x_val='data/samples/x_val_ratio.npy',\n",
    "    y_val='data/samples/y_val_ratio.npy',\n",
    "    r_xz_val='data/samples/r_xz_val_ratio.npy',\n",
    "    t_xz_val='data/samples/t_xz_val_ratio.npy',\n",
    "    alpha=1.,\n",
    "    n_epochs=5,\n",
    "    batch_size=512,\n",
    "    n_workers=4,\n",
    ")\n",
    "\n",
    "estimator.save('models/alices')"
   ]
  },
  {
   "cell_type": "markdown",
   "metadata": {},
   "source": [
    "## 4. Evaluate likelihood ratio estimator"
   ]
  },
  {
   "cell_type": "markdown",
   "metadata": {},
   "source": [
    "`estimator.evaluate_log_likelihood_ratio(theta,x)` estimated the log likelihood ratio and the score for all combination between the given phase-space points `x` and parameters `theta`. That is, if given 100 events `x` and a grid of 25 `theta` points, it will return 25\\*100 estimates for the log likelihood ratio and 25\\*100 estimates for the score, both indexed by `[i_theta,i_x]`."
   ]
  },
  {
   "cell_type": "code",
   "execution_count": 5,
   "metadata": {},
   "outputs": [],
   "source": [
    "theta_each = np.linspace(-20.,20.,21)\n",
    "theta0, theta1 = np.meshgrid(theta_each, theta_each)\n",
    "theta_grid = np.vstack((theta0.flatten(), theta1.flatten())).T\n",
    "np.save('data/samples/theta_grid.npy', theta_grid)\n",
    "\n",
    "theta_denom = np.array([[0.,0.]])\n",
    "np.save('data/samples/theta_ref.npy', theta_denom)\n"
   ]
  },
  {
   "cell_type": "code",
   "execution_count": 6,
   "metadata": {},
   "outputs": [
    {
     "name": "stderr",
     "output_type": "stream",
     "text": [
      "11:48 madminer.ml          INFO    Loading model from models/alices\n",
      "11:48 madminer.ml          WARNING Parameter scaling information not found in models/alices\n",
      "11:48 madminer.ml          INFO    Loading evaluation data\n",
      "11:48 madminer.utils.vario INFO      Loading data/samples/x_test.npy into RAM\n",
      "11:48 madminer.utils.vario INFO      Loading data/samples/theta_grid.npy into RAM\n",
      "11:48 madminer.ml          INFO    Starting ratio evaluation for 441000 x-theta combinations\n",
      "11:48 madminer.ml          INFO    Evaluation done\n"
     ]
    }
   ],
   "source": [
    "estimator.load('models/alices')\n",
    "\n",
    "log_r_hat, _ = estimator.evaluate_log_likelihood_ratio(\n",
    "    theta='data/samples/theta_grid.npy',\n",
    "    x='data/samples/x_test.npy',\n",
    "    evaluate_score=False\n",
    ")"
   ]
  },
  {
   "cell_type": "markdown",
   "metadata": {},
   "source": [
    "Let's look at the result:"
   ]
  },
  {
   "cell_type": "code",
   "execution_count": 7,
   "metadata": {},
   "outputs": [
    {
     "data": {
      "image/png": "[encoded data removed]",
      "text/plain": [
       "<Figure size 432x360 with 2 Axes>"
      ]
     },
     "metadata": {
      "needs_background": "light"
     },
     "output_type": "display_data"
    }
   ],
   "source": [
    "bin_size = theta_each[1] - theta_each[0]\n",
    "edges = np.linspace(theta_each[0] - bin_size/2, theta_each[-1] + bin_size/2, len(theta_each)+1)\n",
    "\n",
    "fig = plt.figure(figsize=(6,5))\n",
    "ax = plt.gca()\n",
    "\n",
    "expected_llr = np.mean(log_r_hat,axis=1)\n",
    "best_fit = theta_grid[np.argmin(-2.*expected_llr)]\n",
    "\n",
    "cmin, cmax = np.min(-2*expected_llr), np.max(-2*expected_llr)\n",
    "    \n",
    "pcm = ax.pcolormesh(edges, edges, -2. * expected_llr.reshape((21,21)),\n",
    "                    norm=matplotlib.colors.Normalize(vmin=cmin, vmax=cmax),\n",
    "                    cmap='viridis_r')\n",
    "cbar = fig.colorbar(pcm, ax=ax, extend='both')\n",
    "\n",
    "plt.scatter(best_fit[0], best_fit[1], s=80., color='black', marker='*')\n",
    "\n",
    "plt.xlabel(r'$\\theta_0$')\n",
    "plt.ylabel(r'$\\theta_1$')\n",
    "cbar.set_label(r'$\\mathbb{E}_x [ -2\\, \\log \\,\\hat{r}(x | \\theta, \\theta_{SM}) ]$')\n",
    "\n",
    "plt.tight_layout()\n",
    "plt.show()\n"
   ]
  },
  {
   "cell_type": "markdown",
   "metadata": {},
   "source": [
    "Note that in this tutorial our sample size was very small, and the network might not really have a chance to converge to the correct likelihood ratio function. So don't worry if you find a minimum that is not at the right point (the SM, i.e. the origin in this plot). Feel free to dial up the event numbers in the run card as well as the training samples and see what happens then!"
   ]
  },
  {
   "cell_type": "code",
   "execution_count": null,
   "metadata": {},
   "outputs": [],
   "source": []
  },
  {
   "cell_type": "code",
   "execution_count": null,
   "metadata": {},
   "outputs": [],
   "source": []
  }
 ],
 "metadata": {
  "kernelspec": {
   "display_name": "Python 2",
   "language": "python",
   "name": "python2"
  },
  "language_info": {
   "codemirror_mode": {
    "name": "ipython",
    "version": 2
   },
   "file_extension": ".py",
   "mimetype": "text/x-python",
   "name": "python",
   "nbconvert_exporter": "python",
   "pygments_lexer": "ipython2",
   "version": "2.7.12"
  }
 },
 "nbformat": 4,
 "nbformat_minor": 2
}
