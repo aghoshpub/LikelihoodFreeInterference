{
 "cells": [
  {
   "cell_type": "markdown",
   "metadata": {},
   "source": [
    "# Likelihood ratio analysis"
   ]
  },
  {
   "cell_type": "markdown",
   "metadata": {},
   "source": [
    "## Preparations"
   ]
  },
  {
   "cell_type": "code",
   "execution_count": 1,
   "metadata": {},
   "outputs": [
    {
     "name": "stderr",
     "output_type": "stream",
     "text": [
      "14:44 madminer             INFO    \n",
      "14:44 madminer             INFO    ------------------------------------------------------------------------\n",
      "14:44 madminer             INFO    |                                                                      |\n",
      "14:44 madminer             INFO    |  MadMiner v0.6.2                                                     |\n",
      "14:44 madminer             INFO    |                                                                      |\n",
      "14:44 madminer             INFO    |         Johann Brehmer, Felix Kling, Irina Espejo, and Kyle Cranmer  |\n",
      "14:44 madminer             INFO    |                                                                      |\n",
      "14:44 madminer             INFO    ------------------------------------------------------------------------\n",
      "14:44 madminer             INFO    \n"
     ]
    }
   ],
   "source": [
    "from __future__ import absolute_import, division, print_function, unicode_literals\n",
    "\n",
    "import logging\n",
    "import numpy as np\n",
    "import matplotlib\n",
    "from matplotlib import pyplot as plt\n",
    "%matplotlib inline\n",
    "import scipy.stats\n",
    "\n",
    "# MadMiner output\n",
    "logging.basicConfig(\n",
    "    format='%(asctime)-5.5s %(name)-20.20s %(levelname)-7.7s %(message)s',\n",
    "    datefmt='%H:%M',\n",
    "    level=logging.INFO\n",
    ")\n",
    "\n",
    "# Output of all other modules (e.g. matplotlib)\n",
    "for key in logging.Logger.manager.loggerDict:\n",
    "    if \"madminer\" not in key:\n",
    "        logging.getLogger(key).setLevel(logging.WARNING)\n",
    "\n",
    "from madminer.sampling import SampleAugmenter\n",
    "from madminer import sampling\n",
    "from madminer.ml import ParameterizedRatioEstimator, DoubleParameterizedRatioEstimator\n"
   ]
  },
  {
   "cell_type": "markdown",
   "metadata": {},
   "source": [
    "## Make (unweighted) training and test samples"
   ]
  },
  {
   "cell_type": "code",
   "execution_count": 2,
   "metadata": {},
   "outputs": [
    {
     "name": "stderr",
     "output_type": "stream",
     "text": [
      "14:44 madminer.analysis    INFO    Loading data from data/delphes_data_shuffled.h5\n",
      "14:44 madminer.analysis    INFO    Found 1 parameters\n",
      "14:44 madminer.analysis    INFO    Did not find nuisance parameters\n",
      "14:44 madminer.analysis    INFO    Found 6 benchmarks, of which 6 physical\n",
      "14:44 madminer.analysis    INFO    Found 35 observables\n",
      "14:44 madminer.analysis    INFO    Found 3635115 events\n",
      "14:44 madminer.analysis    INFO      856510 signal events sampled from benchmark no-higgs\n",
      "14:44 madminer.analysis    INFO      821845 signal events sampled from benchmark 0.8_k\n",
      "14:44 madminer.analysis    INFO      922750 signal events sampled from benchmark sm\n",
      "14:44 madminer.analysis    INFO      112840 signal events sampled from benchmark 1.2_k\n",
      "14:44 madminer.analysis    INFO      807988 signal events sampled from benchmark 1.5_k\n",
      "14:44 madminer.analysis    INFO      113182 signal events sampled from benchmark 1.35_k\n",
      "14:44 madminer.analysis    INFO    Found morphing setup with 5 components\n",
      "14:44 madminer.analysis    INFO    Did not find nuisance morphing setup\n"
     ]
    }
   ],
   "source": [
    "sampler = SampleAugmenter('data/delphes_data_shuffled.h5')"
   ]
  },
  {
   "cell_type": "code",
   "execution_count": 3,
   "metadata": {},
   "outputs": [],
   "source": [
    "# def draw_truncated_gaussian(mean=1., std=1., n=1000):\n",
    "#     a = - mean / std\n",
    "#     b = 100.\n",
    "#     return mean + std * scipy.stats.truncnorm(a=a, b=b).rvs(size=n)\n"
   ]
  },
  {
   "cell_type": "code",
   "execution_count": 4,
   "metadata": {},
   "outputs": [],
   "source": [
    "proposal_theta = np.random.normal(loc=1., scale=0.5, size=2000)\n",
    "# proposal_theta_denom = np.random.normal(loc=1., scale=0.5, size=2000)\n",
    "\n",
    "proposal_mu = proposal_theta**4.\n",
    "# proposal_mu_denom = proposal_theta_denom**4."
   ]
  },
  {
   "cell_type": "code",
   "execution_count": 5,
   "metadata": {},
   "outputs": [
    {
     "data": {
      "image/png": "[encoded data removed]",
      "text/plain": [
       "<Figure size 360x360 with 1 Axes>"
      ]
     },
     "metadata": {
      "needs_background": "light"
     },
     "output_type": "display_data"
    }
   ],
   "source": [
    "fig = plt.figure(figsize=(5,5))\n",
    "\n",
    "plt.hist(proposal_mu, range=(-1.,25.), bins=100, histtype=\"step\")\n",
    "# plt.hist(proposal_mu_denom, range=(-1.,25.), bins=100, histtype=\"step\")\n",
    "plt.xlabel(r\"$\\mu$\")\n",
    "\n",
    "plt.tight_layout()\n",
    "plt.show()"
   ]
  },
  {
   "cell_type": "code",
   "execution_count": 6,
   "metadata": {},
   "outputs": [
    {
     "data": {
      "image/png": "[encoded data removed]",
      "text/plain": [
       "<Figure size 360x360 with 1 Axes>"
      ]
     },
     "metadata": {
      "needs_background": "light"
     },
     "output_type": "display_data"
    }
   ],
   "source": [
    "fig = plt.figure(figsize=(5,5))\n",
    "\n",
    "plt.hist(proposal_theta, range=(-1.,3.), bins=100, histtype=\"step\")\n",
    "# plt.hist(proposal_theta_denom, range=(-1.,3.), bins=100, histtype=\"step\")\n",
    "plt.xlabel(r\"$\\theta$\")\n",
    "\n",
    "plt.tight_layout()\n",
    "plt.show()"
   ]
  },
  {
   "cell_type": "code",
   "execution_count": 7,
   "metadata": {},
   "outputs": [
    {
     "name": "stderr",
     "output_type": "stream",
     "text": [
      "14:44 madminer.sampling    INFO    Extracting training sample for ratio-based methods. Numerator hypothesis: 2000 morphing points, starting with [array([0.49026155]), array([1.30942893]), array([0.68552843])], denominator hypothesis: sm\n",
      "14:44 madminer.sampling    INFO    Starting sampling serially\n",
      "14:46 madminer.sampling    INFO    Sampling from parameter point 100 / 2000\n",
      "14:48 madminer.sampling    INFO    Sampling from parameter point 200 / 2000\n",
      "14:50 madminer.sampling    INFO    Sampling from parameter point 300 / 2000\n",
      "14:52 madminer.sampling    INFO    Sampling from parameter point 400 / 2000\n",
      "14:54 madminer.sampling    INFO    Sampling from parameter point 500 / 2000\n",
      "14:56 madminer.sampling    INFO    Sampling from parameter point 600 / 2000\n",
      "14:57 madminer.sampling    INFO    Sampling from parameter point 700 / 2000\n",
      "15:00 madminer.sampling    INFO    Sampling from parameter point 800 / 2000\n",
      "15:01 madminer.sampling    INFO    Sampling from parameter point 900 / 2000\n",
      "15:03 madminer.sampling    INFO    Sampling from parameter point 1000 / 2000\n",
      "15:06 madminer.sampling    INFO    Sampling from parameter point 1100 / 2000\n",
      "15:08 madminer.sampling    INFO    Sampling from parameter point 1200 / 2000\n",
      "15:10 madminer.sampling    INFO    Sampling from parameter point 1300 / 2000\n",
      "15:12 madminer.sampling    INFO    Sampling from parameter point 1400 / 2000\n",
      "15:14 madminer.sampling    INFO    Sampling from parameter point 1500 / 2000\n",
      "15:16 madminer.sampling    INFO    Sampling from parameter point 1600 / 2000\n",
      "15:19 madminer.sampling    INFO    Sampling from parameter point 1700 / 2000\n",
      "15:21 madminer.sampling    INFO    Sampling from parameter point 1800 / 2000\n",
      "15:24 madminer.sampling    INFO    Sampling from parameter point 1900 / 2000\n",
      "15:26 madminer.sampling    INFO    Sampling from parameter point 2000 / 2000\n",
      "15:26 madminer.sampling    INFO    Effective number of samples: mean 122342.01640022131, with individual thetas ranging from 1592.281951480031 to 521559.64107952785\n",
      "15:26 madminer.sampling    INFO    Starting sampling serially\n",
      "15:29 madminer.sampling    INFO    Sampling from parameter point 100 / 2000\n",
      "15:32 madminer.sampling    INFO    Sampling from parameter point 200 / 2000\n",
      "15:35 madminer.sampling    INFO    Sampling from parameter point 300 / 2000\n",
      "15:38 madminer.sampling    INFO    Sampling from parameter point 400 / 2000\n",
      "15:40 madminer.sampling    INFO    Sampling from parameter point 500 / 2000\n",
      "15:42 madminer.sampling    INFO    Sampling from parameter point 600 / 2000\n",
      "15:44 madminer.sampling    INFO    Sampling from parameter point 700 / 2000\n",
      "15:46 madminer.sampling    INFO    Sampling from parameter point 800 / 2000\n",
      "15:48 madminer.sampling    INFO    Sampling from parameter point 900 / 2000\n",
      "15:51 madminer.sampling    INFO    Sampling from parameter point 1000 / 2000\n",
      "15:53 madminer.sampling    INFO    Sampling from parameter point 1100 / 2000\n",
      "15:56 madminer.sampling    INFO    Sampling from parameter point 1200 / 2000\n",
      "15:59 madminer.sampling    INFO    Sampling from parameter point 1300 / 2000\n",
      "16:02 madminer.sampling    INFO    Sampling from parameter point 1400 / 2000\n",
      "16:05 madminer.sampling    INFO    Sampling from parameter point 1500 / 2000\n",
      "16:08 madminer.sampling    INFO    Sampling from parameter point 1600 / 2000\n",
      "16:11 madminer.sampling    INFO    Sampling from parameter point 1700 / 2000\n",
      "16:14 madminer.sampling    INFO    Sampling from parameter point 1800 / 2000\n",
      "16:16 madminer.sampling    INFO    Sampling from parameter point 1900 / 2000\n",
      "16:18 madminer.sampling    INFO    Sampling from parameter point 2000 / 2000\n",
      "16:18 madminer.sampling    INFO    Effective number of samples: mean 522080.532047783, with individual thetas ranging from 522080.5320477788 to 522080.5320477788\n"
     ]
    }
   ],
   "source": [
    "x, theta0, theta1, y, r_xz, t_xz, n_effective = sampler.sample_train_ratio(\n",
    "    theta0=sampling.morphing_points(proposal_theta.reshape((-1,1))),\n",
    "    theta1=sampling.benchmark('sm'),\n",
    "    n_samples=10000000,\n",
    "    folder='./data/samples',\n",
    "    filename='train_ratio',\n",
    "    sample_only_from_closest_benchmark=True,\n",
    "    return_individual_n_effective=True,\n",
    ")"
   ]
  },
  {
   "cell_type": "code",
   "execution_count": 8,
   "metadata": {},
   "outputs": [
    {
     "name": "stderr",
     "output_type": "stream",
     "text": [
      "16:18 madminer.sampling    INFO    Extracting training sample for ratio-based methods. Numerator hypothesis: 2000 morphing points, starting with [array([0.49026155]), array([1.30942893]), array([0.68552843])], denominator hypothesis: 2000 morphing points, starting with [array([0.89202925]), array([1.44113285]), array([1.02678157])]\n",
      "16:18 madminer.sampling    INFO    Starting sampling serially\n",
      "16:20 madminer.sampling    INFO    Sampling from parameter point 100 / 2000\n",
      "16:22 madminer.sampling    INFO    Sampling from parameter point 200 / 2000\n",
      "16:23 madminer.sampling    INFO    Sampling from parameter point 300 / 2000\n",
      "16:26 madminer.sampling    INFO    Sampling from parameter point 400 / 2000\n",
      "16:28 madminer.sampling    INFO    Sampling from parameter point 500 / 2000\n",
      "16:30 madminer.sampling    INFO    Sampling from parameter point 600 / 2000\n",
      "16:31 madminer.sampling    INFO    Sampling from parameter point 700 / 2000\n",
      "16:34 madminer.sampling    INFO    Sampling from parameter point 800 / 2000\n",
      "16:36 madminer.sampling    INFO    Sampling from parameter point 900 / 2000\n",
      "16:38 madminer.sampling    INFO    Sampling from parameter point 1000 / 2000\n",
      "16:40 madminer.sampling    INFO    Sampling from parameter point 1100 / 2000\n",
      "16:42 madminer.sampling    INFO    Sampling from parameter point 1200 / 2000\n",
      "16:44 madminer.sampling    INFO    Sampling from parameter point 1300 / 2000\n",
      "16:46 madminer.sampling    INFO    Sampling from parameter point 1400 / 2000\n",
      "16:48 madminer.sampling    INFO    Sampling from parameter point 1500 / 2000\n",
      "16:50 madminer.sampling    INFO    Sampling from parameter point 1600 / 2000\n",
      "16:52 madminer.sampling    INFO    Sampling from parameter point 1700 / 2000\n",
      "16:54 madminer.sampling    INFO    Sampling from parameter point 1800 / 2000\n",
      "16:56 madminer.sampling    INFO    Sampling from parameter point 1900 / 2000\n",
      "16:58 madminer.sampling    INFO    Sampling from parameter point 2000 / 2000\n",
      "16:58 madminer.sampling    INFO    Effective number of samples: mean 122342.01640022131, with individual thetas ranging from 1592.281951480031 to 521559.64107952785\n",
      "16:58 madminer.sampling    INFO    Starting sampling serially\n",
      "17:00 madminer.sampling    INFO    Sampling from parameter point 100 / 2000\n",
      "17:02 madminer.sampling    INFO    Sampling from parameter point 200 / 2000\n",
      "17:04 madminer.sampling    INFO    Sampling from parameter point 300 / 2000\n",
      "17:06 madminer.sampling    INFO    Sampling from parameter point 400 / 2000\n",
      "17:08 madminer.sampling    INFO    Sampling from parameter point 500 / 2000\n",
      "17:10 madminer.sampling    INFO    Sampling from parameter point 600 / 2000\n",
      "17:12 madminer.sampling    INFO    Sampling from parameter point 700 / 2000\n",
      "17:14 madminer.sampling    INFO    Sampling from parameter point 800 / 2000\n",
      "17:16 madminer.sampling    INFO    Sampling from parameter point 900 / 2000\n",
      "17:18 madminer.sampling    INFO    Sampling from parameter point 1000 / 2000\n",
      "17:20 madminer.sampling    INFO    Sampling from parameter point 1100 / 2000\n",
      "17:22 madminer.sampling    INFO    Sampling from parameter point 1200 / 2000\n",
      "17:24 madminer.sampling    INFO    Sampling from parameter point 1300 / 2000\n",
      "17:26 madminer.sampling    INFO    Sampling from parameter point 1400 / 2000\n",
      "17:28 madminer.sampling    INFO    Sampling from parameter point 1500 / 2000\n",
      "17:30 madminer.sampling    INFO    Sampling from parameter point 1600 / 2000\n",
      "17:32 madminer.sampling    INFO    Sampling from parameter point 1700 / 2000\n",
      "17:34 madminer.sampling    INFO    Sampling from parameter point 1800 / 2000\n",
      "17:36 madminer.sampling    INFO    Sampling from parameter point 1900 / 2000\n",
      "17:38 madminer.sampling    INFO    Sampling from parameter point 2000 / 2000\n",
      "17:38 madminer.sampling    INFO    Effective number of samples: mean 121921.00104532734, with individual thetas ranging from 4480.2807645906105 to 521671.9565606575\n"
     ]
    }
   ],
   "source": [
    "# _ = sampler.sample_train_more_ratios(\n",
    "#     theta0=sampling.morphing_points(proposal_theta.reshape((-1,1))),\n",
    "#     theta1=sampling.morphing_points(proposal_theta_denom.reshape((-1,1))),\n",
    "#     n_samples=10000000,\n",
    "#     folder='./data/samples',\n",
    "#     filename='train_double_ratio',\n",
    "#     sample_only_from_closest_benchmark=True,\n",
    "# )"
   ]
  },
  {
   "cell_type": "code",
   "execution_count": 9,
   "metadata": {},
   "outputs": [
    {
     "name": "stderr",
     "output_type": "stream",
     "text": [
      "17:39 madminer.sampling    INFO    Extracting training sample for ratio-based methods. Numerator hypothesis: 2000 morphing points, starting with [array([0.49026155]), array([1.30942893]), array([0.68552843])], denominator hypothesis: sm\n",
      "17:39 madminer.sampling    INFO    Starting sampling serially\n",
      "17:39 madminer.sampling    INFO    Sampling from parameter point 100 / 2000\n",
      "17:40 madminer.sampling    INFO    Sampling from parameter point 200 / 2000\n",
      "17:41 madminer.sampling    INFO    Sampling from parameter point 300 / 2000\n",
      "17:41 madminer.sampling    INFO    Sampling from parameter point 400 / 2000\n",
      "17:42 madminer.sampling    INFO    Sampling from parameter point 500 / 2000\n",
      "17:42 madminer.sampling    WARNING Large statistical uncertainty on the total cross section when sampling from theta = [-1.1767375]: (0.000129 +/- 0.000015) pb (11.220554739081903 %). Skipping these warnings in the future...\n",
      "17:43 madminer.sampling    INFO    Sampling from parameter point 600 / 2000\n",
      "17:44 madminer.sampling    INFO    Sampling from parameter point 700 / 2000\n",
      "17:44 madminer.sampling    INFO    Sampling from parameter point 800 / 2000\n",
      "17:45 madminer.sampling    INFO    Sampling from parameter point 900 / 2000\n",
      "17:47 madminer.sampling    INFO    Sampling from parameter point 1000 / 2000\n",
      "17:48 madminer.sampling    INFO    Sampling from parameter point 1100 / 2000\n",
      "17:49 madminer.sampling    INFO    Sampling from parameter point 1200 / 2000\n",
      "17:50 madminer.sampling    INFO    Sampling from parameter point 1300 / 2000\n",
      "17:51 madminer.sampling    INFO    Sampling from parameter point 1400 / 2000\n",
      "17:51 madminer.sampling    INFO    Sampling from parameter point 1500 / 2000\n",
      "17:52 madminer.sampling    INFO    Sampling from parameter point 1600 / 2000\n",
      "17:53 madminer.sampling    INFO    Sampling from parameter point 1700 / 2000\n",
      "17:54 madminer.sampling    INFO    Sampling from parameter point 1800 / 2000\n",
      "17:54 madminer.sampling    INFO    Sampling from parameter point 1900 / 2000\n",
      "17:55 madminer.sampling    INFO    Sampling from parameter point 2000 / 2000\n",
      "17:55 madminer.sampling    INFO    Effective number of samples: mean 43626.54512525575, with individual thetas ranging from 146.62277256050302 to 173586.56910026906\n",
      "17:55 madminer.sampling    INFO    Starting sampling serially\n",
      "17:56 madminer.sampling    INFO    Sampling from parameter point 100 / 2000\n",
      "17:57 madminer.sampling    INFO    Sampling from parameter point 200 / 2000\n",
      "17:58 madminer.sampling    INFO    Sampling from parameter point 300 / 2000\n",
      "17:58 madminer.sampling    INFO    Sampling from parameter point 400 / 2000\n",
      "18:00 madminer.sampling    INFO    Sampling from parameter point 500 / 2000\n",
      "18:01 madminer.sampling    INFO    Sampling from parameter point 600 / 2000\n",
      "18:02 madminer.sampling    INFO    Sampling from parameter point 700 / 2000\n",
      "18:02 madminer.sampling    INFO    Sampling from parameter point 800 / 2000\n",
      "18:03 madminer.sampling    INFO    Sampling from parameter point 900 / 2000\n",
      "18:04 madminer.sampling    INFO    Sampling from parameter point 1000 / 2000\n",
      "18:05 madminer.sampling    INFO    Sampling from parameter point 1100 / 2000\n",
      "18:06 madminer.sampling    INFO    Sampling from parameter point 1200 / 2000\n",
      "18:07 madminer.sampling    INFO    Sampling from parameter point 1300 / 2000\n",
      "18:08 madminer.sampling    INFO    Sampling from parameter point 1400 / 2000\n",
      "18:09 madminer.sampling    INFO    Sampling from parameter point 1500 / 2000\n",
      "18:10 madminer.sampling    INFO    Sampling from parameter point 1600 / 2000\n",
      "18:11 madminer.sampling    INFO    Sampling from parameter point 1700 / 2000\n",
      "18:12 madminer.sampling    INFO    Sampling from parameter point 1800 / 2000\n",
      "18:13 madminer.sampling    INFO    Sampling from parameter point 1900 / 2000\n",
      "18:14 madminer.sampling    INFO    Sampling from parameter point 2000 / 2000\n",
      "18:14 madminer.sampling    INFO    Effective number of samples: mean 173648.91246756955, with individual thetas ranging from 173648.9124675695 to 173648.9124675695\n"
     ]
    }
   ],
   "source": [
    "_ = sampler.sample_train_ratio(\n",
    "    theta0=sampling.morphing_points(proposal_theta.reshape((-1,1))),\n",
    "    theta1=sampling.benchmark('sm'),\n",
    "    n_samples=100000,\n",
    "    folder='./data/samples',\n",
    "    filename='val_ratio',\n",
    "    sample_only_from_closest_benchmark=True,\n",
    "    partition=\"validation\",\n",
    ")"
   ]
  },
  {
   "cell_type": "code",
   "execution_count": 10,
   "metadata": {},
   "outputs": [
    {
     "name": "stderr",
     "output_type": "stream",
     "text": [
      "18:14 madminer.sampling    INFO    Extracting training sample for ratio-based methods. Numerator hypothesis: 2000 morphing points, starting with [array([0.49026155]), array([1.30942893]), array([0.68552843])], denominator hypothesis: 2000 morphing points, starting with [array([0.89202925]), array([1.44113285]), array([1.02678157])]\n",
      "18:14 madminer.sampling    INFO    Starting sampling serially\n",
      "18:14 madminer.sampling    INFO    Sampling from parameter point 100 / 2000\n",
      "18:15 madminer.sampling    INFO    Sampling from parameter point 200 / 2000\n",
      "18:16 madminer.sampling    INFO    Sampling from parameter point 300 / 2000\n",
      "18:17 madminer.sampling    INFO    Sampling from parameter point 400 / 2000\n",
      "18:17 madminer.sampling    INFO    Sampling from parameter point 500 / 2000\n",
      "18:18 madminer.sampling    WARNING Large statistical uncertainty on the total cross section when sampling from theta = [-1.1767375]: (0.000129 +/- 0.000015) pb (11.220554739081903 %). Skipping these warnings in the future...\n",
      "18:18 madminer.sampling    INFO    Sampling from parameter point 600 / 2000\n",
      "18:19 madminer.sampling    INFO    Sampling from parameter point 700 / 2000\n",
      "18:20 madminer.sampling    INFO    Sampling from parameter point 800 / 2000\n",
      "18:21 madminer.sampling    INFO    Sampling from parameter point 900 / 2000\n",
      "18:22 madminer.sampling    INFO    Sampling from parameter point 1000 / 2000\n",
      "18:23 madminer.sampling    INFO    Sampling from parameter point 1100 / 2000\n",
      "18:24 madminer.sampling    INFO    Sampling from parameter point 1200 / 2000\n",
      "18:24 madminer.sampling    INFO    Sampling from parameter point 1300 / 2000\n",
      "18:25 madminer.sampling    INFO    Sampling from parameter point 1400 / 2000\n",
      "18:26 madminer.sampling    INFO    Sampling from parameter point 1500 / 2000\n",
      "18:27 madminer.sampling    INFO    Sampling from parameter point 1600 / 2000\n",
      "18:27 madminer.sampling    INFO    Sampling from parameter point 1700 / 2000\n",
      "18:28 madminer.sampling    INFO    Sampling from parameter point 1800 / 2000\n",
      "18:29 madminer.sampling    INFO    Sampling from parameter point 1900 / 2000\n",
      "18:30 madminer.sampling    INFO    Sampling from parameter point 2000 / 2000\n",
      "18:30 madminer.sampling    INFO    Effective number of samples: mean 43620.31283602152, with individual thetas ranging from 146.62277256050302 to 173586.56910026906\n",
      "18:30 madminer.sampling    INFO    Starting sampling serially\n",
      "18:30 madminer.sampling    INFO    Sampling from parameter point 100 / 2000\n",
      "18:31 madminer.sampling    INFO    Sampling from parameter point 200 / 2000\n",
      "18:32 madminer.sampling    INFO    Sampling from parameter point 300 / 2000\n",
      "18:33 madminer.sampling    INFO    Sampling from parameter point 400 / 2000\n",
      "18:33 madminer.sampling    INFO    Sampling from parameter point 500 / 2000\n",
      "18:34 madminer.sampling    INFO    Sampling from parameter point 600 / 2000\n",
      "18:35 madminer.sampling    INFO    Sampling from parameter point 700 / 2000\n",
      "18:36 madminer.sampling    INFO    Sampling from parameter point 800 / 2000\n",
      "18:37 madminer.sampling    INFO    Sampling from parameter point 900 / 2000\n",
      "18:38 madminer.sampling    INFO    Sampling from parameter point 1000 / 2000\n",
      "18:39 madminer.sampling    INFO    Sampling from parameter point 1100 / 2000\n",
      "18:39 madminer.sampling    INFO    Sampling from parameter point 1200 / 2000\n",
      "18:40 madminer.sampling    INFO    Sampling from parameter point 1300 / 2000\n",
      "18:41 madminer.sampling    INFO    Sampling from parameter point 1400 / 2000\n",
      "18:42 madminer.sampling    INFO    Sampling from parameter point 1500 / 2000\n",
      "18:43 madminer.sampling    INFO    Sampling from parameter point 1600 / 2000\n",
      "18:44 madminer.sampling    INFO    Sampling from parameter point 1700 / 2000\n",
      "18:44 madminer.sampling    INFO    Sampling from parameter point 1800 / 2000\n",
      "18:45 madminer.sampling    INFO    Sampling from parameter point 1900 / 2000\n",
      "18:46 madminer.sampling    INFO    Sampling from parameter point 2000 / 2000\n",
      "18:46 madminer.sampling    INFO    Effective number of samples: mean 42798.99581852347, with individual thetas ranging from 584.6779289250209 to 173566.78096274415\n"
     ]
    }
   ],
   "source": [
    "# _ = sampler.sample_train_more_ratios(\n",
    "#     theta0=sampling.morphing_points(proposal_theta.reshape((-1,1))),\n",
    "#     theta1=sampling.morphing_points(proposal_theta_denom.reshape((-1,1))),\n",
    "#     n_samples=100000,\n",
    "#     folder='./data/samples',\n",
    "#     filename='val_double_ratio',\n",
    "#     sample_only_from_closest_benchmark=True,\n",
    "#     partition=\"validation\",\n",
    "# )"
   ]
  },
  {
   "cell_type": "code",
   "execution_count": 11,
   "metadata": {
    "scrolled": true
   },
   "outputs": [
    {
     "name": "stderr",
     "output_type": "stream",
     "text": [
      "18:46 madminer.sampling    INFO    Extracting evaluation sample. Sampling according to [0.]\n",
      "18:46 madminer.sampling    INFO    Starting sampling serially\n",
      "18:46 madminer.sampling    INFO    Sampling from parameter point 1 / 1\n",
      "18:46 madminer.sampling    INFO    Effective number of samples: mean 163940.97470792386, with individual thetas ranging from 163940.97470792392 to 163940.97470792392\n",
      "18:46 madminer.sampling    INFO    Extracting evaluation sample. Sampling according to [0.84089642]\n",
      "18:46 madminer.sampling    INFO    Starting sampling serially\n",
      "18:46 madminer.sampling    INFO    Sampling from parameter point 1 / 1\n",
      "18:46 madminer.sampling    INFO    Effective number of samples: mean 71690.06231612644, with individual thetas ranging from 71690.06231612647 to 71690.06231612647\n",
      "18:46 madminer.sampling    INFO    Extracting evaluation sample. Sampling according to [1.]\n",
      "18:46 madminer.sampling    INFO    Starting sampling serially\n",
      "18:46 madminer.sampling    INFO    Sampling from parameter point 1 / 1\n",
      "18:46 madminer.sampling    INFO    Effective number of samples: mean 174266.3434082633, with individual thetas ranging from 174266.34340826326 to 174266.34340826326\n",
      "18:46 madminer.sampling    INFO    Extracting evaluation sample. Sampling according to [1.18920712]\n",
      "18:46 madminer.sampling    INFO    Starting sampling serially\n",
      "18:46 madminer.sampling    INFO    Sampling from parameter point 1 / 1\n",
      "18:46 madminer.sampling    INFO    Effective number of samples: mean 19727.20734110836, with individual thetas ranging from 19727.20734110836 to 19727.20734110836\n",
      "18:46 madminer.sampling    INFO    Extracting evaluation sample. Sampling according to [1.49534878]\n",
      "18:46 madminer.sampling    INFO    Starting sampling serially\n",
      "18:46 madminer.sampling    INFO    Sampling from parameter point 1 / 1\n",
      "18:46 madminer.sampling    INFO    Effective number of samples: mean 152134.27282811393, with individual thetas ranging from 152134.2728281139 to 152134.2728281139\n",
      "18:46 madminer.sampling    INFO    Extracting evaluation sample. Sampling according to [1.77827941]\n",
      "18:46 madminer.sampling    INFO    Starting sampling serially\n",
      "18:46 madminer.sampling    INFO    Sampling from parameter point 1 / 1\n",
      "18:46 madminer.sampling    INFO    Effective number of samples: mean 6376.934097777718, with individual thetas ranging from 6376.934097777719 to 6376.934097777719\n"
     ]
    }
   ],
   "source": [
    "_ = sampler.sample_test(\n",
    "    theta=sampling.morphing_point([0.]),\n",
    "    n_samples=100000,\n",
    "    folder='./data/samples',\n",
    "    filename='test0',\n",
    ")\n",
    "\n",
    "_ = sampler.sample_test(\n",
    "    theta=sampling.morphing_point([0.5**0.25]),\n",
    "    n_samples=100000,\n",
    "    folder='./data/samples',\n",
    "    filename='test05',\n",
    ")\n",
    "\n",
    "_ = sampler.sample_test(\n",
    "    theta=sampling.morphing_point([1.0]),\n",
    "    n_samples=100000,\n",
    "    folder='./data/samples',\n",
    "    filename='test1',\n",
    ")\n",
    "\n",
    "_ = sampler.sample_test(\n",
    "    theta=sampling.morphing_point([2.0**0.25]),\n",
    "    n_samples=100000,\n",
    "    folder='./data/samples',\n",
    "    filename='test2',\n",
    ")\n",
    "\n",
    "_ = sampler.sample_test(\n",
    "    theta=sampling.morphing_point([5.0**0.25]),\n",
    "    n_samples=100000,\n",
    "    folder='./data/samples',\n",
    "    filename='test5',\n",
    ")\n",
    "\n",
    "_ = sampler.sample_test(\n",
    "    theta=sampling.morphing_point([10.**0.25]),\n",
    "    n_samples=100000,\n",
    "    folder='./data/samples',\n",
    "    filename='test10',\n",
    ")"
   ]
  },
  {
   "cell_type": "markdown",
   "metadata": {},
   "source": [
    "## Train ALICES models"
   ]
  },
  {
   "cell_type": "code",
   "execution_count": 12,
   "metadata": {},
   "outputs": [
    {
     "name": "stderr",
     "output_type": "stream",
     "text": [
      "18:46 madminer.ml          INFO    Starting training\n",
      "18:46 madminer.ml          INFO      Method:                 alices\n",
      "18:46 madminer.ml          INFO      alpha:                  0.1\n",
      "18:46 madminer.ml          INFO      Batch size:             100\n",
      "18:46 madminer.ml          INFO      Optimizer:              amsgrad\n",
      "18:46 madminer.ml          INFO      Epochs:                 20\n",
      "18:46 madminer.ml          INFO      Learning rate:          0.001 initially, decaying to 1e-05\n",
      "18:46 madminer.ml          INFO      Validation split:       0.25\n",
      "18:46 madminer.ml          INFO      Early stopping:         True\n",
      "18:46 madminer.ml          INFO      Scale inputs:           True\n",
      "18:46 madminer.ml          INFO      Scale parameters:       True\n",
      "18:46 madminer.ml          INFO      Shuffle labels          False\n",
      "18:46 madminer.ml          INFO      Samples:                all\n",
      "18:46 madminer.ml          INFO    Loading training data\n",
      "18:46 madminer.utils.vario INFO      Loading data/samples/theta0_train_ratio.npy into RAM\n",
      "18:46 madminer.utils.vario INFO      Loading data/samples/x_train_ratio.npy into RAM\n",
      "18:46 madminer.utils.vario INFO      Loading data/samples/y_train_ratio.npy into RAM\n",
      "18:46 madminer.utils.vario INFO      Loading data/samples/r_xz_train_ratio.npy into RAM\n",
      "18:46 madminer.utils.vario INFO      Loading data/samples/t_xz_train_ratio.npy into RAM\n",
      "18:46 madminer.ml          INFO    Found 10000000 samples with 1 parameters and 35 observables\n",
      "18:46 madminer.utils.vario INFO      Loading data/samples/theta0_val_ratio.npy into RAM\n",
      "18:46 madminer.utils.vario INFO      Loading data/samples/x_val_ratio.npy into RAM\n",
      "18:46 madminer.utils.vario INFO      Loading data/samples/y_val_ratio.npy into RAM\n",
      "18:46 madminer.utils.vario INFO      Loading data/samples/r_xz_val_ratio.npy into RAM\n",
      "18:46 madminer.utils.vario INFO      Loading data/samples/t_xz_val_ratio.npy into RAM\n",
      "18:46 madminer.ml          INFO    Found 100000 separate validation samples\n",
      "18:46 madminer.ml          INFO    Setting up input rescaling\n",
      "18:46 madminer.ml          INFO    Rescaling parameters\n",
      "18:46 madminer.ml          INFO    Setting up parameter rescaling\n",
      "18:46 madminer.ml          INFO    Creating model\n",
      "18:46 madminer.ml          INFO    Training model\n",
      "18:46 madminer.utils.ml.tr INFO    Training on CPU with single precision\n",
      "18:54 madminer.utils.ml.tr INFO    Epoch   1: train loss  0.68953 (improved_xe:  0.681, mse_score:  0.090)\n",
      "18:54 madminer.utils.ml.tr INFO               val. loss   0.70520 (improved_xe:  0.686, mse_score:  0.189)\n",
      "18:59 madminer.utils.ml.tr INFO    Epoch   2: train loss  0.68606 (improved_xe:  0.678, mse_score:  0.077)\n",
      "18:59 madminer.utils.ml.tr INFO               val. loss   0.70792 (improved_xe:  0.687, mse_score:  0.213)\n",
      "19:05 madminer.utils.ml.tr INFO    Epoch   3: train loss  0.68512 (improved_xe:  0.678, mse_score:  0.074)\n",
      "19:05 madminer.utils.ml.tr INFO               val. loss   0.70928 (improved_xe:  0.687, mse_score:  0.225)\n",
      "19:11 madminer.utils.ml.tr INFO    Epoch   4: train loss  0.68454 (improved_xe:  0.677, mse_score:  0.071)\n",
      "19:11 madminer.utils.ml.tr INFO               val. loss   0.70465 (improved_xe:  0.685, mse_score:  0.193)\n",
      "19:17 madminer.utils.ml.tr INFO    Epoch   5: train loss  0.68412 (improved_xe:  0.677, mse_score:  0.070)\n",
      "19:17 madminer.utils.ml.tr INFO               val. loss   0.70707 (improved_xe:  0.686, mse_score:  0.212)\n",
      "19:23 madminer.utils.ml.tr INFO    Epoch   6: train loss  0.68382 (improved_xe:  0.677, mse_score:  0.068)\n",
      "19:23 madminer.utils.ml.tr INFO               val. loss   0.70650 (improved_xe:  0.685, mse_score:  0.213)\n",
      "19:29 madminer.utils.ml.tr INFO    Epoch   7: train loss  0.68359 (improved_xe:  0.677, mse_score:  0.068)\n",
      "19:29 madminer.utils.ml.tr INFO               val. loss   0.70733 (improved_xe:  0.686, mse_score:  0.215)\n",
      "19:35 madminer.utils.ml.tr INFO    Epoch   8: train loss  0.68342 (improved_xe:  0.677, mse_score:  0.067)\n",
      "19:35 madminer.utils.ml.tr INFO               val. loss   0.70659 (improved_xe:  0.686, mse_score:  0.210)\n",
      "19:41 madminer.utils.ml.tr INFO    Epoch   9: train loss  0.68329 (improved_xe:  0.677, mse_score:  0.066)\n",
      "19:41 madminer.utils.ml.tr INFO               val. loss   0.70714 (improved_xe:  0.686, mse_score:  0.214)\n",
      "19:47 madminer.utils.ml.tr INFO    Epoch  10: train loss  0.68319 (improved_xe:  0.677, mse_score:  0.066)\n",
      "19:47 madminer.utils.ml.tr INFO               val. loss   0.70814 (improved_xe:  0.686, mse_score:  0.221)\n",
      "19:53 madminer.utils.ml.tr INFO    Epoch  11: train loss  0.68311 (improved_xe:  0.677, mse_score:  0.066)\n",
      "19:53 madminer.utils.ml.tr INFO               val. loss   0.70822 (improved_xe:  0.686, mse_score:  0.221)\n",
      "19:59 madminer.utils.ml.tr INFO    Epoch  12: train loss  0.68305 (improved_xe:  0.677, mse_score:  0.065)\n",
      "19:59 madminer.utils.ml.tr INFO               val. loss   0.70745 (improved_xe:  0.686, mse_score:  0.219)\n",
      "20:05 madminer.utils.ml.tr INFO    Epoch  13: train loss  0.68300 (improved_xe:  0.676, mse_score:  0.065)\n",
      "20:05 madminer.utils.ml.tr INFO               val. loss   0.70798 (improved_xe:  0.686, mse_score:  0.221)\n",
      "20:11 madminer.utils.ml.tr INFO    Epoch  14: train loss  0.68296 (improved_xe:  0.676, mse_score:  0.065)\n",
      "20:11 madminer.utils.ml.tr INFO               val. loss   0.70719 (improved_xe:  0.686, mse_score:  0.216)\n",
      "20:18 madminer.utils.ml.tr INFO    Epoch  15: train loss  0.68293 (improved_xe:  0.676, mse_score:  0.065)\n",
      "20:18 madminer.utils.ml.tr INFO               val. loss   0.70802 (improved_xe:  0.686, mse_score:  0.221)\n",
      "20:24 madminer.utils.ml.tr INFO    Epoch  16: train loss  0.68290 (improved_xe:  0.676, mse_score:  0.065)\n",
      "20:24 madminer.utils.ml.tr INFO               val. loss   0.70730 (improved_xe:  0.686, mse_score:  0.218)\n",
      "20:30 madminer.utils.ml.tr INFO    Epoch  17: train loss  0.68288 (improved_xe:  0.676, mse_score:  0.065)\n",
      "20:30 madminer.utils.ml.tr INFO               val. loss   0.70745 (improved_xe:  0.686, mse_score:  0.217)\n",
      "20:36 madminer.utils.ml.tr INFO    Epoch  18: train loss  0.68287 (improved_xe:  0.676, mse_score:  0.064)\n",
      "20:36 madminer.utils.ml.tr INFO               val. loss   0.70780 (improved_xe:  0.686, mse_score:  0.220)\n",
      "20:42 madminer.utils.ml.tr INFO    Epoch  19: train loss  0.68286 (improved_xe:  0.676, mse_score:  0.064)\n",
      "20:42 madminer.utils.ml.tr INFO               val. loss   0.70791 (improved_xe:  0.686, mse_score:  0.223)\n",
      "20:47 madminer.utils.ml.tr INFO    Epoch  20: train loss  0.68285 (improved_xe:  0.676, mse_score:  0.064)\n",
      "20:47 madminer.utils.ml.tr INFO               val. loss   0.70761 (improved_xe:  0.686, mse_score:  0.220)\n",
      "20:47 madminer.utils.ml.tr INFO    Early stopping after epoch 4, with loss  0.70465 compared to final loss  0.70761\n",
      "20:47 madminer.utils.ml.tr INFO    Training time spend on:\n",
      "20:47 madminer.utils.ml.tr INFO                      initialize model:   0.00h\n",
      "20:47 madminer.utils.ml.tr INFO                                   ALL:   2.02h\n",
      "20:47 madminer.utils.ml.tr INFO                            check data:   0.00h\n",
      "20:47 madminer.utils.ml.tr INFO                          make dataset:   0.00h\n",
      "20:47 madminer.utils.ml.tr INFO                       make dataloader:   0.00h\n",
      "20:47 madminer.utils.ml.tr INFO                       setup optimizer:   0.00h\n",
      "20:47 madminer.utils.ml.tr INFO                   initialize training:   0.00h\n",
      "20:47 madminer.utils.ml.tr INFO                                set lr:   0.00h\n",
      "20:47 madminer.utils.ml.tr INFO                   load training batch:   0.37h\n",
      "20:47 madminer.utils.ml.tr INFO                        fwd: move data:   0.04h\n",
      "20:47 madminer.utils.ml.tr INFO                   fwd: check for nans:   0.11h\n",
      "20:47 madminer.utils.ml.tr INFO                    fwd: model.forward:   0.52h\n",
      "20:47 madminer.utils.ml.tr INFO                 fwd: calculate losses:   0.11h\n",
      "20:47 madminer.utils.ml.tr INFO                 training forward pass:   0.76h\n",
      "20:47 madminer.utils.ml.tr INFO                   training sum losses:   0.04h\n",
      "20:47 madminer.utils.ml.tr INFO                        opt: zero grad:   0.01h\n",
      "20:47 madminer.utils.ml.tr INFO                         opt: backward:   0.67h\n",
      "20:47 madminer.utils.ml.tr INFO                   opt: clip grad norm:   0.01h\n"
     ]
    },
    {
     "name": "stderr",
     "output_type": "stream",
     "text": [
      "20:47 madminer.utils.ml.tr INFO                             opt: step:   0.14h\n",
      "20:47 madminer.utils.ml.tr INFO                        optimizer step:   0.83h\n",
      "20:47 madminer.utils.ml.tr INFO                 load validation batch:   0.01h\n",
      "20:47 madminer.utils.ml.tr INFO               validation forward pass:   0.01h\n",
      "20:47 madminer.utils.ml.tr INFO                 validation sum losses:   0.00h\n",
      "20:47 madminer.utils.ml.tr INFO                        early stopping:   0.00h\n",
      "20:47 madminer.utils.ml.tr INFO                          report epoch:   0.00h\n",
      "20:47 madminer.ml          INFO    Saving model to models/alices\n"
     ]
    }
   ],
   "source": [
    "alices = ParameterizedRatioEstimator(\n",
    "    n_hidden=(100,100,),\n",
    "    activation=\"tanh\",\n",
    ")\n",
    "\n",
    "alices.train(\n",
    "    method='alices',\n",
    "    theta='data/samples/theta0_train_ratio.npy',\n",
    "    x='data/samples/x_train_ratio.npy',\n",
    "    y='data/samples/y_train_ratio.npy',\n",
    "    r_xz='data/samples/r_xz_train_ratio.npy',\n",
    "    t_xz='data/samples/t_xz_train_ratio.npy',\n",
    "    theta_val='data/samples/theta0_val_ratio.npy',\n",
    "    x_val='data/samples/x_val_ratio.npy',\n",
    "    y_val='data/samples/y_val_ratio.npy',\n",
    "    r_xz_val='data/samples/r_xz_val_ratio.npy',\n",
    "    t_xz_val='data/samples/t_xz_val_ratio.npy',\n",
    "    alpha=0.1,\n",
    "    n_epochs=20,\n",
    "    batch_size=100,\n",
    "    initial_lr=1.e-3,\n",
    "    final_lr=1.e-5\n",
    ")\n",
    "\n",
    "alices.save('models/alices')"
   ]
  },
  {
   "cell_type": "code",
   "execution_count": 13,
   "metadata": {
    "scrolled": false
   },
   "outputs": [
    {
     "name": "stderr",
     "output_type": "stream",
     "text": [
      "20:47 madminer.ml          INFO    Starting training\n",
      "20:47 madminer.ml          INFO      Method:                 alices\n",
      "20:47 madminer.ml          INFO      alpha:                  0.1\n",
      "20:47 madminer.ml          INFO      Batch size:             100\n",
      "20:47 madminer.ml          INFO      Optimizer:              amsgrad\n",
      "20:47 madminer.ml          INFO      Epochs:                 20\n",
      "20:47 madminer.ml          INFO      Learning rate:          0.001 initially, decaying to 1e-05\n",
      "20:47 madminer.ml          INFO      Validation split:       0.25\n",
      "20:47 madminer.ml          INFO      Early stopping:         True\n",
      "20:47 madminer.ml          INFO      Scale inputs:           True\n",
      "20:47 madminer.ml          INFO      Shuffle labels          False\n",
      "20:47 madminer.ml          INFO      Samples:                all\n",
      "20:47 madminer.ml          INFO    Loading training data\n",
      "20:47 madminer.utils.vario INFO      Loading data/samples/theta0_train_double_ratio.npy into RAM\n",
      "20:47 madminer.utils.vario INFO      Loading data/samples/theta1_train_double_ratio.npy into RAM\n",
      "20:47 madminer.utils.vario INFO      Loading data/samples/x_train_double_ratio.npy into RAM\n",
      "20:48 madminer.utils.vario INFO      Loading data/samples/y_train_double_ratio.npy into RAM\n",
      "20:48 madminer.utils.vario INFO      Loading data/samples/r_xz_train_double_ratio.npy into RAM\n",
      "20:48 madminer.utils.vario INFO      Loading data/samples/t_xz0_train_double_ratio.npy into RAM\n",
      "20:48 madminer.utils.vario INFO      Loading data/samples/t_xz1_train_double_ratio.npy into RAM\n",
      "20:48 madminer.ml          INFO    Found 10000000 samples with 1 parameters and 35 observables\n",
      "20:48 madminer.utils.vario INFO      Loading data/samples/theta0_val_double_ratio.npy into RAM\n",
      "20:48 madminer.utils.vario INFO      Loading data/samples/theta1_val_double_ratio.npy into RAM\n",
      "20:48 madminer.utils.vario INFO      Loading data/samples/x_val_double_ratio.npy into RAM\n",
      "20:48 madminer.utils.vario INFO      Loading data/samples/y_val_double_ratio.npy into RAM\n",
      "20:48 madminer.utils.vario INFO      Loading data/samples/r_xz_val_double_ratio.npy into RAM\n",
      "20:48 madminer.utils.vario WARNING Warning: file data/samples/r_xz_val_double_ratio.npy has some large numbers, rangin from -109241820000.0 to 184982.05\n",
      "20:48 madminer.utils.vario INFO      Loading data/samples/t_xz0_val_double_ratio.npy into RAM\n",
      "20:48 madminer.utils.vario INFO      Loading data/samples/t_xz1_val_double_ratio.npy into RAM\n",
      "20:48 madminer.ml          INFO    Found 100000 separate validation samples\n",
      "20:48 madminer.ml          INFO    Setting up input rescaling\n",
      "20:48 madminer.ml          INFO    Rescaling parameters\n",
      "20:48 madminer.ml          INFO    Setting up parameter rescaling\n",
      "20:48 madminer.ml          INFO    Creating model\n",
      "20:48 madminer.ml          INFO    Training model\n",
      "20:48 madminer.utils.ml.tr INFO    Training on CPU with single precision\n",
      "21:01 madminer.utils.ml.tr INFO    Epoch   1: train loss  0.71484 (improved_xe:  0.682, mse_score:  0.325)\n",
      "21:01 madminer.utils.ml.tr INFO               val. loss   0.72479 (improved_xe:  0.688, mse_score:  0.364)\n",
      "21:14 madminer.utils.ml.tr INFO    Epoch   2: train loss  0.71355 (improved_xe:  0.681, mse_score:  0.328)\n",
      "21:14 madminer.utils.ml.tr INFO               val. loss   0.72420 (improved_xe:  0.688, mse_score:  0.359)\n",
      "21:28 madminer.utils.ml.tr INFO    Epoch   3: train loss  0.71307 (improved_xe:  0.680, mse_score:  0.330)\n",
      "21:28 madminer.utils.ml.tr INFO               val. loss   0.72438 (improved_xe:  0.688, mse_score:  0.360)\n",
      "21:41 madminer.utils.ml.tr INFO    Epoch   4: train loss  0.71277 (improved_xe:  0.680, mse_score:  0.330)\n",
      "21:41 madminer.utils.ml.tr INFO               val. loss   0.72391 (improved_xe:  0.688, mse_score:  0.357)\n",
      "21:55 madminer.utils.ml.tr INFO    Epoch   5: train loss  0.71254 (improved_xe:  0.680, mse_score:  0.330)\n",
      "21:55 madminer.utils.ml.tr INFO               val. loss   0.72566 (improved_xe:  0.688, mse_score:  0.375)\n",
      "22:08 madminer.utils.ml.tr INFO    Epoch   6: train loss  0.71235 (improved_xe:  0.679, mse_score:  0.331)\n",
      "22:08 madminer.utils.ml.tr INFO               val. loss   0.72480 (improved_xe:  0.688, mse_score:  0.366)\n",
      "22:22 madminer.utils.ml.tr INFO    Epoch   7: train loss  0.71220 (improved_xe:  0.679, mse_score:  0.331)\n",
      "22:22 madminer.utils.ml.tr INFO               val. loss   0.72530 (improved_xe:  0.688, mse_score:  0.371)\n",
      "22:35 madminer.utils.ml.tr INFO    Epoch   8: train loss  0.71209 (improved_xe:  0.679, mse_score:  0.330)\n",
      "22:35 madminer.utils.ml.tr INFO               val. loss   0.72533 (improved_xe:  0.688, mse_score:  0.373)\n",
      "22:48 madminer.utils.ml.tr INFO    Epoch   9: train loss  0.71199 (improved_xe:  0.679, mse_score:  0.331)\n",
      "22:48 madminer.utils.ml.tr INFO               val. loss   0.72522 (improved_xe:  0.688, mse_score:  0.370)\n",
      "23:02 madminer.utils.ml.tr INFO    Epoch  10: train loss  0.71192 (improved_xe:  0.679, mse_score:  0.331)\n",
      "23:02 madminer.utils.ml.tr INFO               val. loss   0.72502 (improved_xe:  0.688, mse_score:  0.368)\n",
      "23:15 madminer.utils.ml.tr INFO    Epoch  11: train loss  0.71186 (improved_xe:  0.679, mse_score:  0.331)\n",
      "23:15 madminer.utils.ml.tr INFO               val. loss   0.72487 (improved_xe:  0.688, mse_score:  0.368)\n",
      "23:28 madminer.utils.ml.tr INFO    Epoch  12: train loss  0.71181 (improved_xe:  0.679, mse_score:  0.330)\n",
      "23:28 madminer.utils.ml.tr INFO               val. loss   0.72541 (improved_xe:  0.688, mse_score:  0.372)\n",
      "23:42 madminer.utils.ml.tr INFO    Epoch  13: train loss  0.71177 (improved_xe:  0.679, mse_score:  0.330)\n",
      "23:42 madminer.utils.ml.tr INFO               val. loss   0.72541 (improved_xe:  0.688, mse_score:  0.372)\n",
      "23:55 madminer.utils.ml.tr INFO    Epoch  14: train loss  0.71174 (improved_xe:  0.679, mse_score:  0.330)\n",
      "23:55 madminer.utils.ml.tr INFO               val. loss   0.72527 (improved_xe:  0.688, mse_score:  0.370)\n",
      "00:08 madminer.utils.ml.tr INFO    Epoch  15: train loss  0.71171 (improved_xe:  0.679, mse_score:  0.330)\n",
      "00:08 madminer.utils.ml.tr INFO               val. loss   0.72568 (improved_xe:  0.688, mse_score:  0.374)\n",
      "00:22 madminer.utils.ml.tr INFO    Epoch  16: train loss  0.71169 (improved_xe:  0.679, mse_score:  0.330)\n",
      "00:22 madminer.utils.ml.tr INFO               val. loss   0.72540 (improved_xe:  0.688, mse_score:  0.372)\n",
      "00:35 madminer.utils.ml.tr INFO    Epoch  17: train loss  0.71167 (improved_xe:  0.679, mse_score:  0.330)\n",
      "00:35 madminer.utils.ml.tr INFO               val. loss   0.72532 (improved_xe:  0.688, mse_score:  0.372)\n",
      "00:48 madminer.utils.ml.tr INFO    Epoch  18: train loss  0.71166 (improved_xe:  0.679, mse_score:  0.330)\n",
      "00:48 madminer.utils.ml.tr INFO               val. loss   0.72547 (improved_xe:  0.688, mse_score:  0.373)\n",
      "01:02 madminer.utils.ml.tr INFO    Epoch  19: train loss  0.71165 (improved_xe:  0.679, mse_score:  0.330)\n",
      "01:02 madminer.utils.ml.tr INFO               val. loss   0.72534 (improved_xe:  0.688, mse_score:  0.372)\n",
      "01:15 madminer.utils.ml.tr INFO    Epoch  20: train loss  0.71164 (improved_xe:  0.679, mse_score:  0.330)\n",
      "01:15 madminer.utils.ml.tr INFO               val. loss   0.72551 (improved_xe:  0.688, mse_score:  0.373)\n",
      "01:15 madminer.utils.ml.tr INFO    Early stopping after epoch 4, with loss  0.72391 compared to final loss  0.72551\n",
      "01:15 madminer.utils.ml.tr INFO    Training time spend on:\n",
      "01:15 madminer.utils.ml.tr INFO                      initialize model:   0.00h\n",
      "01:15 madminer.utils.ml.tr INFO                                   ALL:   4.46h\n",
      "01:15 madminer.utils.ml.tr INFO                            check data:   0.00h\n",
      "01:15 madminer.utils.ml.tr INFO                          make dataset:   0.00h\n",
      "01:15 madminer.utils.ml.tr INFO                       make dataloader:   0.00h\n",
      "01:15 madminer.utils.ml.tr INFO                       setup optimizer:   0.00h\n",
      "01:15 madminer.utils.ml.tr INFO                   initialize training:   0.00h\n",
      "01:15 madminer.utils.ml.tr INFO                                set lr:   0.00h\n",
      "01:15 madminer.utils.ml.tr INFO                   load training batch:   0.47h\n",
      "01:15 madminer.utils.ml.tr INFO                        fwd: move data:   0.06h\n",
      "01:15 madminer.utils.ml.tr INFO                   fwd: check for nans:   0.12h\n",
      "01:15 madminer.utils.ml.tr INFO                    fwd: model.forward:   1.60h\n"
     ]
    },
    {
     "name": "stderr",
     "output_type": "stream",
     "text": [
      "01:15 madminer.utils.ml.tr INFO                 fwd: calculate losses:   0.14h\n",
      "01:15 madminer.utils.ml.tr INFO                 training forward pass:   1.90h\n",
      "01:15 madminer.utils.ml.tr INFO                   training sum losses:   0.05h\n",
      "01:15 madminer.utils.ml.tr INFO                        opt: zero grad:   0.01h\n",
      "01:15 madminer.utils.ml.tr INFO                         opt: backward:   1.85h\n",
      "01:15 madminer.utils.ml.tr INFO                   opt: clip grad norm:   0.01h\n",
      "01:15 madminer.utils.ml.tr INFO                             opt: step:   0.13h\n",
      "01:15 madminer.utils.ml.tr INFO                        optimizer step:   2.00h\n",
      "01:15 madminer.utils.ml.tr INFO                 load validation batch:   0.01h\n",
      "01:15 madminer.utils.ml.tr INFO               validation forward pass:   0.02h\n",
      "01:15 madminer.utils.ml.tr INFO                 validation sum losses:   0.00h\n",
      "01:15 madminer.utils.ml.tr INFO                        early stopping:   0.00h\n",
      "01:15 madminer.utils.ml.tr INFO                          report epoch:   0.00h\n",
      "01:15 madminer.ml          INFO    Saving model to models/alices2\n"
     ]
    }
   ],
   "source": [
    "# alices2 = DoubleParameterizedRatioEstimator(\n",
    "#     n_hidden=(100,100,),\n",
    "#     activation=\"tanh\",\n",
    "# )\n",
    "\n",
    "# alices2.train(\n",
    "#     method='alices',\n",
    "#     theta0='data/samples/theta0_train_double_ratio.npy',\n",
    "#     theta1='data/samples/theta1_train_double_ratio.npy',\n",
    "#     x='data/samples/x_train_double_ratio.npy',\n",
    "#     y='data/samples/y_train_double_ratio.npy',\n",
    "#     r_xz='data/samples/r_xz_train_double_ratio.npy',\n",
    "#     t_xz0='data/samples/t_xz0_train_double_ratio.npy',\n",
    "#     t_xz1='data/samples/t_xz1_train_double_ratio.npy',\n",
    "#     theta0_val='data/samples/theta0_val_double_ratio.npy',\n",
    "#     theta1_val='data/samples/theta1_val_double_ratio.npy',\n",
    "#     x_val='data/samples/x_val_double_ratio.npy',\n",
    "#     y_val='data/samples/y_val_double_ratio.npy',\n",
    "#     r_xz_val='data/samples/r_xz_val_double_ratio.npy',\n",
    "#     t_xz0_val='data/samples/t_xz0_val_double_ratio.npy',\n",
    "#     t_xz1_val='data/samples/t_xz1_val_double_ratio.npy',\n",
    "#     alpha=0.1,\n",
    "#     n_epochs=20,\n",
    "#     batch_size=100,\n",
    "#     initial_lr=1.e-3,\n",
    "#     final_lr=1.e-5\n",
    "# )\n",
    "\n",
    "# alices2.save('models/alices2')"
   ]
  },
  {
   "cell_type": "markdown",
   "metadata": {},
   "source": [
    "## Evaluate models"
   ]
  },
  {
   "cell_type": "code",
   "execution_count": 31,
   "metadata": {},
   "outputs": [],
   "source": [
    "theta_grid = np.linspace(-1.,3.,401).reshape((-1,1))\n",
    "theta1_grid = np.ones_like(theta_grid)\n",
    "mu_grid = np.sign(theta_grid) * theta_grid ** 4\n",
    "\n",
    "filenames_test = [\"0\", \"05\", \"1\", \"2\", \"5\", \"10\"]\n",
    "mu_test = [0, 0.5, 1, 2, 5, 10]"
   ]
  },
  {
   "cell_type": "code",
   "execution_count": 15,
   "metadata": {},
   "outputs": [
    {
     "name": "stderr",
     "output_type": "stream",
     "text": [
      "01:15 madminer.ml          INFO    Loading model from models/alices\n",
      "01:15 madminer.ml          INFO    Loading evaluation data\n",
      "01:15 madminer.utils.vario INFO      Loading data/samples/x_test0.npy into RAM\n",
      "01:15 madminer.ml          INFO    Starting ratio evaluation for 40100000 x-theta combinations\n",
      "01:23 madminer.ml          INFO    Evaluation done\n",
      "01:23 madminer.ml          INFO    Loading evaluation data\n",
      "01:23 madminer.utils.vario INFO      Loading data/samples/x_test05.npy into RAM\n",
      "01:23 madminer.ml          INFO    Starting ratio evaluation for 40100000 x-theta combinations\n",
      "01:31 madminer.ml          INFO    Evaluation done\n",
      "01:31 madminer.ml          INFO    Loading evaluation data\n",
      "01:31 madminer.utils.vario INFO      Loading data/samples/x_test1.npy into RAM\n",
      "01:31 madminer.ml          INFO    Starting ratio evaluation for 40100000 x-theta combinations\n",
      "01:40 madminer.ml          INFO    Evaluation done\n",
      "01:40 madminer.ml          INFO    Loading evaluation data\n",
      "01:40 madminer.utils.vario INFO      Loading data/samples/x_test2.npy into RAM\n",
      "01:40 madminer.ml          INFO    Starting ratio evaluation for 40100000 x-theta combinations\n",
      "01:48 madminer.ml          INFO    Evaluation done\n",
      "01:48 madminer.ml          INFO    Loading evaluation data\n",
      "01:48 madminer.utils.vario INFO      Loading data/samples/x_test5.npy into RAM\n",
      "01:48 madminer.ml          INFO    Starting ratio evaluation for 40100000 x-theta combinations\n",
      "01:56 madminer.ml          INFO    Evaluation done\n",
      "01:56 madminer.ml          INFO    Loading evaluation data\n",
      "01:56 madminer.utils.vario INFO      Loading data/samples/x_test10.npy into RAM\n",
      "01:56 madminer.ml          INFO    Starting ratio evaluation for 40100000 x-theta combinations\n",
      "02:04 madminer.ml          INFO    Evaluation done\n"
     ]
    }
   ],
   "source": [
    "alices = ParameterizedRatioEstimator()\n",
    "alices.load('models/alices')\n",
    "\n",
    "nllr_alices = []\n",
    "for filename in filenames_test:\n",
    "    log_r, _ = alices.evaluate_log_likelihood_ratio(\n",
    "        theta=theta_grid,\n",
    "        x='data/samples/x_test{}.npy'.format(filename),\n",
    "        evaluate_score=False\n",
    "    )\n",
    "    nllr_alices.append(-2.* np.mean(log_r, axis=1))"
   ]
  },
  {
   "cell_type": "code",
   "execution_count": 16,
   "metadata": {},
   "outputs": [
    {
     "name": "stderr",
     "output_type": "stream",
     "text": [
      "02:04 madminer.ml          INFO    Loading model from models/alices2\n",
      "02:04 madminer.ml          INFO    Loading evaluation data\n",
      "02:04 madminer.utils.vario INFO      Loading data/samples/x_test0.npy into RAM\n",
      "02:04 madminer.ml          INFO    Starting ratio evaluation for 40100000 x-theta combinations\n",
      "02:17 madminer.ml          INFO    Evaluation done\n",
      "02:17 madminer.ml          INFO    Loading evaluation data\n",
      "02:17 madminer.utils.vario INFO      Loading data/samples/x_test05.npy into RAM\n",
      "02:17 madminer.ml          INFO    Starting ratio evaluation for 40100000 x-theta combinations\n",
      "02:30 madminer.ml          INFO    Evaluation done\n",
      "02:30 madminer.ml          INFO    Loading evaluation data\n",
      "02:30 madminer.utils.vario INFO      Loading data/samples/x_test1.npy into RAM\n",
      "02:30 madminer.ml          INFO    Starting ratio evaluation for 40100000 x-theta combinations\n",
      "02:43 madminer.ml          INFO    Evaluation done\n",
      "02:43 madminer.ml          INFO    Loading evaluation data\n",
      "02:43 madminer.utils.vario INFO      Loading data/samples/x_test2.npy into RAM\n",
      "02:43 madminer.ml          INFO    Starting ratio evaluation for 40100000 x-theta combinations\n",
      "02:56 madminer.ml          INFO    Evaluation done\n",
      "02:56 madminer.ml          INFO    Loading evaluation data\n",
      "02:56 madminer.utils.vario INFO      Loading data/samples/x_test5.npy into RAM\n",
      "02:56 madminer.ml          INFO    Starting ratio evaluation for 40100000 x-theta combinations\n",
      "03:09 madminer.ml          INFO    Evaluation done\n",
      "03:09 madminer.ml          INFO    Loading evaluation data\n",
      "03:09 madminer.utils.vario INFO      Loading data/samples/x_test10.npy into RAM\n",
      "03:09 madminer.ml          INFO    Starting ratio evaluation for 40100000 x-theta combinations\n",
      "03:22 madminer.ml          INFO    Evaluation done\n"
     ]
    }
   ],
   "source": [
    "# alices2 = DoubleParameterizedRatioEstimator()\n",
    "# alices2.load('models/alices2')\n",
    "\n",
    "# nllr_alices2 = []\n",
    "# for filename in filenames_test:\n",
    "#     log_r = alices2.evaluate_log_likelihood_ratio(\n",
    "#         theta0=theta_grid,\n",
    "#         theta1=theta1_grid,\n",
    "#         x='data/samples/x_test{}.npy'.format(filename),\n",
    "#         evaluate_score=False\n",
    "#     )[0]\n",
    "#     nllr_alices2.append(-2.* np.mean(log_r, axis=1))"
   ]
  },
  {
   "cell_type": "markdown",
   "metadata": {},
   "source": [
    "## Plot results"
   ]
  },
  {
   "cell_type": "code",
   "execution_count": 77,
   "metadata": {},
   "outputs": [],
   "source": [
    "cmap = matplotlib.cm.get_cmap(\"plasma\")\n",
    "colors = [cmap(0.2 + i / 6.) for i in range(6)]"
   ]
  },
  {
   "cell_type": "code",
   "execution_count": 78,
   "metadata": {},
   "outputs": [
    {
     "data": {
      "image/png": "[encoded data removed]",
      "text/plain": [
       "<Figure size 360x360 with 1 Axes>"
      ]
     },
     "metadata": {
      "needs_background": "light"
     },
     "output_type": "display_data"
    }
   ],
   "source": [
    "fig = plt.figure(figsize=(5,5))\n",
    "\n",
    "for i, mu in enumerate(mu_test):\n",
    "    plt.plot(mu_grid[mu_grid.flatten()>0.], (nllr_alices[i])[mu_grid.flatten()>0.] - np.min((nllr_alices[i])[mu_grid.flatten()>0.]), c=colors[i], ls=\"-\")\n",
    "    plt.plot([mu, mu], [-0.01, 0.02], c=colors[i], ls=\"-\")\n",
    "    # plt.plot(mu_grid, nllr_alices2[i] - np.min(nllr_alices2[i]), c=\"C{}\".format(i), ls=\"-\")\n",
    "\n",
    "plt.xlabel(r\"$\\mu$\")\n",
    "plt.ylabel(r\"expected -2 log likelihood ratio$\")\n",
    "plt.ylim(-0.005,0.25)\n",
    "plt.xlim(-0.3,11.0)\n",
    "\n",
    "plt.tight_layout()\n",
    "plt.savefig(\"expected_likelihood_ratio_mu.pdf\")"
   ]
  },
  {
   "cell_type": "code",
   "execution_count": 79,
   "metadata": {},
   "outputs": [
    {
     "data": {
      "image/png": "[encoded data removed]",
      "text/plain": [
       "<Figure size 360x360 with 1 Axes>"
      ]
     },
     "metadata": {
      "needs_background": "light"
     },
     "output_type": "display_data"
    }
   ],
   "source": [
    "fig = plt.figure(figsize=(5,5))\n",
    "\n",
    "for i, mu in enumerate(kappa_test):\n",
    "    plt.plot(theta_grid, nllr_alices[i] - np.min(nllr_alices[i]), c=colors[i], ls=\"-\")\n",
    "    plt.plot([mu**0.25, mu**0.25], [-0.02, 0.02], c=colors[i], ls=\"-\")\n",
    "    # plt.plot(theta_grid, nllr_alices2[i] - np.min(nllr_alices2[i]), c=\"C{}\".format(i), ls=\"-\")\n",
    "\n",
    "plt.xlabel(r\"$\\theta$\")\n",
    "plt.ylabel(r\"expected -2 log likelihood ratio$\")\n",
    "plt.ylim(-0.005,0.25)\n",
    "plt.xlim(-0.2,2.0)\n",
    "\n",
    "plt.tight_layout()\n",
    "plt.savefig(\"expected_likelihood_ratio_theta.pdf\")"
   ]
  },
  {
   "cell_type": "code",
   "execution_count": null,
   "metadata": {},
   "outputs": [],
   "source": []
  }
 ],
 "metadata": {
  "kernelspec": {
   "display_name": "Python 2",
   "language": "python",
   "name": "python2"
  },
  "language_info": {
   "codemirror_mode": {
    "name": "ipython",
    "version": 2
   },
   "file_extension": ".py",
   "mimetype": "text/x-python",
   "name": "python",
   "nbconvert_exporter": "python",
   "pygments_lexer": "ipython2",
   "version": "2.7.14"
  },
  "toc": {
   "nav_menu": {},
   "number_sections": true,
   "sideBar": true,
   "skip_h1_title": false,
   "toc_cell": false,
   "toc_position": {},
   "toc_section_display": "block",
   "toc_window_display": false
  },
  "varInspector": {
   "cols": {
    "lenName": 16,
    "lenType": 16,
    "lenVar": 40
   },
   "kernels_config": {
    "python": {
     "delete_cmd_postfix": "",
     "delete_cmd_prefix": "del ",
     "library": "var_list.py",
     "varRefreshCmd": "print(var_dic_list())"
    },
    "r": {
     "delete_cmd_postfix": ") ",
     "delete_cmd_prefix": "rm(",
     "library": "var_list.r",
     "varRefreshCmd": "cat(var_dic_list()) "
    }
   },
   "types_to_exclude": [
    "module",
    "function",
    "builtin_function_or_method",
    "instance",
    "_Feature"
   ],
   "window_display": false
  }
 },
 "nbformat": 4,
 "nbformat_minor": 2
}
