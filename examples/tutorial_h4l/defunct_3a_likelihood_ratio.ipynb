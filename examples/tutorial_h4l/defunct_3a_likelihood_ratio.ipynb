{
 "cells": [
  {
   "cell_type": "markdown",
   "metadata": {},
   "source": [
    "# MadMiner particle physics tutorial\n",
    "\n",
    "# Part 3a: Training a likelihood ratio estimator\n",
    "\n",
    "Johann Brehmer, Felix Kling, Irina Espejo, and Kyle Cranmer 2018-2019"
   ]
  },
  {
   "cell_type": "markdown",
   "metadata": {},
   "source": [
    "In part 3a of this tutorial we will finally train a neural network to estimate likelihood ratios. We assume that you have run part 1 and 2a of this tutorial. If, instead of 2a, you have run part 2b, you just have to load a different filename later."
   ]
  },
  {
   "cell_type": "markdown",
   "metadata": {},
   "source": [
    "## Preparations"
   ]
  },
  {
   "cell_type": "code",
   "execution_count": 1,
   "metadata": {},
   "outputs": [],
   "source": [
    "from __future__ import absolute_import, division, print_function, unicode_literals\n",
    "\n",
    "import logging\n",
    "import numpy as np\n",
    "import matplotlib\n",
    "from matplotlib import pyplot as plt\n",
    "%matplotlib inline\n",
    "\n",
    "from madminer.sampling import SampleAugmenter\n",
    "from madminer import sampling\n",
    "from madminer.ml import ParameterizedRatioEstimator\n"
   ]
  },
  {
   "cell_type": "code",
   "execution_count": 2,
   "metadata": {},
   "outputs": [],
   "source": [
    "# MadMiner output\n",
    "logging.basicConfig(\n",
    "    format='%(asctime)-5.5s %(name)-20.20s %(levelname)-7.7s %(message)s',\n",
    "    datefmt='%H:%M',\n",
    "    level=logging.INFO\n",
    ")\n",
    "\n",
    "# Output of all other modules (e.g. matplotlib)\n",
    "for key in logging.Logger.manager.loggerDict:\n",
    "    if \"madminer\" not in key:\n",
    "        logging.getLogger(key).setLevel(logging.WARNING)"
   ]
  },
  {
   "cell_type": "markdown",
   "metadata": {},
   "source": [
    "## 1. Make (unweighted) training and test samples with augmented data"
   ]
  },
  {
   "cell_type": "markdown",
   "metadata": {},
   "source": [
    "At this point, we have all the information we need from the simulations. But the data is not quite ready to be used for machine learning. The `madminer.sampling` class `SampleAugmenter` will take care of the remaining book-keeping steps before we can train our estimators:\n",
    "\n",
    "First, it unweights the samples, i.e. for a given parameter vector `theta` (or a distribution `p(theta)`) it picks events `x` such that their distribution follows `p(x|theta)`. The selected samples will all come from the event file we have so far, but their frequency is changed -- some events will appear multiple times, some will disappear.\n",
    "\n",
    "Second, `SampleAugmenter` calculates all the augmented data (\"gold\") that is the key to our new inference methods. Depending on the specific technique, these are the joint likelihood ratio and / or the joint score. It saves all these pieces of information for the selected events in a set of numpy files that can easily be used in any machine learning framework."
   ]
  },
  {
   "cell_type": "code",
   "execution_count": null,
   "metadata": {},
   "outputs": [],
   "source": [
    "#sampler = SampleAugmenter('data/lhe_data_shuffled.h5')\n",
    "sampler = SampleAugmenter('data/delphes_data_shuffled.h5')"
   ]
  },
  {
   "cell_type": "markdown",
   "metadata": {},
   "source": [
    "The `SampleAugmenter` class defines five different high-level functions to generate train or test samples:\n",
    "- `sample_train_plain()`, which only saves observations x, for instance for histograms or ABC;\n",
    "- `sample_train_local()` for methods like SALLY and SALLINO, which will be demonstrated in the second part of the tutorial;\n",
    "- `sample_train_density()` for neural density estimation techniques like MAF or SCANDAL;\n",
    "- `sample_train_ratio()` for techniques like CARL, ROLR, CASCAL, and RASCAL, when only theta0 is parameterized;\n",
    "- `sample_train_more_ratios()` for the same techniques, but with both theta0 and theta1 parameterized;\n",
    "- `sample_test()` for the evaluation of any method.\n",
    "\n",
    "For the arguments `theta`, `theta0`, or `theta1`, you can (and should!) use the helper functions `benchmark()`, `benchmarks()`, `morphing_point()`, `morphing_points()`, and `random_morphing_points()`, all defined in the `madminer.sampling` module.\n",
    "\n",
    "Here we'll train a likelihood ratio estimator with the ALICES method, so we focus on the `extract_samples_train_ratio()` function. We'll sample the numerator hypothesis in the likelihood ratio with 1000 points drawn from a Gaussian prior, and fix the denominator hypothesis to the SM.\n",
    "\n",
    "Note the keyword `sample_only_from_closest_benchmark=True`, which makes sure that for each parameter point we only use the events that were originally (in MG) generated from the closest benchmark. This reduces the statistical fluctuations in the outcome quite a bit."
   ]
  },
  {
   "cell_type": "code",
   "execution_count": null,
   "metadata": {},
   "outputs": [],
   "source": [
    "x, theta0, theta1, y, r_xz, t_xz, n_effective = sampler.sample_train_ratio(\n",
    "    theta0=sampling.random_morphing_points(1000, [('gaussian', 0., 15.), ('gaussian', 0., 15.)]),\n",
    "    #theta0=sampling.benchmark('w'),\n",
    "    theta1=sampling.benchmark('sm'),\n",
    "    #n_samples=100000,\n",
    "    n_samples=10**6,\n",
    "    folder='./data/samples',\n",
    "    filename='train_ratio',\n",
    "    sample_only_from_closest_benchmark=True,\n",
    "    return_individual_n_effective=True,\n",
    ")"
   ]
  },
  {
   "cell_type": "markdown",
   "metadata": {},
   "source": [
    "For the evaluation we'll need a test sample:"
   ]
  },
  {
   "cell_type": "code",
   "execution_count": null,
   "metadata": {
    "scrolled": true
   },
   "outputs": [],
   "source": [
    "_ = sampler.sample_test(\n",
    "    theta=sampling.benchmark('sm'),\n",
    "    n_samples=1000,\n",
    "    folder='./data/samples',\n",
    "    filename='test'\n",
    ")"
   ]
  },
  {
   "cell_type": "markdown",
   "metadata": {},
   "source": [
    "You might notice the information about the \"eeffective number of samples\" in the output. This is defined as `1 / max_events(weights)`; the smaller it is, the bigger the statistical fluctuations from too large weights. Let's plot this over the parameter space:"
   ]
  },
  {
   "cell_type": "code",
   "execution_count": null,
   "metadata": {},
   "outputs": [],
   "source": [
    "cmin, cmax = 10., 1000.\n",
    "\n",
    "cut = (y.flatten()==0)\n",
    "\n",
    "fig = plt.figure(figsize=(5,4))\n",
    "\n",
    "sc = plt.scatter(theta0[cut][:,0], theta0[cut][:,1], c=n_effective[cut],\n",
    "                 s=60., cmap='viridis',\n",
    "                 norm=matplotlib.colors.LogNorm(vmin=cmin, vmax=cmax),\n",
    "                 marker='o')\n",
    "\n",
    "cb = plt.colorbar(sc)\n",
    "cb.set_label('Effective number of samples')\n",
    "\n",
    "plt.xlim(-25.,25.)\n",
    "plt.ylim(-25.,25.)\n",
    "plt.tight_layout()\n",
    "plt.show()"
   ]
  },
  {
   "cell_type": "markdown",
   "metadata": {},
   "source": [
    "## 2. Plot cross section over parameter space"
   ]
  },
  {
   "cell_type": "markdown",
   "metadata": {},
   "source": [
    "This is not strictly necessary, but we can also plot the cross section as a function of parameter space:"
   ]
  },
  {
   "cell_type": "code",
   "execution_count": null,
   "metadata": {},
   "outputs": [],
   "source": [
    "thetas_benchmarks, xsecs_benchmarks, xsec_errors_benchmarks = sampler.cross_sections(\n",
    "    theta=sampling.benchmarks(list(sampler.benchmarks.keys()))\n",
    ")\n",
    "\n",
    "thetas_morphing, xsecs_morphing, xsec_errors_morphing = sampler.cross_sections(\n",
    "    theta=sampling.random_morphing_points(1000, [('gaussian', 0., 4.), ('gaussian', 0., 4.)])\n",
    ")"
   ]
  },
  {
   "cell_type": "code",
   "execution_count": null,
   "metadata": {},
   "outputs": [],
   "source": [
    "cmin, cmax = 0., 2.5 * np.mean(xsecs_morphing)\n",
    "\n",
    "fig = plt.figure(figsize=(5,4))\n",
    "\n",
    "sc = plt.scatter(thetas_morphing[:,0], thetas_morphing[:,1], c=xsecs_morphing,\n",
    "            s=40., cmap='viridis', vmin=cmin, vmax=cmax,\n",
    "            marker='o')\n",
    "\n",
    "plt.scatter(thetas_benchmarks[:,0], thetas_benchmarks[:,1], c=xsecs_benchmarks,\n",
    "            s=200., cmap='viridis', vmin=cmin, vmax=cmax, lw=2., edgecolor='black',\n",
    "            marker='s')\n",
    "\n",
    "cb = plt.colorbar(sc)\n",
    "cb.set_label('xsec [pb]')\n",
    "\n",
    "plt.xlim(-10.,10.)\n",
    "plt.ylim(-10.,10.)\n",
    "plt.tight_layout()\n",
    "plt.show()"
   ]
  },
  {
   "cell_type": "markdown",
   "metadata": {},
   "source": [
    "What  you see here is a morphing algorithm in action. We only asked MadGraph to calculate event weights (differential cross sections, or basically squared matrix elements) at six fixed parameter points (shown here as squares with black edges). But with our knowledge about the structure of the process we can interpolate any observable to any parameter point without loss (except that statistical uncertainties might increase)!"
   ]
  },
  {
   "cell_type": "markdown",
   "metadata": {},
   "source": [
    "## 3. Train likelihood ratio estimator"
   ]
  },
  {
   "cell_type": "markdown",
   "metadata": {},
   "source": [
    "It's now time to build the neural network that estimates the likelihood ratio. The central object for this is the `madminer.ml.ParameterizedRatioEstimator` class. It defines functions that train, save, load, and evaluate the estimators.\n",
    "\n",
    "In the initialization, the keywords `n_hidden` and `activation` define the architecture of the (fully connected) neural network:"
   ]
  },
  {
   "cell_type": "code",
   "execution_count": 3,
   "metadata": {},
   "outputs": [],
   "source": [
    "estimator = ParameterizedRatioEstimator(\n",
    "    n_hidden=(100,),\n",
    "    activation=\"tanh\"\n",
    ")"
   ]
  },
  {
   "cell_type": "markdown",
   "metadata": {},
   "source": [
    "To train this model we will minimize the ALICES loss function described in [\"Likelihood-free inference with an improved cross-entropy estimator\"](https://arxiv.org/abs/1808.00973). Many alternatives, including RASCAL, are described in [\"Constraining Effective Field Theories With Machine Learning\"](https://arxiv.org/abs/1805.00013) and [\"A Guide to Constraining Effective Field Theories With Machine Learning\"](https://arxiv.org/abs/1805.00020). There is also SCANDAL introduced in [\"Mining gold from implicit models to improve likelihood-free inference\"](https://arxiv.org/abs/1805.12244)."
   ]
  },
  {
   "cell_type": "code",
   "execution_count": 4,
   "metadata": {},
   "outputs": [
    {
     "name": "stderr",
     "output_type": "stream",
     "text": [
      "11:34 madminer.ml          INFO    Starting training\n",
      "11:34 madminer.ml          INFO      Method:                 alices\n",
      "11:34 madminer.ml          INFO      alpha:                  1.0\n",
      "11:34 madminer.ml          INFO      Batch size:             128\n",
      "11:34 madminer.ml          INFO      Optimizer:              amsgrad\n",
      "11:34 madminer.ml          INFO      Epochs:                 20\n",
      "11:34 madminer.ml          INFO      Learning rate:          0.001 initially, decaying to 0.0001\n",
      "11:34 madminer.ml          INFO      Validation split:       0.25\n",
      "11:34 madminer.ml          INFO      Early stopping:         True\n",
      "11:34 madminer.ml          INFO      Scale inputs:           True\n",
      "11:34 madminer.ml          INFO      Scale parameters:       False\n",
      "11:34 madminer.ml          INFO      Shuffle labels          False\n",
      "11:34 madminer.ml          INFO      Samples:                all\n",
      "11:34 madminer.ml          INFO    Loading training data\n",
      "11:34 madminer.utils.vario INFO      Loading data/samples/theta0_train_ratio.npy into RAM\n",
      "11:34 madminer.utils.vario INFO      Loading data/samples/x_train_ratio.npy into RAM\n",
      "11:34 madminer.utils.vario INFO      Loading data/samples/y_train_ratio.npy into RAM\n",
      "11:34 madminer.utils.vario INFO      Loading data/samples/r_xz_train_ratio.npy into RAM\n",
      "11:34 madminer.utils.vario INFO      Loading data/samples/t_xz_train_ratio.npy into RAM\n",
      "11:34 madminer.ml          INFO    Found 1000000 samples with 2 parameters and 3 observables\n",
      "11:34 madminer.ml          INFO    Setting up input rescaling\n",
      "11:34 madminer.ml          INFO    Disabling parameter rescaling\n",
      "11:34 madminer.ml          INFO    Creating model\n",
      "11:34 madminer.ml          INFO    Training model\n",
      "11:34 madminer.utils.ml.tr INFO    Training on CPU with single precision\n",
      "11:34 madminer.utils.ml.tr INFO    Epoch   1: train loss  0.45289 (improved_xe:  0.445, mse_score:  0.008)\n",
      "11:34 madminer.utils.ml.tr INFO               val. loss   0.43679 (improved_xe:  0.430, mse_score:  0.007)\n",
      "11:35 madminer.utils.ml.tr INFO    Epoch   2: train loss  0.43458 (improved_xe:  0.428, mse_score:  0.007)\n",
      "11:35 madminer.utils.ml.tr INFO               val. loss   0.43313 (improved_xe:  0.427, mse_score:  0.006)\n",
      "11:36 madminer.utils.ml.tr INFO    Epoch   3: train loss  0.43258 (improved_xe:  0.426, mse_score:  0.007)\n",
      "11:36 madminer.utils.ml.tr INFO               val. loss   0.43147 (improved_xe:  0.425, mse_score:  0.006)\n",
      "11:37 madminer.utils.ml.tr INFO    Epoch   4: train loss  0.43172 (improved_xe:  0.425, mse_score:  0.007)\n",
      "11:37 madminer.utils.ml.tr INFO               val. loss   0.43157 (improved_xe:  0.425, mse_score:  0.006)\n",
      "11:37 madminer.utils.ml.tr INFO    Epoch   5: train loss  0.43109 (improved_xe:  0.424, mse_score:  0.007)\n",
      "11:37 madminer.utils.ml.tr INFO               val. loss   0.43076 (improved_xe:  0.424, mse_score:  0.006)\n",
      "11:38 madminer.utils.ml.tr INFO    Epoch   6: train loss  0.43069 (improved_xe:  0.424, mse_score:  0.007)\n",
      "11:38 madminer.utils.ml.tr INFO               val. loss   0.43057 (improved_xe:  0.424, mse_score:  0.006)\n",
      "11:39 madminer.utils.ml.tr INFO    Epoch   7: train loss  0.43038 (improved_xe:  0.424, mse_score:  0.007)\n",
      "11:39 madminer.utils.ml.tr INFO               val. loss   0.43055 (improved_xe:  0.424, mse_score:  0.006)\n",
      "11:39 madminer.utils.ml.tr INFO    Epoch   8: train loss  0.43012 (improved_xe:  0.423, mse_score:  0.007)\n",
      "11:39 madminer.utils.ml.tr INFO               val. loss   0.43035 (improved_xe:  0.424, mse_score:  0.006)\n",
      "11:40 madminer.utils.ml.tr INFO    Epoch   9: train loss  0.42993 (improved_xe:  0.423, mse_score:  0.007)\n",
      "11:40 madminer.utils.ml.tr INFO               val. loss   0.42997 (improved_xe:  0.424, mse_score:  0.006)\n",
      "11:41 madminer.utils.ml.tr INFO    Epoch  10: train loss  0.42976 (improved_xe:  0.423, mse_score:  0.007)\n",
      "11:41 madminer.utils.ml.tr INFO               val. loss   0.42996 (improved_xe:  0.424, mse_score:  0.006)\n",
      "11:41 madminer.utils.ml.tr INFO    Epoch  11: train loss  0.42960 (improved_xe:  0.423, mse_score:  0.007)\n",
      "11:41 madminer.utils.ml.tr INFO               val. loss   0.42966 (improved_xe:  0.423, mse_score:  0.006)\n",
      "11:42 madminer.utils.ml.tr INFO    Epoch  12: train loss  0.42951 (improved_xe:  0.423, mse_score:  0.007)\n",
      "11:42 madminer.utils.ml.tr INFO               val. loss   0.42966 (improved_xe:  0.423, mse_score:  0.006)\n",
      "11:43 madminer.utils.ml.tr INFO    Epoch  13: train loss  0.42941 (improved_xe:  0.423, mse_score:  0.007)\n",
      "11:43 madminer.utils.ml.tr INFO               val. loss   0.42939 (improved_xe:  0.423, mse_score:  0.006)\n",
      "11:44 madminer.utils.ml.tr INFO    Epoch  14: train loss  0.42932 (improved_xe:  0.423, mse_score:  0.007)\n",
      "11:44 madminer.utils.ml.tr INFO               val. loss   0.42957 (improved_xe:  0.423, mse_score:  0.006)\n",
      "11:44 madminer.utils.ml.tr INFO    Epoch  15: train loss  0.42925 (improved_xe:  0.423, mse_score:  0.007)\n",
      "11:44 madminer.utils.ml.tr INFO               val. loss   0.42959 (improved_xe:  0.423, mse_score:  0.006)\n",
      "11:45 madminer.utils.ml.tr INFO    Epoch  16: train loss  0.42918 (improved_xe:  0.423, mse_score:  0.007)\n",
      "11:45 madminer.utils.ml.tr INFO               val. loss   0.42973 (improved_xe:  0.424, mse_score:  0.006)\n",
      "11:46 madminer.utils.ml.tr INFO    Epoch  17: train loss  0.42912 (improved_xe:  0.422, mse_score:  0.007)\n",
      "11:46 madminer.utils.ml.tr INFO               val. loss   0.42931 (improved_xe:  0.423, mse_score:  0.006)\n",
      "11:46 madminer.utils.ml.tr INFO    Epoch  18: train loss  0.42906 (improved_xe:  0.422, mse_score:  0.007)\n",
      "11:46 madminer.utils.ml.tr INFO               val. loss   0.42945 (improved_xe:  0.423, mse_score:  0.006)\n",
      "11:47 madminer.utils.ml.tr INFO    Epoch  19: train loss  0.42903 (improved_xe:  0.422, mse_score:  0.007)\n",
      "11:47 madminer.utils.ml.tr INFO               val. loss   0.42923 (improved_xe:  0.423, mse_score:  0.006)\n",
      "11:48 madminer.utils.ml.tr INFO    Epoch  20: train loss  0.42898 (improved_xe:  0.422, mse_score:  0.007)\n",
      "11:48 madminer.utils.ml.tr INFO               val. loss   0.42919 (improved_xe:  0.423, mse_score:  0.006)\n",
      "11:48 madminer.utils.ml.tr INFO    Early stopping did not improve performance\n",
      "11:48 madminer.utils.ml.tr INFO    Training time spend on:\n",
      "11:48 madminer.utils.ml.tr INFO                      initialize model:   0.00h\n",
      "11:48 madminer.utils.ml.tr INFO                                   ALL:   0.24h\n",
      "11:48 madminer.utils.ml.tr INFO                            check data:   0.00h\n",
      "11:48 madminer.utils.ml.tr INFO                          make dataset:   0.00h\n",
      "11:48 madminer.utils.ml.tr INFO                       make dataloader:   0.00h\n",
      "11:48 madminer.utils.ml.tr INFO                       setup optimizer:   0.00h\n",
      "11:48 madminer.utils.ml.tr INFO                   initialize training:   0.00h\n",
      "11:48 madminer.utils.ml.tr INFO                                set lr:   0.00h\n",
      "11:48 madminer.utils.ml.tr INFO                   load training batch:   0.06h\n",
      "11:48 madminer.utils.ml.tr INFO                        fwd: move data:   0.01h\n",
      "11:48 madminer.utils.ml.tr INFO                   fwd: check for nans:   0.02h\n",
      "11:48 madminer.utils.ml.tr INFO                    fwd: model.forward:   0.04h\n",
      "11:48 madminer.utils.ml.tr INFO                 fwd: calculate losses:   0.02h\n",
      "11:48 madminer.utils.ml.tr INFO                 training forward pass:   0.07h\n",
      "11:48 madminer.utils.ml.tr INFO                   training sum losses:   0.00h\n",
      "11:48 madminer.utils.ml.tr INFO                        opt: zero grad:   0.00h\n",
      "11:48 madminer.utils.ml.tr INFO                         opt: backward:   0.03h\n",
      "11:48 madminer.utils.ml.tr INFO                   opt: clip grad norm:   0.00h\n",
      "11:48 madminer.utils.ml.tr INFO                             opt: step:   0.01h\n",
      "11:48 madminer.utils.ml.tr INFO                        optimizer step:   0.05h\n",
      "11:48 madminer.utils.ml.tr INFO                 load validation batch:   0.02h\n",
      "11:48 madminer.utils.ml.tr INFO               validation forward pass:   0.02h\n",
      "11:48 madminer.utils.ml.tr INFO                 validation sum losses:   0.00h\n",
      "11:48 madminer.utils.ml.tr INFO                        early stopping:   0.00h\n",
      "11:48 madminer.utils.ml.tr INFO                          report epoch:   0.00h\n",
      "11:48 madminer.ml          INFO    Saving model to models/alices\n"
     ]
    }
   ],
   "source": [
    "estimator.train(\n",
    "    method='alices',\n",
    "    theta='data/samples/theta0_train_ratio.npy',\n",
    "    x='data/samples/x_train_ratio.npy',\n",
    "    y='data/samples/y_train_ratio.npy',\n",
    "    r_xz='data/samples/r_xz_train_ratio.npy',\n",
    "    t_xz='data/samples/t_xz_train_ratio.npy',\n",
    "    alpha=1.,\n",
    "    n_epochs=20,\n",
    ")\n",
    "\n",
    "estimator.save('models/alices')"
   ]
  },
  {
   "cell_type": "markdown",
   "metadata": {},
   "source": [
    "## 4. Evaluate likelihood ratio estimator"
   ]
  },
  {
   "cell_type": "markdown",
   "metadata": {},
   "source": [
    "`estimator.evaluate_log_likelihood_ratio(theta,x)` estimated the log likelihood ratio and the score for all combination between the given phase-space points `x` and parameters `theta`. That is, if given 100 events `x` and a grid of 25 `theta` points, it will return 25\\*100 estimates for the log likelihood ratio and 25\\*100 estimates for the score, both indexed by `[i_theta,i_x]`."
   ]
  },
  {
   "cell_type": "code",
   "execution_count": 5,
   "metadata": {},
   "outputs": [],
   "source": [
    "theta_each = np.linspace(-20.,20.,21)\n",
    "theta0, theta1 = np.meshgrid(theta_each, theta_each)\n",
    "theta_grid = np.vstack((theta0.flatten(), theta1.flatten())).T\n",
    "np.save('data/samples/theta_grid.npy', theta_grid)\n",
    "\n",
    "theta_denom = np.array([[0.,0.]])\n",
    "np.save('data/samples/theta_ref.npy', theta_denom)\n"
   ]
  },
  {
   "cell_type": "code",
   "execution_count": 6,
   "metadata": {},
   "outputs": [
    {
     "name": "stderr",
     "output_type": "stream",
     "text": [
      "11:48 madminer.ml          INFO    Loading model from models/alices\n",
      "11:48 madminer.ml          WARNING Parameter scaling information not found in models/alices\n",
      "11:48 madminer.ml          INFO    Loading evaluation data\n",
      "11:48 madminer.utils.vario INFO      Loading data/samples/x_test.npy into RAM\n",
      "11:48 madminer.utils.vario INFO      Loading data/samples/theta_grid.npy into RAM\n",
      "11:48 madminer.ml          INFO    Starting ratio evaluation for 441000 x-theta combinations\n",
      "11:48 madminer.ml          INFO    Evaluation done\n"
     ]
    }
   ],
   "source": [
    "estimator.load('models/alices')\n",
    "\n",
    "log_r_hat, _ = estimator.evaluate_log_likelihood_ratio(\n",
    "    theta='data/samples/theta_grid.npy',\n",
    "    x='data/samples/x_test.npy',\n",
    "    evaluate_score=False\n",
    ")"
   ]
  },
  {
   "cell_type": "markdown",
   "metadata": {},
   "source": [
    "Let's look at the result:"
   ]
  },
  {
   "cell_type": "code",
   "execution_count": 7,
   "metadata": {},
   "outputs": [
    {
     "data": {
      "image/png": "[encoded data removed]",
      "text/plain": [
       "<Figure size 432x360 with 2 Axes>"
      ]
     },
     "metadata": {
      "needs_background": "light"
     },
     "output_type": "display_data"
    }
   ],
   "source": [
    "bin_size = theta_each[1] - theta_each[0]\n",
    "edges = np.linspace(theta_each[0] - bin_size/2, theta_each[-1] + bin_size/2, len(theta_each)+1)\n",
    "\n",
    "fig = plt.figure(figsize=(6,5))\n",
    "ax = plt.gca()\n",
    "\n",
    "expected_llr = np.mean(log_r_hat,axis=1)\n",
    "best_fit = theta_grid[np.argmin(-2.*expected_llr)]\n",
    "\n",
    "cmin, cmax = np.min(-2*expected_llr), np.max(-2*expected_llr)\n",
    "    \n",
    "pcm = ax.pcolormesh(edges, edges, -2. * expected_llr.reshape((21,21)),\n",
    "                    norm=matplotlib.colors.Normalize(vmin=cmin, vmax=cmax),\n",
    "                    cmap='viridis_r')\n",
    "cbar = fig.colorbar(pcm, ax=ax, extend='both')\n",
    "\n",
    "plt.scatter(best_fit[0], best_fit[1], s=80., color='black', marker='*')\n",
    "\n",
    "plt.xlabel(r'$\\theta_0$')\n",
    "plt.ylabel(r'$\\theta_1$')\n",
    "cbar.set_label(r'$\\mathbb{E}_x [ -2\\, \\log \\,\\hat{r}(x | \\theta, \\theta_{SM}) ]$')\n",
    "\n",
    "plt.tight_layout()\n",
    "plt.show()\n"
   ]
  },
  {
   "cell_type": "markdown",
   "metadata": {},
   "source": [
    "Note that in this tutorial our sample size was very small, and the network might not really have a chance to converge to the correct likelihood ratio function. So don't worry if you find a minimum that is not at the right point (the SM, i.e. the origin in this plot). Feel free to dial up the event numbers in the run card as well as the training samples and see what happens then!"
   ]
  },
  {
   "cell_type": "code",
   "execution_count": null,
   "metadata": {},
   "outputs": [],
   "source": []
  },
  {
   "cell_type": "code",
   "execution_count": null,
   "metadata": {},
   "outputs": [],
   "source": []
  }
 ],
 "metadata": {
  "kernelspec": {
   "display_name": "Python 2",
   "language": "python",
   "name": "python2"
  },
  "language_info": {
   "codemirror_mode": {
    "name": "ipython",
    "version": 2
   },
   "file_extension": ".py",
   "mimetype": "text/x-python",
   "name": "python",
   "nbconvert_exporter": "python",
   "pygments_lexer": "ipython2",
   "version": "2.7.12"
  }
 },
 "nbformat": 4,
 "nbformat_minor": 2
}
