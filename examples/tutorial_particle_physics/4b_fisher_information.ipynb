{
 "cells": [
  {
   "cell_type": "markdown",
   "metadata": {},
   "source": [
    "# MadMiner particle physics tutorial\n",
    "\n",
    "# Part 4b: The Fisher information\n",
    "\n",
    "Johann Brehmer, Felix Kling, Irina Espejo, and Kyle Cranmer 2018-2019"
   ]
  },
  {
   "cell_type": "markdown",
   "metadata": {},
   "source": [
    "## 0. Preparations"
   ]
  },
  {
   "cell_type": "code",
   "execution_count": 1,
   "metadata": {},
   "outputs": [],
   "source": [
    "from __future__ import absolute_import, division, print_function, unicode_literals\n",
    "\n",
    "import six\n",
    "import logging\n",
    "import numpy as np\n",
    "import matplotlib\n",
    "from matplotlib import pyplot as plt\n",
    "%matplotlib inline\n",
    "\n",
    "from madminer.fisherinformation import FisherInformation\n",
    "from madminer.plotting import plot_fisher_information_contours_2d\n"
   ]
  },
  {
   "cell_type": "code",
   "execution_count": 2,
   "metadata": {},
   "outputs": [],
   "source": [
    "# MadMiner output\n",
    "logging.basicConfig(\n",
    "    format='%(asctime)-5.5s %(name)-20.20s %(levelname)-7.7s %(message)s',\n",
    "    datefmt='%H:%M',\n",
    "    level=logging.INFO\n",
    ")\n",
    "\n",
    "# Output of all other modules (e.g. matplotlib)\n",
    "for key in logging.Logger.manager.loggerDict:\n",
    "    if \"madminer\" not in key:\n",
    "        logging.getLogger(key).setLevel(logging.WARNING)"
   ]
  },
  {
   "cell_type": "markdown",
   "metadata": {},
   "source": [
    "## 1. Calculating the Fisher information"
   ]
  },
  {
   "cell_type": "markdown",
   "metadata": {},
   "source": [
    "We can use SALLY estimators (see part 3b of this tutorial) not just to define optimal observables, but also to calculate the (expected) Fisher information in a process. In `madminer.fisherinformation` we provide the `FisherInformation` class that makes this more convenient."
   ]
  },
  {
   "cell_type": "code",
   "execution_count": 8,
   "metadata": {},
   "outputs": [
    {
     "name": "stderr",
     "output_type": "stream",
     "text": [
      "15:52 madminer.analysis    INFO    Loading data from data/delphes_data_shuffled.h5\n",
      "15:52 madminer.analysis    INFO    Found 2 parameters\n",
      "15:52 madminer.analysis    INFO    Did not find nuisance parameters\n",
      "15:52 madminer.analysis    INFO    Found 6 benchmarks, of which 6 physical\n",
      "15:52 madminer.analysis    INFO    Found 3 observables\n",
      "15:52 madminer.analysis    INFO    Found 39902 events\n",
      "15:52 madminer.analysis    INFO      21365 signal events sampled from benchmark sm\n",
      "15:52 madminer.analysis    INFO      18537 signal events sampled from benchmark w\n",
      "15:52 madminer.analysis    INFO    Found morphing setup with 6 components\n",
      "15:52 madminer.analysis    INFO    Did not find nuisance morphing setup\n"
     ]
    }
   ],
   "source": [
    "#fisher = FisherInformation('data/lhe_data_shuffled.h5')\n",
    "fisher = FisherInformation('data/delphes_data_shuffled.h5')"
   ]
  },
  {
   "cell_type": "markdown",
   "metadata": {},
   "source": [
    "This class provides different functions:\n",
    "- `rate_information()` calculates the Fisher information in total rates,\n",
    "- `histo_information()` calculates the Fisher information in 1D histograms,\n",
    "- `histo_information_2d()` calculates the Fisher information in 2D histograms,\n",
    "- `full_information()` calculates the full detector-level Fisher information using a SALLY estimator, and\n",
    "- `truth_information()` calculates the truth-level Fisher information.\n",
    "\n",
    "Here we use the SALLY approach:"
   ]
  },
  {
   "cell_type": "code",
   "execution_count": 9,
   "metadata": {},
   "outputs": [
    {
     "name": "stderr",
     "output_type": "stream",
     "text": [
      "15:52 madminer.ml          INFO    Loading model from models/sally\n",
      "15:52 madminer.fisherinfor INFO    Found 2 parameters in SALLY model, matching 2 physical parameters in MadMiner file\n",
      "15:52 madminer.fisherinfor INFO    Evaluating rate Fisher information\n",
      "15:52 madminer.fisherinfor INFO    Evaluating kinematic Fisher information on batch 1 / 1\n",
      "15:52 madminer.ml          INFO    Loading evaluation data\n",
      "15:52 madminer.ml          INFO    Calculating Fisher information\n"
     ]
    },
    {
     "name": "stdout",
     "output_type": "stream",
     "text": [
      "Fisher information after 30 ifb:\n",
      "[[7.81933905 0.32675492]\n",
      " [0.32675492 4.3508183 ]]\n"
     ]
    }
   ],
   "source": [
    "fisher_information, _ = fisher.full_information(\n",
    "    theta=[0.,0.],\n",
    "    model_file='models/sally',\n",
    "    luminosity=30000.,\n",
    ")\n",
    "\n",
    "print('Fisher information after 30 ifb:\\n{}'.format(fisher_information))"
   ]
  },
  {
   "cell_type": "markdown",
   "metadata": {},
   "source": [
    "For comparison, we can calculate the Fisher information in the histogram of observables:"
   ]
  },
  {
   "cell_type": "code",
   "execution_count": 10,
   "metadata": {},
   "outputs": [
    {
     "name": "stderr",
     "output_type": "stream",
     "text": [
      "15:52 madminer.fisherinfor INFO    Bins with largest statistical uncertainties on rates:\n",
      "15:52 madminer.fisherinfor INFO      Bin 1: (0.00493 +/- 0.00126) fb (25 %)\n",
      "15:52 madminer.fisherinfor INFO      Bin 2: (0.28230 +/- 0.01859) fb (7 %)\n",
      "15:52 madminer.fisherinfor INFO      Bin 5: (0.00244 +/- 0.00014) fb (6 %)\n",
      "15:52 madminer.fisherinfor INFO      Bin 4: (0.03701 +/- 0.00162) fb (4 %)\n",
      "15:52 madminer.fisherinfor INFO      Bin 3: (0.15474 +/- 0.00392) fb (3 %)\n"
     ]
    },
    {
     "name": "stdout",
     "output_type": "stream",
     "text": [
      "Histogram Fisher information after 30 ifb:\n",
      "[[5.4963181  0.21823753]\n",
      " [0.21823753 0.03809172]]\n"
     ]
    }
   ],
   "source": [
    "info_histo_1d, cov_histo_1d = fisher.histo_information(\n",
    "    theta=[0.,0.],\n",
    "    luminosity=30000.,\n",
    "    observable=\"pt_j1\",\n",
    "    bins=[30.,100.,200.,400.],\n",
    "    histrange=[30.,400.],\n",
    ")\n",
    "\n",
    "print('Histogram Fisher information after 30 ifb:\\n{}'.format(info_histo_1d))"
   ]
  },
  {
   "cell_type": "markdown",
   "metadata": {},
   "source": [
    "We can do the same thing in 2D:"
   ]
  },
  {
   "cell_type": "code",
   "execution_count": 11,
   "metadata": {},
   "outputs": [
    {
     "name": "stderr",
     "output_type": "stream",
     "text": [
      "15:52 madminer.fisherinfor INFO    Bins with largest statistical uncertainties on rates:\n",
      "15:52 madminer.fisherinfor INFO      Bin (1, 3): (0.00187 +/- 0.00101) fb (54 %)\n",
      "15:52 madminer.fisherinfor INFO      Bin (1, 1): (0.00219 +/- 0.00074) fb (34 %)\n",
      "15:52 madminer.fisherinfor INFO      Bin (2, 3): (0.06935 +/- 0.01631) fb (24 %)\n",
      "15:52 madminer.fisherinfor INFO      Bin (4, 4): (0.00693 +/- 0.00146) fb (21 %)\n",
      "15:52 madminer.fisherinfor INFO      Bin (1, 4): (0.00029 +/- 0.00006) fb (20 %)\n"
     ]
    },
    {
     "name": "stdout",
     "output_type": "stream",
     "text": [
      "Histogram Fisher information after 30 ifb:\n",
      "[[6.07483039 0.22238568]\n",
      " [0.22238568 3.66862165]]\n"
     ]
    }
   ],
   "source": [
    "info_histo_2d, cov_histo_2d = fisher.histo_information_2d(\n",
    "    theta=[0.,0.],\n",
    "    luminosity=30000.,\n",
    "    observable1=\"pt_j1\",\n",
    "    bins1=[30.,100.,200.,400.],\n",
    "    histrange1=[30.,400.],\n",
    "    observable2=\"delta_phi_jj\",\n",
    "    bins2=5,\n",
    "    histrange2=[0.,6.2],\n",
    ")\n",
    "\n",
    "print('Histogram Fisher information after 30 ifb:\\n{}'.format(info_histo_2d))"
   ]
  },
  {
   "cell_type": "markdown",
   "metadata": {},
   "source": [
    "## 2. Plot Fisher distances"
   ]
  },
  {
   "cell_type": "markdown",
   "metadata": {},
   "source": [
    "We also provide a convenience function to plot contours of constant Fisher distance `d^2(theta, theta_ref) = I_ij(theta_ref) * (theta-theta_ref)_i * (theta-theta_ref)_j`:"
   ]
  },
  {
   "cell_type": "code",
   "execution_count": 12,
   "metadata": {
    "scrolled": true
   },
   "outputs": [
    {
     "data": {
      "image/png": "[encoded data removed]",
      "text/plain": [
       "<Figure size 360x360 with 1 Axes>"
      ]
     },
     "metadata": {
      "needs_background": "light"
     },
     "output_type": "display_data"
    }
   ],
   "source": [
    "_ = plot_fisher_information_contours_2d(\n",
    "    [fisher_information, info_histo_1d, info_histo_2d],\n",
    "    [None, cov_histo_1d, cov_histo_2d],\n",
    "    inline_labels=[\"SALLY\", \"1d\", \"2d\"],\n",
    "    xrange=(-2,2),\n",
    "    yrange=(-2,2)\n",
    ")"
   ]
  },
  {
   "cell_type": "code",
   "execution_count": null,
   "metadata": {},
   "outputs": [],
   "source": []
  }
 ],
 "metadata": {
  "kernelspec": {
   "display_name": "Python 2",
   "language": "python",
   "name": "python2"
  },
  "language_info": {
   "codemirror_mode": {
    "name": "ipython",
    "version": 2
   },
   "file_extension": ".py",
   "mimetype": "text/x-python",
   "name": "python",
   "nbconvert_exporter": "python",
   "pygments_lexer": "ipython2",
   "version": "2.7.12"
  }
 },
 "nbformat": 4,
 "nbformat_minor": 2
}
